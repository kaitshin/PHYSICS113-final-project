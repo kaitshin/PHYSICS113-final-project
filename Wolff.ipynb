{
 "cells": [
  {
   "cell_type": "code",
   "execution_count": 1,
   "metadata": {},
   "outputs": [],
   "source": [
    "from matplotlib import pyplot as plt\n",
    "from IPython import display\n",
    "import numpy as np\n",
    "import random\n",
    "from matplotlib import colors\n",
    "from __future__ import division\n",
    "import copy\n",
    "\n",
    "%matplotlib inline"
   ]
  },
  {
   "cell_type": "code",
   "execution_count": 2,
   "metadata": {},
   "outputs": [],
   "source": [
    "test = 1*np.ones((30,30))\n",
    "T = 1000\n",
    "test_boltz = {\"4.0\" : np.exp(-8/T), \"2.0\" : np.exp(-4/T)}\n",
    "init = test[:,:]\n",
    "random.seed(1)"
   ]
  },
  {
   "cell_type": "code",
   "execution_count": 3,
   "metadata": {},
   "outputs": [],
   "source": [
    "N = 30\n",
    "init = np.reshape([random.choice([1, -1]) for k in range(N*N)], (N,N))"
   ]
  },
  {
   "cell_type": "code",
   "execution_count": 4,
   "metadata": {},
   "outputs": [],
   "source": [
    "X = np.shape(init)[1]\n",
    "Y = np.shape(init)[0]\n",
    "N = X * Y\n",
    "\n",
    "# treats the 2D array into a 1D array (\"flattened\") to find the neighboring indexes \n",
    "# neighbors are directly above, below, or next to the point and wraps around\n",
    "# format: \n",
    "#   {index: [neighbor to the \"left\", neighbor to the \"right\", neighbor \"below\", neighbor \"above\"]}\n",
    "neighboring_iis = {i : [(i//X)*X + (i-1)%X, (i//X)*X + (i+1)%X,\n",
    "                        (i+X)%N, (i-X)%N] for i in range(N)}\n",
    "\n",
    "grid = init[:]\n",
    "n = 1000\n",
    "for i in range(n): # iterating over steps\n",
    "    s = np.random.randint(N) # choose a random spin s in the grid\n",
    "    # look at its neighbors in neighboring_iis, and check that its spins are the same as s\n",
    "    # if its spins are the same, add to the cluster with probability 1-np.exp(-2*J/T)\n",
    "    \n",
    "    # after above process is done, flip the spins in the cluster\n",
    "    # by multiplying those iis in the grid by -1\n",
    "    \n",
    "    # plot the updated wolff grid"
   ]
  }
 ],
 "metadata": {
  "kernelspec": {
   "display_name": "Python 2",
   "language": "python",
   "name": "python2"
  },
  "language_info": {
   "codemirror_mode": {
    "name": "ipython",
    "version": 2
   },
   "file_extension": ".py",
   "mimetype": "text/x-python",
   "name": "python",
   "nbconvert_exporter": "python",
   "pygments_lexer": "ipython2",
   "version": "2.7.13"
  }
 },
 "nbformat": 4,
 "nbformat_minor": 2
}
