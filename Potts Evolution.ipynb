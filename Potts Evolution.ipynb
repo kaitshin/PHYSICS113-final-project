{
 "cells": [
  {
   "cell_type": "code",
   "execution_count": 1,
   "metadata": {},
   "outputs": [],
   "source": [
    "from matplotlib import pyplot as plt\n",
    "from IPython import display\n",
    "import numpy as np\n",
    "import random\n",
    "from matplotlib import colors\n",
    "import copy\n",
    "import time\n",
    "import scipy.optimize\n",
    "import datetime\n",
    "\n",
    "%matplotlib inline"
   ]
  },
  {
   "cell_type": "code",
   "execution_count": 2,
   "metadata": {},
   "outputs": [],
   "source": [
    "# assumes periodic BCs\n",
    "def metropolis_potts(init, q, boltz):\n",
    "    \"\"\"Returns a grid evolved one step in the q-state Potts model using the Metropolis algorithm\"\"\"\n",
    "    \n",
    "    grid = copy.copy(init)\n",
    "    \n",
    "    X = np.shape(grid)[1]\n",
    "    Y = np.shape(grid)[0]\n",
    "    \n",
    "    # randomly choose new state\n",
    "    new_state = random.randint(1,q)\n",
    "    \n",
    "    # select random spin from the input spin grid\n",
    "    x = random.choice(range(X))\n",
    "    y = random.choice(range(Y))\n",
    "    \n",
    "    # randomly choose new state excluding current one\n",
    "    states = [i for i in range(1, q+1)]\n",
    "    states = np.delete(states, grid[y,x]-1)\n",
    "    new_state = np.random.choice(states)\n",
    "    \n",
    "    # checking the energy cost\n",
    "    energy_i = potts_energy_spin(grid, [y,x])\n",
    "    energy_f = potts_energy_spin(grid, [y,x], new_state)\n",
    "    \n",
    "    d_energy = int(energy_f - energy_i)\n",
    "    \n",
    "    # applying the metropolis algorithm\n",
    "    if d_energy <= 0:\n",
    "        grid[y,x] = new_state\n",
    "        \n",
    "    elif random.uniform(0,1) < boltz[str(d_energy)]:\n",
    "        grid[y,x] = new_state\n",
    "        \n",
    "    else:\n",
    "        d_energy = 0\n",
    "        \n",
    "\n",
    "    return [grid, d_energy]"
   ]
  },
  {
   "cell_type": "code",
   "execution_count": 3,
   "metadata": {},
   "outputs": [],
   "source": [
    "def met_sweep(init, q, boltz):\n",
    "    grid = copy.copy(init)\n",
    "    \n",
    "    X = np.shape(grid)[1]\n",
    "    Y = np.shape(grid)[0]\n",
    "    \n",
    "    for j in range(X):\n",
    "        for i in range(Y):\n",
    "            # select random spin from the input spin grid\n",
    "            x = random.choice(range(X))\n",
    "            y = random.choice(range(Y))\n",
    "            \n",
    "            # randomly choose new state excluding current one\n",
    "            states = [i for i in range(1, q+1)]\n",
    "            states = np.delete(states, grid[y,x]-1)\n",
    "            new_state = np.random.choice(states)\n",
    "\n",
    "            # checking the energy cost\n",
    "            energy_i = potts_energy_spin(grid, [y,x])\n",
    "            energy_f = potts_energy_spin(grid, [y,x], new_state)\n",
    "\n",
    "            d_energy = int(energy_f - energy_i)\n",
    "\n",
    "            # applying the metropolis algorithm\n",
    "            if d_energy <= 0:\n",
    "                grid[y,x] = new_state\n",
    "\n",
    "            elif random.uniform(0,1) < boltz[str(d_energy)]:\n",
    "                grid[y,x] = new_state\n",
    "\n",
    "\n",
    "    return grid"
   ]
  },
  {
   "cell_type": "code",
   "execution_count": 4,
   "metadata": {},
   "outputs": [],
   "source": [
    "# assumes periodic boundary condition\n",
    "def heatbath_potts(init, q, boltz):\n",
    "    \"\"\"Returns a grid evolved one step in the q-state Potts model using the heat-bath algorithm\"\"\"\n",
    "    \n",
    "    grid = copy.copy(init)\n",
    "    \n",
    "    X = np.shape(grid)[1]\n",
    "    Y = np.shape(grid)[0]\n",
    "    \n",
    "    # select random spin from the input spin grid\n",
    "    x = random.choice(range(X))\n",
    "    y = random.choice(range(Y))\n",
    "    \n",
    "    \n",
    "    # compute the relevant energies for the heat-bath algorithm (only nearest neighbor interactions)\n",
    "    # we only want to compute the energies that are non-zero\n",
    "    check = []\n",
    "    check.append(grid[(y+1) % Y, x])\n",
    "    check.append(grid[(y-1) % Y, x])\n",
    "    check.append(grid[y % Y, (x+1) % X])\n",
    "    check.append(grid[y % Y, (x-1) % X])\n",
    "    check = list(set(check))\n",
    "    \n",
    "    \n",
    "    \n",
    "    # initialize the probabilities to 1 because the zero energies have boltzmann factor equal to 1\n",
    "    probs = np.ones(q)\n",
    "    \n",
    "    # replace the appropriate elements with the boltzman factors; note that order in probs is important!\n",
    "    for c in check:\n",
    "        e = potts_energy_spin(grid, [y,x], c)\n",
    "        probs[c-1] = boltz[str(e)]\n",
    "        \n",
    "    probs = np.array(probs)/np.sum(probs)   \n",
    "    \n",
    "    new_state = np.random.choice(range(1, q+1), p = probs)\n",
    "    \n",
    "    grid[y,x] = new_state\n",
    "    \n",
    "    return grid\n",
    "\n",
    "    "
   ]
  },
  {
   "cell_type": "code",
   "execution_count": 5,
   "metadata": {},
   "outputs": [],
   "source": [
    "# assumes periodic boundary condition\n",
    "def heatbath_sweep(init, q, boltz):\n",
    "    \"\"\"Returns a grid evolved one sweep in the q-state Potts model using the heat-bath algorithm\"\"\"\n",
    "    \n",
    "    grid = copy.copy(init)\n",
    "    \n",
    "    X = np.shape(grid)[1]\n",
    "    Y = np.shape(grid)[0]\n",
    "    \n",
    "    for j in range(Y):\n",
    "        for i in range(X):\n",
    "            # select random spin from the input spin grid\n",
    "            x = random.choice(range(X))\n",
    "            y = random.choice(range(Y))\n",
    "\n",
    "\n",
    "            # compute the relevant energies for the heat-bath algorithm (only nearest neighbor interactions)\n",
    "            # we only want to compute the energies that are non-zero\n",
    "            check = []\n",
    "            check.append(grid[(y+1) % Y, x])\n",
    "            check.append(grid[(y-1) % Y, x])\n",
    "            check.append(grid[y % Y, (x+1) % X])\n",
    "            check.append(grid[y % Y, (x-1) % X])\n",
    "            check = list(set(check))\n",
    "\n",
    "            # initialize the probabilities to 1 because the zero energies have boltzmann factor equal to 1\n",
    "            probs = np.ones(q)\n",
    "\n",
    "            # replace the appropriate elements with the boltzman factors; note that order in probs is important!\n",
    "            for c in check:\n",
    "                e = potts_energy_spin(grid, [y,x], c)\n",
    "                probs[c-1] = boltz[str(e)]\n",
    "\n",
    "            probs = np.array(probs)/np.sum(probs)   \n",
    "\n",
    "            new_state = np.random.choice(range(1, q+1), p = probs)\n",
    "\n",
    "            grid[y,x] = new_state\n",
    "    \n",
    "    return grid\n",
    "\n",
    "    "
   ]
  },
  {
   "cell_type": "code",
   "execution_count": 6,
   "metadata": {},
   "outputs": [],
   "source": [
    "def potts_energy_spin(init, spin, q = None):\n",
    "    \"\"\"Compute the energy of a spin on a Potts lattice\"\"\"\n",
    "    \n",
    "    grid = copy.copy(init)\n",
    "    \n",
    "    X = np.shape(grid)[1]\n",
    "    Y = np.shape(grid)[0]\n",
    "    \n",
    "    x = spin[1]\n",
    "    y = spin[0]\n",
    "    \n",
    "    # allows you to change the value of the spin in question\n",
    "    if q is not None:\n",
    "        grid[y,x] = q\n",
    "    \n",
    "    energy = 0\n",
    "    \n",
    "    if grid[y, (x + 1) % X] == grid[y,x]:\n",
    "        energy += -1\n",
    "\n",
    "    if grid[y, (x - 1) % X] == grid[y,x]:\n",
    "        energy += -1\n",
    "\n",
    "    if grid[(y + 1) % Y, x] == grid[y,x]:\n",
    "        energy += -1\n",
    "\n",
    "    if grid[(y - 1) % Y, x] == grid[y,x]:\n",
    "        energy += -1\n",
    "    \n",
    "    return energy\n",
    "    \n",
    "    \n",
    "    "
   ]
  },
  {
   "cell_type": "code",
   "execution_count": 7,
   "metadata": {},
   "outputs": [],
   "source": [
    "def potts_energy(init):\n",
    "    \"\"\"Computes the energy of a Potts grid\"\"\"\n",
    "    \n",
    "    grid = copy.copy(init)\n",
    "    \n",
    "    X = np.shape(grid)[1]\n",
    "    Y = np.shape(grid)[0]\n",
    "    \n",
    "    energy = 0\n",
    "    \n",
    "    for i in range(Y):\n",
    "        for j in range(X):\n",
    "            spin_energy = potts_energy_spin(init, [i,j])\n",
    "            energy += spin_energy\n",
    "            \n",
    "    return energy/2\n",
    "    \n",
    "    "
   ]
  },
  {
   "cell_type": "code",
   "execution_count": 8,
   "metadata": {},
   "outputs": [],
   "source": [
    "def potts_mag(init, roots):\n",
    "    \"\"\"Computes the magnetization of a Potts grid using a list of roots of unity\"\"\"\n",
    "    \n",
    "    grid = copy.copy(init)\n",
    "    \n",
    "    X = np.shape(grid)[1]\n",
    "    Y = np.shape(grid)[0]\n",
    "    \n",
    "    mag = 0\n",
    "    \n",
    "    for i in range(Y):\n",
    "        for j in range(X):\n",
    "            d_mag = roots[grid[i,j]-1]\n",
    "            mag += d_mag\n",
    "            \n",
    "    mag = abs(mag)\n",
    "            \n",
    "    return mag"
   ]
  },
  {
   "cell_type": "code",
   "execution_count": 9,
   "metadata": {},
   "outputs": [],
   "source": [
    "def plot_potts(grid, title = '', cmap = plt.cm.coolwarm):\n",
    "    \"\"\"Plot a Potts grid using a color map\"\"\"\n",
    "    \n",
    "    fig, ax = plt.subplots(figsize=(8,8))\n",
    "    plt.imshow(grid, cmap=cmap)\n",
    "    plt.colorbar()\n",
    "    \n",
    "    plt.title(title, fontsize=20)\n",
    "    ax.tick_params(axis='x', which='both', bottom=False, top=False, labelbottom=False)\n",
    "    ax.tick_params(axis='y', which='both', left=False, right=False, labelleft=False)"
   ]
  },
  {
   "cell_type": "code",
   "execution_count": 2,
   "metadata": {},
   "outputs": [],
   "source": [
    "x_values = np.arange(0, 900*1000, 100)/900"
   ]
  },
  {
   "cell_type": "code",
   "execution_count": 103,
   "metadata": {},
   "outputs": [],
   "source": [
    "ones = np.random.randint(1, 11, (30, 30))\n",
    "grid1 = copy.copy(ones)\n",
    "grid2 = copy.copy(ones)\n",
    "\n",
    "T = 0.4\n",
    "boltz = {'-1' : np.exp(1/T), '-2' : np.exp(2/T), '-3' : np.exp(3/T), '-4' : np.exp(4/T)}\n",
    "met_boltz = {'1' : np.exp(-1/T), '2' : np.exp(-2/T), '3' : np.exp(-3/T), '4' : np.exp(-4/T)}"
   ]
  },
  {
   "cell_type": "code",
   "execution_count": 83,
   "metadata": {},
   "outputs": [
    {
     "name": "stdout",
     "output_type": "stream",
     "text": [
      "Sweep 100.0; 11.122299671173096 seconds\n",
      "Sweep 200.0; 22.294695615768433 seconds\n",
      "Sweep 300.0; 33.106995582580566 seconds\n",
      "Sweep 400.0; 43.85283160209656 seconds\n",
      "Sweep 500.0; 54.723660469055176 seconds\n",
      "Sweep 600.0; 65.83107948303223 seconds\n",
      "Sweep 700.0; 76.74704337120056 seconds\n",
      "Sweep 800.0; 87.67094349861145 seconds\n",
      "Sweep 900.0; 98.35825157165527 seconds\n",
      "Sweep 1000.0; 109.07085585594177 seconds\n"
     ]
    }
   ],
   "source": [
    "energy_list = []\n",
    "energy_list_met = []\n",
    "\n",
    "start = time.time()\n",
    "for i in range(900*1000):\n",
    "    output1 = heatbath_potts(grid1, 10, boltz)\n",
    "    output2 = metropolis_potts(grid2, 10, met_boltz)[0]\n",
    "    \n",
    "    if ((i + 1) % 100) == 0:\n",
    "        energy_list.append(potts_energy(output1))\n",
    "        energy_list_met.append(potts_energy(output2))\n",
    "\n",
    "    grid1 = output1\n",
    "    grid2 = output2\n",
    "    \n",
    "    if ((i+1) % 90000) == 0: \n",
    "        tick = time.time()\n",
    "        print(f'Sweep {(i+1)/900}; {tick-start} seconds')\n",
    "    \n",
    "energy_list = np.array(energy_list)/900\n",
    "energy_list_met = np.array(energy_list_met)/900\n",
    "\n"
   ]
  },
  {
   "cell_type": "code",
   "execution_count": 85,
   "metadata": {},
   "outputs": [],
   "source": [
    "np.save('potts30_t05_heatbath10.npy', energy_list)\n",
    "np.save('potts30_t05_met10.npy', energy_list_met)"
   ]
  },
  {
   "cell_type": "code",
   "execution_count": 113,
   "metadata": {},
   "outputs": [],
   "source": [
    "ones = np.random.randint(1, 3, (30, 30))\n",
    "grid1 = copy.copy(ones)\n",
    "grid2 = copy.copy(ones)\n",
    "\n",
    "T = 0.4\n",
    "boltz = {'-1' : np.exp(1/T), '-2' : np.exp(2/T), '-3' : np.exp(3/T), '-4' : np.exp(4/T)}\n",
    "met_boltz = {'1' : np.exp(-1/T), '2' : np.exp(-2/T), '3' : np.exp(-3/T), '4' : np.exp(-4/T)}"
   ]
  },
  {
   "cell_type": "code",
   "execution_count": 114,
   "metadata": {},
   "outputs": [
    {
     "name": "stdout",
     "output_type": "stream",
     "text": [
      "Sweep 100.0; 11.096011877059937 seconds\n",
      "Sweep 200.0; 21.803655862808228 seconds\n",
      "Sweep 300.0; 32.45574760437012 seconds\n",
      "Sweep 400.0; 43.03492784500122 seconds\n",
      "Sweep 500.0; 53.67858815193176 seconds\n",
      "Sweep 600.0; 64.38176846504211 seconds\n",
      "Sweep 700.0; 75.44405245780945 seconds\n",
      "Sweep 800.0; 86.32132840156555 seconds\n",
      "Sweep 900.0; 97.03938794136047 seconds\n",
      "Sweep 1000.0; 107.7460401058197 seconds\n"
     ]
    }
   ],
   "source": [
    "energy_listq3 = []\n",
    "energy_list_metq3 = []\n",
    "\n",
    "start = time.time()\n",
    "for i in range(900*1000):\n",
    "    output1 = heatbath_potts(grid1, 2, boltz)\n",
    "    output2 = metropolis_potts(grid2, 2, met_boltz)[0]\n",
    "    \n",
    "    if ((i + 1) % 100) == 0:\n",
    "        energy_listq3.append(potts_energy(output1))\n",
    "        energy_list_metq3.append(potts_energy(output2))\n",
    "\n",
    "    grid1 = output1\n",
    "    grid2 = output2\n",
    "    \n",
    "    if ((i+1) % 90000) == 0: \n",
    "        tick = time.time()\n",
    "        print(f'Sweep {(i+1)/900}; {tick-start} seconds')\n",
    "    \n",
    "energy_listq3 = np.array(energy_listq3)/900\n",
    "energy_list_metq3 = np.array(energy_list_metq3)/900\n"
   ]
  },
  {
   "cell_type": "code",
   "execution_count": 118,
   "metadata": {},
   "outputs": [],
   "source": [
    "np.save('potts30_t05_heatbath2.npy', energy_listq3)\n",
    "np.save('potts30_t05_met2.npy', energy_list_metq3)"
   ]
  },
  {
   "cell_type": "code",
   "execution_count": 5,
   "metadata": {},
   "outputs": [
    {
     "data": {
      "image/png": "[encoded data removed]",
      "text/plain": [
       "<matplotlib.figure.Figure at 0x1915f7919e8>"
      ]
     },
     "metadata": {},
     "output_type": "display_data"
    }
   ],
   "source": [
    "fig = plt.figure(figsize = (6,8))\n",
    "\n",
    "\n",
    "fig.add_subplot(2, 1, 1)\n",
    "plt.plot(x_values, energy_list)\n",
    "plt.plot(x_values, energy_list_met)\n",
    "plt.tick_params(axis='both', which='major', labelsize = 10)\n",
    "plt.xlabel(\"Sweeps\", fontsize=14)\n",
    "plt.ylabel(\"Energy per spin [arbitrary]\", fontsize=14)\n",
    "\n",
    "fig.add_subplot(2, 1, 2)\n",
    "plt.plot(x_values, energy_listq3)\n",
    "plt.plot(x_values, energy_list_metq3)\n",
    "plt.tick_params(axis='both', which='major', labelsize = 10)\n",
    "plt.xlabel(\"Sweeps\", fontsize=14)\n",
    "plt.ylabel(\"Energy per spin [arbitrary]\", fontsize=14)\n",
    "\n",
    "plt.savefig('potts_equil.pdf', bbox_inches = 'tight')"
   ]
  },
  {
   "cell_type": "code",
   "execution_count": null,
   "metadata": {},
   "outputs": [],
   "source": []
  },
  {
   "cell_type": "code",
   "execution_count": 11,
   "metadata": {},
   "outputs": [],
   "source": [
    "init = np.random.randint(1, 6, (30, 30))\n",
    "grid = copy.copy(init)\n",
    "\n",
    "T = 0.2\n",
    "boltz = {'-1' : np.exp(1/T), '-2' : np.exp(2/T), '-3' : np.exp(3/T), '-4' : np.exp(4/T)}"
   ]
  },
  {
   "cell_type": "code",
   "execution_count": 14,
   "metadata": {},
   "outputs": [
    {
     "ename": "RuntimeError",
     "evalue": "No mappable was found to use for colorbar creation. First define a mappable such as an image (with imshow) or a contour set (with contourf).",
     "output_type": "error",
     "traceback": [
      "\u001b[1;31m---------------------------------------------------------------------------\u001b[0m",
      "\u001b[1;31mRuntimeError\u001b[0m                              Traceback (most recent call last)",
      "\u001b[1;32m<ipython-input-14-240147d92d8b>\u001b[0m in \u001b[0;36m<module>\u001b[1;34m()\u001b[0m\n\u001b[0;32m     12\u001b[0m     \u001b[0max\u001b[0m\u001b[1;33m.\u001b[0m\u001b[0mtick_params\u001b[0m\u001b[1;33m(\u001b[0m\u001b[0maxis\u001b[0m\u001b[1;33m=\u001b[0m\u001b[1;34m'y'\u001b[0m\u001b[1;33m,\u001b[0m \u001b[0mwhich\u001b[0m\u001b[1;33m=\u001b[0m\u001b[1;34m'both'\u001b[0m\u001b[1;33m,\u001b[0m \u001b[0mleft\u001b[0m\u001b[1;33m=\u001b[0m\u001b[1;32mFalse\u001b[0m\u001b[1;33m,\u001b[0m \u001b[0mright\u001b[0m\u001b[1;33m=\u001b[0m\u001b[1;32mFalse\u001b[0m\u001b[1;33m,\u001b[0m \u001b[0mlabelleft\u001b[0m\u001b[1;33m=\u001b[0m\u001b[1;32mFalse\u001b[0m\u001b[1;33m)\u001b[0m\u001b[1;33m\u001b[0m\u001b[0m\n\u001b[0;32m     13\u001b[0m \u001b[1;33m\u001b[0m\u001b[0m\n\u001b[1;32m---> 14\u001b[1;33m \u001b[0mplt\u001b[0m\u001b[1;33m.\u001b[0m\u001b[0mcolorbar\u001b[0m\u001b[1;33m(\u001b[0m\u001b[1;33m)\u001b[0m\u001b[1;33m\u001b[0m\u001b[0m\n\u001b[0m\u001b[0;32m     15\u001b[0m \u001b[1;33m\u001b[0m\u001b[0m\n\u001b[0;32m     16\u001b[0m \u001b[1;31m#plt.savefig('4 Temps.pdf', bbox_inches='tight')\u001b[0m\u001b[1;33m\u001b[0m\u001b[1;33m\u001b[0m\u001b[0m\n",
      "\u001b[1;32m~\\Anaconda3\\lib\\site-packages\\matplotlib\\pyplot.py\u001b[0m in \u001b[0;36mcolorbar\u001b[1;34m(mappable, cax, ax, **kw)\u001b[0m\n\u001b[0;32m   2192\u001b[0m         \u001b[0mmappable\u001b[0m \u001b[1;33m=\u001b[0m \u001b[0mgci\u001b[0m\u001b[1;33m(\u001b[0m\u001b[1;33m)\u001b[0m\u001b[1;33m\u001b[0m\u001b[0m\n\u001b[0;32m   2193\u001b[0m         \u001b[1;32mif\u001b[0m \u001b[0mmappable\u001b[0m \u001b[1;32mis\u001b[0m \u001b[1;32mNone\u001b[0m\u001b[1;33m:\u001b[0m\u001b[1;33m\u001b[0m\u001b[0m\n\u001b[1;32m-> 2194\u001b[1;33m             raise RuntimeError('No mappable was found to use for colorbar '\n\u001b[0m\u001b[0;32m   2195\u001b[0m                                \u001b[1;34m'creation. First define a mappable such as '\u001b[0m\u001b[1;33m\u001b[0m\u001b[0m\n\u001b[0;32m   2196\u001b[0m                                \u001b[1;34m'an image (with imshow) or a contour set ('\u001b[0m\u001b[1;33m\u001b[0m\u001b[0m\n",
      "\u001b[1;31mRuntimeError\u001b[0m: No mappable was found to use for colorbar creation. First define a mappable such as an image (with imshow) or a contour set (with contourf)."
     ]
    },
    {
     "data": {
      "image/png": "[encoded data removed]",
      "text/plain": [
       "<matplotlib.figure.Figure at 0x237228d30b8>"
      ]
     },
     "metadata": {},
     "output_type": "display_data"
    }
   ],
   "source": [
    "f, axes = plt.subplots(2,2)\n",
    "f.set_size_inches(8,8)\n",
    "plt.tight_layout(pad=0, w_pad=-1, h_pad=-1)\n",
    "\n",
    "axarr = np.ndarray.flatten(axes)\n",
    "\n",
    "for ax, num in zip(axarr, range(4)):\n",
    "    for i in range(500):\n",
    "        grid = heatbath_sweep(grid, 5, boltz)\n",
    "    ax.imshow(grid, cmap = plt.cm.coolwarm)\n",
    "    ax.tick_params(axis='x', which='both', bottom=False, top=False, labelbottom=False)\n",
    "    ax.tick_params(axis='y', which='both', left=False, right=False, labelleft=False)\n",
    "    \n",
    "plt.colorbar()\n",
    "    \n",
    "#plt.savefig('4 Temps.pdf', bbox_inches='tight')"
   ]
  },
  {
   "cell_type": "code",
   "execution_count": null,
   "metadata": {},
   "outputs": [],
   "source": []
  }
 ],
 "metadata": {
  "kernelspec": {
   "display_name": "Python 3",
   "language": "python",
   "name": "python3"
  },
  "language_info": {
   "codemirror_mode": {
    "name": "ipython",
    "version": 3
   },
   "file_extension": ".py",
   "mimetype": "text/x-python",
   "name": "python",
   "nbconvert_exporter": "python",
   "pygments_lexer": "ipython3",
   "version": "3.6.4"
  }
 },
 "nbformat": 4,
 "nbformat_minor": 2
}
