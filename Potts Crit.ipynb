{
 "cells": [
  {
   "cell_type": "code",
   "execution_count": 1,
   "metadata": {},
   "outputs": [],
   "source": [
    "from matplotlib import pyplot as plt\n",
    "from IPython import display\n",
    "import numpy as np\n",
    "import random\n",
    "from matplotlib import colors\n",
    "import copy\n",
    "import time\n",
    "import scipy.optimize\n",
    "import datetime\n",
    "\n",
    "%matplotlib inline"
   ]
  },
  {
   "cell_type": "code",
   "execution_count": 34,
   "metadata": {},
   "outputs": [],
   "source": [
    "def spec_heat_ps(energy_list, T, N):\n",
    "    \"\"\"Compute the specific heat per spin for an input list of energy values at temperature T and lattice sites N\"\"\"\n",
    "    \n",
    "    if type(energy_list) is list:\n",
    "        energy_list = np.array(energy_list)\n",
    "    \n",
    "    c = (1/(T**2 * N)) * np.var(energy_list)\n",
    "    \n",
    "    return c\n",
    "\n",
    "def sus(mag_list, T, N):\n",
    "    \"\"\"Compute susceptibility for an input list of magnetization values at temperature T and lattice sites N\"\"\"\n",
    "    \n",
    "    if type(mag_list) is list:\n",
    "        mag_list = np.array(mag_list)\n",
    "    \n",
    "    chi = (1/(T*N)) * np.var(mag_list)\n",
    "    \n",
    "    return chi\n",
    "\n",
    "def bootstrap_mean(values, n):\n",
    "    \"\"\"Uses the bootstrap method to compute the error in the mean of a given list of values\"\"\"\n",
    "    \n",
    "    ns = len(values)\n",
    "    \n",
    "    means = np.zeros(n)\n",
    "    \n",
    "    for i in range(n):\n",
    "        samples = np.random.choice(values, ns)\n",
    "        means[i] = np.mean(samples)\n",
    "    \n",
    "    error = np.std(means)\n",
    "    \n",
    "    return error\n",
    "    \n",
    "    \n",
    "    \n",
    "    \n",
    "def bootstrap_c(energies, T, N, n):\n",
    "    \"\"\"Uses bootstrap to compute the error in the specific heat for an input set of energies\"\"\"\n",
    "    \n",
    "    ns = len(energies)\n",
    "    \n",
    "    values = np.zeros(n)\n",
    "    \n",
    "    for i in range(n):\n",
    "        samples = np.random.choice(energies, ns)\n",
    "        values[i] = spec_heat_ps(samples, T, N)\n",
    "        \n",
    "    error = np.std(values)\n",
    "    \n",
    "    return error\n",
    "\n",
    "\n",
    "\n",
    "\n",
    "\n",
    "def bootstrap_s(magps, T, N, n):\n",
    "    \"\"\"Uses bootstrap to compute the error in the susceptibility for an input set of magnetization\"\"\"\n",
    "    \n",
    "    ns = len(magps)\n",
    "    \n",
    "    values = np.zeros(n)\n",
    "    \n",
    "    for i in range(n):\n",
    "        samples = np.random.choice(magps, ns)\n",
    "        values[i] = sus(samples, T, N)\n",
    "    \n",
    "    error = np.std(values)\n",
    "    \n",
    "    return error\n",
    "        "
   ]
  },
  {
   "cell_type": "code",
   "execution_count": 15,
   "metadata": {},
   "outputs": [],
   "source": [
    "def power(x, a, b, c):\n",
    "    return a*((b-x)/b)**c"
   ]
  },
  {
   "cell_type": "code",
   "execution_count": 4,
   "metadata": {},
   "outputs": [],
   "source": [
    "enepsv1 = np.load('Potts_eneps25v1.npy')\n",
    "spec_heatv1 = np.load('Potts_spec_heat25v1.npy')\n",
    "magpsv1 = np.load('Potts_magps25v1.npy')\n",
    "mag_susv1 = np.load('Potts_magsus25v1.npy')\n",
    "ene_dictv1 = np.load('Potts_ene_dict25.npy')[()]\n",
    "mag_dictv1 = np.load('Potts_mag_dict25.npy')[()]"
   ]
  },
  {
   "cell_type": "markdown",
   "metadata": {},
   "source": [
    "# Computing Error"
   ]
  },
  {
   "cell_type": "code",
   "execution_count": 35,
   "metadata": {},
   "outputs": [],
   "source": [
    "keys = list(mag_dictv1.keys())"
   ]
  },
  {
   "cell_type": "code",
   "execution_count": 37,
   "metadata": {},
   "outputs": [],
   "source": [
    "mag_errors = []\n",
    "\n",
    "for k in keys:\n",
    "    mag_errors.append(bootstrap_mean(mag_dictv1[k], 1000))\n",
    "    \n",
    "mag_errors = np.array(mag_errors)/625"
   ]
  },
  {
   "cell_type": "code",
   "execution_count": 39,
   "metadata": {},
   "outputs": [],
   "source": [
    "mtest_error = np.delete(mag_errors, 48)"
   ]
  },
  {
   "cell_type": "code",
   "execution_count": 40,
   "metadata": {},
   "outputs": [],
   "source": [
    "sus_errors = []\n",
    "\n",
    "for k in keys:\n",
    "    sus_errors.append(bootstrap_s(mag_dictv1[k], float(k), 625, 1000))"
   ]
  },
  {
   "cell_type": "code",
   "execution_count": 41,
   "metadata": {},
   "outputs": [],
   "source": [
    "sh_errors = []\n",
    "\n",
    "for k in keys:\n",
    "    sh_errors.append(bootstrap_c(ene_dictv1[k], float(k), 625, 1000))"
   ]
  },
  {
   "cell_type": "markdown",
   "metadata": {},
   "source": [
    "# Computing Exponents"
   ]
  },
  {
   "cell_type": "markdown",
   "metadata": {},
   "source": [
    "## Magnetization"
   ]
  },
  {
   "cell_type": "code",
   "execution_count": 10,
   "metadata": {},
   "outputs": [],
   "source": [
    "temps = [i for i in np.arange(0.5, 1.51, 0.01)]"
   ]
  },
  {
   "cell_type": "code",
   "execution_count": 25,
   "metadata": {},
   "outputs": [],
   "source": [
    "mag_test = np.delete(magpsv1, 48)\n",
    "temp_test = np.delete(temps, 48)"
   ]
  },
  {
   "cell_type": "code",
   "execution_count": 51,
   "metadata": {},
   "outputs": [
    {
     "data": {
      "text/plain": [
       "Text(0,0.5,'Magnetization')"
      ]
     },
     "execution_count": 51,
     "metadata": {},
     "output_type": "execute_result"
    },
    {
     "data": {
      "image/png": "[encoded data removed]",
      "text/plain": [
       "<matplotlib.figure.Figure at 0x22a991193c8>"
      ]
     },
     "metadata": {},
     "output_type": "display_data"
    }
   ],
   "source": [
    "plt.figure(figsize=(7,7)) \n",
    "plt.plot(temp_test[:49], mag_test[:49], 'bo', markersize = 5)\n",
    "plt.xlabel(\"Temperature\", fontsize=20)\n",
    "plt.ylabel(\"Magnetization\", fontsize=20)"
   ]
  },
  {
   "cell_type": "code",
   "execution_count": 50,
   "metadata": {},
   "outputs": [
    {
     "name": "stderr",
     "output_type": "stream",
     "text": [
      "C:\\Users\\Newton\\Anaconda3\\lib\\site-packages\\ipykernel_launcher.py:2: RuntimeWarning: invalid value encountered in power\n",
      "  \n"
     ]
    },
    {
     "data": {
      "text/plain": [
       "(array([1.14169925, 1.00177867, 0.09625896]),\n",
       " array([[8.72655753e-04, 1.82730864e-04, 4.15030063e-04],\n",
       "        [1.82730864e-04, 6.05419669e-05, 9.61250118e-05],\n",
       "        [4.15030063e-04, 9.61250118e-05, 2.02415923e-04]]))"
      ]
     },
     "execution_count": 50,
     "metadata": {},
     "output_type": "execute_result"
    }
   ],
   "source": [
    "scipy.optimize.curve_fit(power, temp_test[35:49], mag_test[35:49], p0 = [1, 1.1, 0.1], sigma = mtest_error[35:49], maxfev=10000)"
   ]
  },
  {
   "cell_type": "code",
   "execution_count": 56,
   "metadata": {},
   "outputs": [
    {
     "name": "stderr",
     "output_type": "stream",
     "text": [
      "C:\\Users\\Newton\\Anaconda3\\lib\\site-packages\\ipykernel_launcher.py:2: RuntimeWarning: invalid value encountered in power\n",
      "  \n"
     ]
    },
    {
     "data": {
      "text/plain": [
       "(array([1.14703244, 1.00305732, 0.0991277 ]),\n",
       " array([[0.00434894, 0.00065461, 0.00182483],\n",
       "        [0.00065461, 0.00013336, 0.00029268],\n",
       "        [0.00182483, 0.00029268, 0.00077754]]))"
      ]
     },
     "execution_count": 56,
     "metadata": {},
     "output_type": "execute_result"
    }
   ],
   "source": [
    "scipy.optimize.curve_fit(power, temp_test[39:49], mag_test[39:49], p0 = [1, 1.1, 0.1], sigma = mtest_error[39:49], maxfev=10000)"
   ]
  },
  {
   "cell_type": "markdown",
   "metadata": {},
   "source": [
    "## Susceptibility"
   ]
  },
  {
   "cell_type": "code",
   "execution_count": 63,
   "metadata": {},
   "outputs": [
    {
     "data": {
      "text/plain": [
       "Text(0,0.5,'Susceptibility')"
      ]
     },
     "execution_count": 63,
     "metadata": {},
     "output_type": "execute_result"
    },
    {
     "data": {
      "image/png": "[encoded data removed]",
      "text/plain": [
       "<matplotlib.figure.Figure at 0x22a997baef0>"
      ]
     },
     "metadata": {},
     "output_type": "display_data"
    }
   ],
   "source": [
    "plt.figure(figsize=(7,7)) \n",
    "plt.plot(temps[:49], mag_susv1[:49], 'bo', markersize = 5)\n",
    "plt.xlabel(\"Temperature\", fontsize=20)\n",
    "plt.ylabel(\"Susceptibility\", fontsize=20)"
   ]
  },
  {
   "cell_type": "code",
   "execution_count": 64,
   "metadata": {},
   "outputs": [
    {
     "data": {
      "text/plain": [
       "(array([ 0.00355529,  0.99044928, -1.78405376]),\n",
       " array([[ 2.82077205e-05, -3.91851118e-05,  3.12324205e-03],\n",
       "        [-3.91851118e-05,  6.20477840e-05, -4.49862622e-03],\n",
       "        [ 3.12324205e-03, -4.49862622e-03,  3.50166585e-01]]))"
      ]
     },
     "execution_count": 64,
     "metadata": {},
     "output_type": "execute_result"
    }
   ],
   "source": [
    "scipy.optimize.curve_fit(power, temps[40:49], mag_susv1[40:49], p0 = [1, 1, 1.4], sigma = sus_errors[40:49], maxfev=10000)"
   ]
  },
  {
   "cell_type": "code",
   "execution_count": 70,
   "metadata": {},
   "outputs": [
    {
     "data": {
      "text/plain": [
       "(array([ 0.00592789,  0.98842924, -1.59736655]),\n",
       " array([[ 5.65857331e-05, -4.44766007e-05,  3.66887310e-03],\n",
       "        [-4.44766007e-05,  4.06333308e-05, -3.00330645e-03],\n",
       "        [ 3.66887310e-03, -3.00330645e-03,  2.41363844e-01]]))"
      ]
     },
     "execution_count": 70,
     "metadata": {},
     "output_type": "execute_result"
    }
   ],
   "source": [
    "scipy.optimize.curve_fit(power, temps[39:49], mag_susv1[39:49], p0 = [1, 1, 1.4], sigma = sus_errors[39:49], maxfev=10000)"
   ]
  },
  {
   "cell_type": "code",
   "execution_count": null,
   "metadata": {},
   "outputs": [],
   "source": []
  },
  {
   "cell_type": "code",
   "execution_count": 71,
   "metadata": {},
   "outputs": [
    {
     "data": {
      "text/plain": [
       "Text(0,0.5,'Susceptibility')"
      ]
     },
     "execution_count": 71,
     "metadata": {},
     "output_type": "execute_result"
    },
    {
     "data": {
      "image/png": "[encoded data removed]",
      "text/plain": [
       "<matplotlib.figure.Figure at 0x22a975e76d8>"
      ]
     },
     "metadata": {},
     "output_type": "display_data"
    }
   ],
   "source": [
    "plt.figure(figsize=(7,7)) \n",
    "plt.plot(temps[50:], mag_susv1[50:], 'bo', markersize = 5)\n",
    "plt.xlabel(\"Temperature\", fontsize=20)\n",
    "plt.ylabel(\"Susceptibility\", fontsize=20)"
   ]
  },
  {
   "cell_type": "code",
   "execution_count": null,
   "metadata": {},
   "outputs": [],
   "source": []
  }
 ],
 "metadata": {
  "kernelspec": {
   "display_name": "Python 3",
   "language": "python",
   "name": "python3"
  },
  "language_info": {
   "codemirror_mode": {
    "name": "ipython",
    "version": 3
   },
   "file_extension": ".py",
   "mimetype": "text/x-python",
   "name": "python",
   "nbconvert_exporter": "python",
   "pygments_lexer": "ipython3",
   "version": "3.6.4"
  }
 },
 "nbformat": 4,
 "nbformat_minor": 2
}
