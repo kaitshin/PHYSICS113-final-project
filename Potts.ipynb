{
 "cells": [
  {
   "cell_type": "code",
   "execution_count": 1,
   "metadata": {},
   "outputs": [],
   "source": [
    "from matplotlib import pyplot as plt\n",
    "from IPython import display\n",
    "import numpy as np\n",
    "import random\n",
    "from matplotlib import colors\n",
    "import copy\n",
    "import time\n",
    "import scipy.optimize\n",
    "\n",
    "%matplotlib inline"
   ]
  },
  {
   "cell_type": "code",
   "execution_count": 2,
   "metadata": {},
   "outputs": [],
   "source": [
    "# assumes periodic BCs\n",
    "def metropolis_potts(init, q, boltz):\n",
    "    \"\"\"Returns a grid evolved one step in the q-state Potts model using the Metropolis algorithm\"\"\"\n",
    "    \n",
    "    grid = copy.copy(init)\n",
    "    \n",
    "    X = np.shape(grid)[1]\n",
    "    Y = np.shape(grid)[0]\n",
    "    \n",
    "    # randomly choose new state\n",
    "    new_state = random.randint(1,q)\n",
    "    \n",
    "    # select random spin from the input spin grid\n",
    "    x = random.choice(range(X))\n",
    "    y = random.choice(range(Y))\n",
    "    \n",
    "    # checking the energy cost\n",
    "    energy_i = potts_energy_spin(grid, [y,x])\n",
    "    energy_f = potts_energy_spin(grid, [y,x], new_state)\n",
    "    \n",
    "    d_energy = int(energy_f - energy_i)\n",
    "    \n",
    "    # applying the metropolis algorithm\n",
    "    if d_energy <= 0:\n",
    "        grid[y,x] = new_state\n",
    "        \n",
    "    elif random.uniform(0,1) < boltz[str(d_energy)]:\n",
    "        grid[y,x] = new_state\n",
    "        \n",
    "    else:\n",
    "        d_energy = 0\n",
    "        \n",
    "\n",
    "    return [grid, d_energy]"
   ]
  },
  {
   "cell_type": "code",
   "execution_count": 3,
   "metadata": {},
   "outputs": [],
   "source": [
    "# assumes periodic boundary condition\n",
    "def heatbath_potts(init, q, boltz):\n",
    "    \"\"\"Returns a grid evolved one step in the q-state Potts model using the heat-bath algorithm\"\"\"\n",
    "    \n",
    "    grid = copy.copy(init)\n",
    "    \n",
    "    X = np.shape(grid)[1]\n",
    "    Y = np.shape(grid)[0]\n",
    "    \n",
    "    # select random spin from the input spin grid\n",
    "    x = random.choice(range(X))\n",
    "    y = random.choice(range(Y))\n",
    "    \n",
    "    \n",
    "    # compute the relevant energies for the heat-bath algorithm (only nearest neighbor interactions)\n",
    "    # we only want to compute the energies that are non-zero\n",
    "    check = []\n",
    "    check.append(grid[(y+1) % Y, x])\n",
    "    check.append(grid[(y-1) % Y, x])\n",
    "    check.append(grid[y % Y, (x+1) % X])\n",
    "    check.append(grid[y % Y, (x-1) % X])\n",
    "    check = list(set(check))\n",
    "    \n",
    "    \n",
    "    \n",
    "    # initialize the probabilities to 1 because the zero energies have boltzmann factor equal to 1\n",
    "    probs = np.ones(q)\n",
    "    \n",
    "    # replace the appropriate elements with the boltzman factors; note that order in probs is important!\n",
    "    for c in check:\n",
    "        e = potts_energy_spin(grid, [y,x], c)\n",
    "        probs[c-1] = boltz[str(e)]\n",
    "        \n",
    "    probs = np.array(probs)/np.sum(probs)   \n",
    "    \n",
    "    new_state = np.random.choice(range(1, q+1), p = probs)\n",
    "    \n",
    "    grid[y,x] = new_state\n",
    "    \n",
    "    return grid\n",
    "\n",
    "    "
   ]
  },
  {
   "cell_type": "code",
   "execution_count": 6,
   "metadata": {},
   "outputs": [],
   "source": [
    "def potts_energy_spin(init, spin, q = None):\n",
    "    \"\"\"Compute the energy of a spin on a Potts lattice\"\"\"\n",
    "    \n",
    "    grid = copy.copy(init)\n",
    "    \n",
    "    X = np.shape(grid)[1]\n",
    "    Y = np.shape(grid)[0]\n",
    "    \n",
    "    x = spin[1]\n",
    "    y = spin[0]\n",
    "    \n",
    "    # allows you to change the value of the spin in question\n",
    "    if q is not None:\n",
    "        grid[y,x] = q\n",
    "    \n",
    "    energy = 0\n",
    "    \n",
    "    if grid[y, (x + 1) % X] == grid[y,x]:\n",
    "        energy += -1\n",
    "\n",
    "    if grid[y, (x - 1) % X] == grid[y,x]:\n",
    "        energy += -1\n",
    "\n",
    "    if grid[(y + 1) % Y, x] == grid[y,x]:\n",
    "        energy += -1\n",
    "\n",
    "    if grid[(y - 1) % Y, x] == grid[y,x]:\n",
    "        energy += -1\n",
    "    \n",
    "    return energy\n",
    "    \n",
    "    \n",
    "    "
   ]
  },
  {
   "cell_type": "code",
   "execution_count": 7,
   "metadata": {},
   "outputs": [],
   "source": [
    "def potts_energy(init):\n",
    "    \"\"\"Computes the energy of a Potts grid\"\"\"\n",
    "    \n",
    "    grid = copy.copy(init)\n",
    "    \n",
    "    X = np.shape(grid)[1]\n",
    "    Y = np.shape(grid)[0]\n",
    "    \n",
    "    energy = 0\n",
    "    \n",
    "    for i in range(Y):\n",
    "        for j in range(X):\n",
    "            spin_energy = potts_energy_spin(init, [i,j])\n",
    "            energy += spin_energy\n",
    "            \n",
    "    return energy/2\n",
    "    \n",
    "    "
   ]
  },
  {
   "cell_type": "code",
   "execution_count": 8,
   "metadata": {},
   "outputs": [],
   "source": [
    "def plot_potts(grid, title = '', cmap = plt.cm.coolwarm):\n",
    "    \"\"\"Plot a Potts grid using a color map\"\"\"\n",
    "    \n",
    "    fig, ax = plt.subplots(figsize=(8,8))\n",
    "    plt.imshow(grid, cmap=cmap)\n",
    "    plt.colorbar()\n",
    "    \n",
    "    plt.title(title, fontsize=20)\n",
    "    ax.tick_params(axis='x', which='both', bottom=False, top=False, labelbottom=False)\n",
    "    ax.tick_params(axis='y', which='both', left=False, right=False, labelleft=False)"
   ]
  },
  {
   "cell_type": "code",
   "execution_count": 54,
   "metadata": {},
   "outputs": [],
   "source": [
    "random.seed(2)\n",
    "init = np.random.randint(1, 11, (20, 20))\n",
    "test = copy.copy(init)\n",
    "\n",
    "T = 0.5\n",
    "boltz = {'-1' : np.exp(1/T), '-2' : np.exp(2/T), '-3' : np.exp(3/T), '-4' : np.exp(4/T)}"
   ]
  },
  {
   "cell_type": "code",
   "execution_count": 34,
   "metadata": {},
   "outputs": [
    {
     "name": "stdout",
     "output_type": "stream",
     "text": [
      "Sweep 50.0; 21.649895668029785 seconds\n",
      "Sweep 100.0; 48.16802978515625 seconds\n",
      "Sweep 150.0; 76.37305998802185 seconds\n",
      "Sweep 200.0; 104.564697265625 seconds\n",
      "Sweep 250.0; 132.81783866882324 seconds\n",
      "Sweep 300.0; 163.28115582466125 seconds\n",
      "Sweep 350.0; 193.4354648590088 seconds\n",
      "Sweep 400.0; 224.01930975914001 seconds\n",
      "Sweep 450.0; 254.2023868560791 seconds\n",
      "Sweep 500.0; 285.28619956970215 seconds\n",
      "Sweep 550.0; 316.0580279827118 seconds\n",
      "Sweep 600.0; 347.2464964389801 seconds\n",
      "Sweep 650.0; 378.4478614330292 seconds\n",
      "Sweep 700.0; 408.7990822792053 seconds\n",
      "Sweep 750.0; 438.9583513736725 seconds\n",
      "Sweep 800.0; 469.66272377967834 seconds\n",
      "Sweep 850.0; 500.3239459991455 seconds\n",
      "Sweep 900.0; 531.1825737953186 seconds\n",
      "Sweep 950.0; 562.7519698143005 seconds\n",
      "Sweep 1000.0; 593.5327272415161 seconds\n"
     ]
    }
   ],
   "source": [
    "energy_list = []\n",
    "\n",
    "start = time.time()\n",
    "for i in range(400*1000):\n",
    "    output = heatbath_potts(test, 10, boltz)\n",
    "    energy_list.append(potts_energy(output))\n",
    "    test = output\n",
    "    if ((i+1) % 20000) == 0: \n",
    "        tick = time.time()\n",
    "        print(f'Sweep {(i+1)/400}; {tick-start} seconds')\n",
    "    \n",
    "energy_list = np.array(energy_list)/400\n",
    "\n",
    "#np.save('potts20_heatbath1000.npy', energy_list)"
   ]
  },
  {
   "cell_type": "code",
   "execution_count": 55,
   "metadata": {},
   "outputs": [],
   "source": [
    "met_boltz = {'1' : np.exp(-1/T), '2' : np.exp(-2/T), '3' : np.exp(-3/T), '4' : np.exp(-4/T)}"
   ]
  },
  {
   "cell_type": "code",
   "execution_count": 56,
   "metadata": {},
   "outputs": [
    {
     "name": "stdout",
     "output_type": "stream",
     "text": [
      "Sweep 50.0; 28.977301120758057 seconds\n",
      "Sweep 100.0; 57.517130851745605 seconds\n",
      "Sweep 150.0; 85.46622490882874 seconds\n",
      "Sweep 200.0; 113.76301431655884 seconds\n",
      "Sweep 250.0; 142.3137559890747 seconds\n",
      "Sweep 300.0; 170.98105716705322 seconds\n",
      "Sweep 350.0; 199.14095091819763 seconds\n",
      "Sweep 400.0; 227.5706684589386 seconds\n",
      "Sweep 450.0; 256.0445303916931 seconds\n",
      "Sweep 500.0; 284.6949677467346 seconds\n",
      "Sweep 550.0; 313.0641734600067 seconds\n",
      "Sweep 600.0; 341.5965631008148 seconds\n",
      "Sweep 650.0; 369.9920566082001 seconds\n",
      "Sweep 700.0; 398.62513422966003 seconds\n",
      "Sweep 750.0; 427.54341173171997 seconds\n",
      "Sweep 800.0; 455.74199318885803 seconds\n",
      "Sweep 850.0; 484.11566281318665 seconds\n",
      "Sweep 900.0; 512.5295088291168 seconds\n",
      "Sweep 950.0; 540.9116101264954 seconds\n",
      "Sweep 1000.0; 569.8750236034393 seconds\n"
     ]
    }
   ],
   "source": [
    "energy_list_met = []\n",
    "\n",
    "start = time.time()\n",
    "for i in range(400*1000):\n",
    "    output = metropolis_potts(test, 10, met_boltz)[0]\n",
    "    energy_list_met.append(potts_energy(output))\n",
    "    test = output\n",
    "    if ((i+1) % 20000) == 0: \n",
    "        tick = time.time()\n",
    "        print(f'Sweep {(i+1)/400}; {tick-start} seconds')\n",
    "        \n",
    "energy_list_met = np.array(energy_list_met)/400\n",
    "\n",
    "#np.save('potts20_met1000.npy', energy_list_met)"
   ]
  },
  {
   "cell_type": "code",
   "execution_count": 19,
   "metadata": {},
   "outputs": [],
   "source": [
    "x_values = np.array([i for i in range(1,400*1000+1)])/400"
   ]
  },
  {
   "cell_type": "code",
   "execution_count": 57,
   "metadata": {},
   "outputs": [
    {
     "data": {
      "image/png": "[encoded data removed]",
      "text/plain": [
       "<matplotlib.figure.Figure at 0x1f2991408d0>"
      ]
     },
     "metadata": {},
     "output_type": "display_data"
    }
   ],
   "source": [
    "plt.plot(x_values, energy_list)\n",
    "plt.plot(x_values,energy_list_met)\n",
    "plt.title('Energy per spin', fontsize = 20)\n",
    "plt.xlabel(\"t (sweeps)\", fontsize=20)\n",
    "plt.ylabel(\"Energy\", fontsize=20)\n",
    "plt.tight_layout()"
   ]
  },
  {
   "cell_type": "code",
   "execution_count": 339,
   "metadata": {},
   "outputs": [],
   "source": [
    "random.seed(1)\n",
    "init3 = np.random.randint(1, 4, (20, 20))\n",
    "test3 = copy.copy(init3)\n",
    "\n",
    "T = 0.5\n",
    "boltz = {'-1' : np.exp(1/T), '-2' : np.exp(2/T), '-3' : np.exp(3/T), '-4' : np.exp(4/T)}"
   ]
  },
  {
   "cell_type": "code",
   "execution_count": 335,
   "metadata": {},
   "outputs": [
    {
     "name": "stdout",
     "output_type": "stream",
     "text": [
      "Sweep 50.0; 21.67469596862793 seconds\n",
      "Sweep 100.0; 42.98979139328003 seconds\n",
      "Sweep 150.0; 64.0340723991394 seconds\n",
      "Sweep 200.0; 85.33528017997742 seconds\n",
      "Sweep 250.0; 106.42420077323914 seconds\n",
      "Sweep 300.0; 127.53544092178345 seconds\n",
      "Sweep 350.0; 148.63775300979614 seconds\n",
      "Sweep 400.0; 169.72816133499146 seconds\n",
      "Sweep 450.0; 191.00754570960999 seconds\n",
      "Sweep 500.0; 214.37508940696716 seconds\n",
      "Sweep 550.0; 238.94245600700378 seconds\n",
      "Sweep 600.0; 260.24366426467896 seconds\n",
      "Sweep 650.0; 281.44716024398804 seconds\n",
      "Sweep 700.0; 302.8059046268463 seconds\n"
     ]
    }
   ],
   "source": [
    "energy_list_q3 = []\n",
    "\n",
    "start = time.time()\n",
    "for i in range(400*700):\n",
    "    output3 = heatbath_potts(test3, 3, boltz)\n",
    "    energy_list_q3.append(potts_energy(output3))\n",
    "    test3 = output3\n",
    "    if ((i+1) % 20000) == 0: \n",
    "        tick = time.time()\n",
    "        print(f'Sweep {(i+1)/400}; {tick-start} seconds')\n",
    "    \n",
    "energy_list_q3 = np.array(energy_list_q3)/400\n",
    "\n",
    "# np.save('potts20_heatbath_q3.npy', energy_list_q3)"
   ]
  },
  {
   "cell_type": "code",
   "execution_count": 340,
   "metadata": {},
   "outputs": [
    {
     "name": "stdout",
     "output_type": "stream",
     "text": [
      "Sweep 50.0; 19.850408792495728 seconds\n",
      "Sweep 100.0; 39.7290894985199 seconds\n",
      "Sweep 150.0; 59.59090614318848 seconds\n",
      "Sweep 200.0; 79.5876350402832 seconds\n",
      "Sweep 250.0; 99.84228348731995 seconds\n",
      "Sweep 300.0; 122.00801920890808 seconds\n",
      "Sweep 350.0; 142.90945172309875 seconds\n",
      "Sweep 400.0; 163.29603624343872 seconds\n",
      "Sweep 450.0; 184.0690050125122 seconds\n",
      "Sweep 500.0; 204.2209813594818 seconds\n",
      "Sweep 550.0; 224.29161405563354 seconds\n",
      "Sweep 600.0; 244.63008666038513 seconds\n",
      "Sweep 650.0; 265.48737502098083 seconds\n",
      "Sweep 700.0; 286.0921995639801 seconds\n"
     ]
    }
   ],
   "source": [
    "energy_list_metq3 = []\n",
    "\n",
    "start = time.time()\n",
    "for i in range(400*700):\n",
    "    output3 = metropolis_potts(test3, 3, met_boltz)[0]\n",
    "    energy_list_metq3.append(potts_energy(output3))\n",
    "    test3 = output3\n",
    "    if ((i+1) % 20000) == 0: \n",
    "        tick = time.time()\n",
    "        print(f'Sweep {(i+1)/400}; {tick-start} seconds')\n",
    "        \n",
    "energy_list_metq3 = np.array(energy_list_metq3)/400\n",
    "\n",
    "# np.save('potts20_met_q3.npy', energy_list_metq3)"
   ]
  },
  {
   "cell_type": "code",
   "execution_count": 341,
   "metadata": {},
   "outputs": [
    {
     "data": {
      "image/png": "[encoded data removed]",
      "text/plain": [
       "<matplotlib.figure.Figure at 0x1567e090240>"
      ]
     },
     "metadata": {},
     "output_type": "display_data"
    }
   ],
   "source": [
    "plt.plot(x_values, energy_list_q3)\n",
    "plt.plot(x_values, energy_list_metq3)\n",
    "plt.title('Energy per spin', fontsize = 20)\n",
    "plt.xlabel(\"t (sweeps)\", fontsize=20)\n",
    "plt.ylabel(\"Energy\", fontsize=20)\n",
    "plt.tight_layout()"
   ]
  },
  {
   "cell_type": "code",
   "execution_count": 249,
   "metadata": {},
   "outputs": [],
   "source": [
    "temps = [i for i in np.arange(0.6, 1.4, 0.01)]\n",
    "init20 = np.random.randint(1, 4, (20, 20))"
   ]
  },
  {
   "cell_type": "code",
   "execution_count": 250,
   "metadata": {},
   "outputs": [],
   "source": [
    "n_eq = 400\n",
    "n = 400\n",
    "n1 = 1/(n * 20**2)\n",
    "n2 = 1/(n**2 * 20**2)\n",
    "\n",
    "eneps_list20 = np.zeros(len(temps))\n",
    "spec_heat20 = np.zeros(len(temps))"
   ]
  },
  {
   "cell_type": "code",
   "execution_count": 251,
   "metadata": {},
   "outputs": [
    {
     "name": "stdout",
     "output_type": "stream",
     "text": [
      "T = 0.6; 3.662959098815918 seconds\n",
      "T = 0.61; 7.393373727798462 seconds\n",
      "T = 0.62; 11.029052495956421 seconds\n",
      "T = 0.63; 14.62108325958252 seconds\n",
      "T = 0.64; 18.236425638198853 seconds\n",
      "T = 0.65; 21.790760278701782 seconds\n",
      "T = 0.66; 26.330646514892578 seconds\n",
      "T = 0.67; 29.97922134399414 seconds\n",
      "T = 0.68; 33.6912841796875 seconds\n",
      "T = 0.6900000000000001; 37.26297926902771 seconds\n",
      "T = 0.7000000000000001; 40.82227349281311 seconds\n",
      "T = 0.7100000000000001; 44.38702416419983 seconds\n",
      "T = 0.7200000000000001; 48.1551353931427 seconds\n",
      "T = 0.7300000000000001; 51.91034936904907 seconds\n",
      "T = 0.7400000000000001; 55.672508001327515 seconds\n",
      "T = 0.7500000000000001; 59.4693865776062 seconds\n",
      "T = 0.7600000000000001; 63.0758011341095 seconds\n",
      "T = 0.7700000000000001; 66.59343218803406 seconds\n",
      "T = 0.7800000000000001; 70.49347925186157 seconds\n",
      "T = 0.7900000000000001; 74.82901310920715 seconds\n",
      "T = 0.8000000000000002; 79.92838716506958 seconds\n",
      "T = 0.8100000000000002; 84.85515356063843 seconds\n",
      "T = 0.8200000000000002; 90.13953590393066 seconds\n",
      "T = 0.8300000000000002; 95.47550177574158 seconds\n",
      "T = 0.8400000000000002; 100.23263621330261 seconds\n",
      "T = 0.8500000000000002; 105.30770587921143 seconds\n",
      "T = 0.8600000000000002; 110.36045670509338 seconds\n",
      "T = 0.8700000000000002; 115.13594245910645 seconds\n",
      "T = 0.8800000000000002; 120.34890103340149 seconds\n",
      "T = 0.8900000000000002; 125.47357058525085 seconds\n",
      "T = 0.9000000000000002; 130.2936975955963 seconds\n",
      "T = 0.9100000000000003; 135.67132711410522 seconds\n",
      "T = 0.9200000000000003; 140.72457337379456 seconds\n",
      "T = 0.9300000000000003; 145.4851794242859 seconds\n",
      "T = 0.9400000000000003; 150.58455324172974 seconds\n",
      "T = 0.9500000000000003; 155.85008811950684 seconds\n",
      "T = 0.9600000000000003; 161.05858206748962 seconds\n",
      "T = 0.9700000000000003; 166.07958793640137 seconds\n",
      "T = 0.9800000000000003; 171.38083386421204 seconds\n",
      "T = 0.9900000000000003; 176.29024004936218 seconds\n",
      "T = 1.0000000000000004; 181.77203106880188 seconds\n",
      "T = 1.0100000000000002; 186.9671323299408 seconds\n",
      "T = 1.0200000000000005; 191.86314630508423 seconds\n",
      "T = 1.0300000000000002; 196.93176865577698 seconds\n",
      "T = 1.0400000000000005; 201.7633032798767 seconds\n",
      "T = 1.0500000000000003; 207.42067694664001 seconds\n",
      "T = 1.0600000000000005; 212.69464302062988 seconds\n",
      "T = 1.0700000000000003; 217.82526516914368 seconds\n",
      "T = 1.0800000000000005; 223.28820729255676 seconds\n",
      "T = 1.0900000000000003; 228.51306915283203 seconds\n",
      "T = 1.1000000000000005; 233.7428913116455 seconds\n",
      "T = 1.1100000000000003; 239.12200951576233 seconds\n",
      "T = 1.1200000000000006; 244.19856762886047 seconds\n",
      "T = 1.1300000000000003; 249.59256505966187 seconds\n",
      "T = 1.1400000000000006; 255.03913974761963 seconds\n",
      "T = 1.1500000000000004; 260.25606513023376 seconds\n",
      "T = 1.1600000000000006; 265.5865755081177 seconds\n",
      "T = 1.1700000000000004; 270.459774017334 seconds\n",
      "T = 1.1800000000000006; 275.39546823501587 seconds\n",
      "T = 1.1900000000000004; 280.71109986305237 seconds\n",
      "T = 1.2000000000000006; 286.17354464530945 seconds\n",
      "T = 1.2100000000000004; 291.49165391921997 seconds\n",
      "T = 1.2200000000000006; 296.72941279411316 seconds\n",
      "T = 1.2300000000000004; 301.8853302001953 seconds\n",
      "T = 1.2400000000000007; 307.26246428489685 seconds\n",
      "T = 1.2500000000000004; 312.85238242149353 seconds\n",
      "T = 1.2600000000000007; 318.4512286186218 seconds\n",
      "T = 1.2700000000000005; 324.0500741004944 seconds\n",
      "T = 1.2800000000000007; 329.41828083992004 seconds\n",
      "T = 1.2900000000000005; 335.2933979034424 seconds\n",
      "T = 1.3000000000000007; 340.65069222450256 seconds\n",
      "T = 1.3100000000000005; 345.89589071273804 seconds\n",
      "T = 1.3200000000000007; 350.9863359928131 seconds\n",
      "T = 1.3300000000000005; 356.09414315223694 seconds\n",
      "T = 1.3400000000000007; 361.2396447658539 seconds\n",
      "T = 1.3500000000000005; 366.55973839759827 seconds\n",
      "T = 1.3600000000000008; 371.3357207775116 seconds\n",
      "T = 1.3700000000000006; 376.7103750705719 seconds\n",
      "T = 1.3800000000000008; 382.1648848056793 seconds\n",
      "T = 1.3900000000000006; 387.4601790904999 seconds\n"
     ]
    }
   ],
   "source": [
    "start = time.time()\n",
    "\n",
    "for i in range(len(temps)):\n",
    "    grid = copy.copy(init20)\n",
    "    T = temps[i]\n",
    "    met_boltz = {'1' : np.exp(-1/T), '2' : np.exp(-2/T), '3' : np.exp(-3/T), '4' : np.exp(-4/T)}\n",
    "    \n",
    "    for j in range(n_eq*400):\n",
    "        grid = metropolis_potts(grid, 3, met_boltz)[0]\n",
    "    \n",
    "    # initialize the totals that will be used to compute averages\n",
    "    e_total = 0\n",
    "    e2_total = 0\n",
    "    \n",
    "    # measurements to average\n",
    "    for k in range(1, n*400+1):\n",
    "        grid = metropolis_potts(grid, 3, met_boltz)[0]\n",
    "        \n",
    "        if (k % 400) == 0:\n",
    "            energy = potts_energy(grid)\n",
    "\n",
    "            e_total += energy\n",
    "            e2_total += energy*energy\n",
    "        \n",
    "    tick = time.time()\n",
    "    print(f'T = {T}; {tick - start} seconds')\n",
    "            \n",
    "    \n",
    "    # compute averages\n",
    "    eneps_list20[i] = n1*e_total\n",
    "    spec_heat20[i] = (n1*e2_total - n2*e_total*e_total)/(T*T)\n",
    " "
   ]
  },
  {
   "cell_type": "code",
   "execution_count": 253,
   "metadata": {},
   "outputs": [
    {
     "data": {
      "text/plain": [
       "Text(0,0.5,'Specific Heat per spin')"
      ]
     },
     "execution_count": 253,
     "metadata": {},
     "output_type": "execute_result"
    },
    {
     "data": {
      "image/png": "[encoded data removed]",
      "text/plain": [
       "<matplotlib.figure.Figure at 0x1f29c18c4a8>"
      ]
     },
     "metadata": {},
     "output_type": "display_data"
    }
   ],
   "source": [
    "fig = plt.figure(figsize=(18, 10)) # plot the calculated values    \n",
    "\n",
    "fig.add_subplot(2, 2, 1 )\n",
    "plt.plot(temps, eneps_list20, 'ro')\n",
    "plt.xlabel(\"Temperature\", fontsize=20)\n",
    "plt.ylabel(\"Energy per spin\", fontsize=20)\n",
    "\n",
    "fig.add_subplot(2, 2, 2 )\n",
    "plt.plot(temps, spec_heat20, 'ro')\n",
    "plt.xlabel(\"Temperature\", fontsize=20)\n",
    "plt.ylabel(\"Specific Heat per spin\", fontsize=20)"
   ]
  },
  {
   "cell_type": "code",
   "execution_count": 270,
   "metadata": {},
   "outputs": [],
   "source": [
    "temps = [i for i in np.arange(0.6, 1.4, 0.01)]\n",
    "init25 = np.random.randint(1, 4, (25, 25))"
   ]
  },
  {
   "cell_type": "code",
   "execution_count": 271,
   "metadata": {},
   "outputs": [],
   "source": [
    "n_eq = 500\n",
    "n = 500\n",
    "n1 = 1/(n * 25**2)\n",
    "n2 = 1/(n**2 * 25**2)\n",
    "\n",
    "eneps_list25 = np.zeros(len(temps))\n",
    "spec_heat25 = np.zeros(len(temps))"
   ]
  },
  {
   "cell_type": "code",
   "execution_count": 272,
   "metadata": {},
   "outputs": [],
   "source": [
    "start = time.time()\n",
    "\n",
    "for i in range(len(temps)):\n",
    "    grid = copy.copy(init25)\n",
    "    T = temps[i]\n",
    "    met_boltz = {'1' : np.exp(-1/T), '2' : np.exp(-2/T), '3' : np.exp(-3/T), '4' : np.exp(-4/T)}\n",
    "    \n",
    "    for j in range(n_eq*625):\n",
    "        grid = metropolis_potts(grid, 3, met_boltz)[0]\n",
    "    \n",
    "    # initialize the totals that will be used to compute averages\n",
    "    e_total = 0\n",
    "    e2_total = 0\n",
    "    \n",
    "    # measurements to average\n",
    "    for k in range(1, n*625+1):\n",
    "        grid = metropolis_potts(grid, 3, met_boltz)[0]\n",
    "        \n",
    "        if (k % 625) == 0:\n",
    "            energy = potts_energy(grid)\n",
    "\n",
    "            e_total += energy\n",
    "            e2_total += energy*energy\n",
    "    \n",
    "    \n",
    "    if (T  == 0.6) or (T == 0.9) or (T == 1.2) or (T == 1.4):\n",
    "        tick = time.time()\n",
    "        print(f'T = {T}; {tick - start} seconds')\n",
    "            \n",
    "    \n",
    "    # compute averages\n",
    "    eneps_list25[i] = n1*e_total\n",
    "    spec_heat25[i] = (n1*e2_total - n2*e_total*e_total)/(T*T)\n",
    " "
   ]
  },
  {
   "cell_type": "code",
   "execution_count": 273,
   "metadata": {},
   "outputs": [
    {
     "data": {
      "text/plain": [
       "Text(0,0.5,'Specific Heat per spin')"
      ]
     },
     "execution_count": 273,
     "metadata": {},
     "output_type": "execute_result"
    },
    {
     "data": {
      "image/png": "[encoded data removed]",
      "text/plain": [
       "<matplotlib.figure.Figure at 0x1f29c8a7c88>"
      ]
     },
     "metadata": {},
     "output_type": "display_data"
    }
   ],
   "source": [
    "fig = plt.figure(figsize=(18, 10)) # plot the calculated values    \n",
    "\n",
    "fig.add_subplot(2, 2, 1 )\n",
    "plt.plot(temps, eneps_list25, 'ro')\n",
    "plt.xlabel(\"Temperature\", fontsize=20)\n",
    "plt.ylabel(\"Energy per spin\", fontsize=20)\n",
    "\n",
    "fig.add_subplot(2, 2, 2 )\n",
    "plt.plot(temps, spec_heat25, 'ro')\n",
    "plt.xlabel(\"Temperature\", fontsize=20)\n",
    "plt.ylabel(\"Specific Heat per spin\", fontsize=20)"
   ]
  },
  {
   "cell_type": "code",
   "execution_count": 274,
   "metadata": {},
   "outputs": [],
   "source": [
    "np.save('Potts_eneps25.npy', eneps_list25)\n",
    "np.save('Potts_spec_heat25.npy', spec_heat25)"
   ]
  },
  {
   "cell_type": "code",
   "execution_count": null,
   "metadata": {},
   "outputs": [],
   "source": []
  },
  {
   "cell_type": "code",
   "execution_count": 299,
   "metadata": {},
   "outputs": [],
   "source": [
    "temps = [i for i in np.arange(0.6, 1.4, 0.01)]\n",
    "init15 = np.random.randint(1, 4, (15, 15))"
   ]
  },
  {
   "cell_type": "code",
   "execution_count": 300,
   "metadata": {},
   "outputs": [],
   "source": [
    "n_eq = 350\n",
    "n = 350\n",
    "n1 = 1/(n * 15**2)\n",
    "n2 = 1/(n**2 * 15**2)\n",
    "\n",
    "eneps_list15 = np.zeros(len(temps))\n",
    "spec_heat15 = np.zeros(len(temps))"
   ]
  },
  {
   "cell_type": "code",
   "execution_count": 301,
   "metadata": {},
   "outputs": [
    {
     "name": "stdout",
     "output_type": "stream",
     "text": [
      "T = 0.6; 1.6268794536590576 seconds\n",
      "T = 0.9000000000000002; 49.89857339859009 seconds\n",
      "T = 1.2000000000000006; 97.84439611434937 seconds\n"
     ]
    }
   ],
   "source": [
    "start = time.time()\n",
    "\n",
    "for i in range(len(temps)):\n",
    "    grid = copy.copy(init15)\n",
    "    T = temps[i]\n",
    "    met_boltz = {'1' : np.exp(-1/T), '2' : np.exp(-2/T), '3' : np.exp(-3/T), '4' : np.exp(-4/T)}\n",
    "    \n",
    "    for j in range(n_eq*225):\n",
    "        grid = metropolis_potts(grid, 3, met_boltz)[0]\n",
    "    \n",
    "    # initialize the totals that will be used to compute averages\n",
    "    e_total = 0\n",
    "    e2_total = 0\n",
    "    \n",
    "    # measurements to average\n",
    "    for k in range(1, n*225+1):\n",
    "        grid = metropolis_potts(grid, 3, met_boltz)[0]\n",
    "        \n",
    "        if (k % 225) == 0:\n",
    "            energy = potts_energy(grid)\n",
    "\n",
    "            e_total += energy\n",
    "            e2_total += energy*energy\n",
    "    \n",
    "    if (T  == 0.6) or (0.895 < T < 0.905) or (1.195 < T < 1.205) or (1.395 < T < 1.405):\n",
    "        tick = time.time()\n",
    "        print(f'T = {T}; {tick - start} seconds')\n",
    "            \n",
    "    \n",
    "    # compute averages\n",
    "    eneps_list15[i] = n1*e_total\n",
    "    spec_heat15[i] = (n1*e2_total - n2*e_total*e_total)/(T*T)\n",
    " "
   ]
  },
  {
   "cell_type": "code",
   "execution_count": 302,
   "metadata": {},
   "outputs": [
    {
     "data": {
      "text/plain": [
       "Text(0,0.5,'Specific Heat per spin')"
      ]
     },
     "execution_count": 302,
     "metadata": {},
     "output_type": "execute_result"
    },
    {
     "data": {
      "image/png": "[encoded data removed]",
      "text/plain": [
       "<matplotlib.figure.Figure at 0x1f29d36de48>"
      ]
     },
     "metadata": {},
     "output_type": "display_data"
    }
   ],
   "source": [
    "fig = plt.figure(figsize=(18, 10)) # plot the calculated values    \n",
    "\n",
    "fig.add_subplot(2, 2, 1 )\n",
    "plt.plot(temps, eneps_list15, 'ro')\n",
    "plt.xlabel(\"Temperature\", fontsize=20)\n",
    "plt.ylabel(\"Energy per spin\", fontsize=20)\n",
    "\n",
    "fig.add_subplot(2, 2, 2 )\n",
    "plt.plot(temps, spec_heat15, 'ro')\n",
    "plt.xlabel(\"Temperature\", fontsize=20)\n",
    "plt.ylabel(\"Specific Heat per spin\", fontsize=20)"
   ]
  },
  {
   "cell_type": "code",
   "execution_count": 303,
   "metadata": {},
   "outputs": [],
   "source": [
    "np.save('Potts_eneps15.npy', eneps_list15)\n",
    "np.save('Potts_spec_heat15.npy', spec_heat15)"
   ]
  },
  {
   "cell_type": "code",
   "execution_count": null,
   "metadata": {},
   "outputs": [],
   "source": []
  },
  {
   "cell_type": "code",
   "execution_count": 290,
   "metadata": {},
   "outputs": [],
   "source": [
    "temps = [i for i in np.arange(0.6, 1.4, 0.01)]\n",
    "init10 = np.random.randint(1, 4, (10, 10))"
   ]
  },
  {
   "cell_type": "code",
   "execution_count": 291,
   "metadata": {},
   "outputs": [],
   "source": [
    "n_eq = 300\n",
    "n = 300\n",
    "n1 = 1/(n * 10**2)\n",
    "n2 = 1/(n**2 * 10**2)\n",
    "\n",
    "eneps_list10 = np.zeros(len(temps))\n",
    "spec_heat10 = np.zeros(len(temps))"
   ]
  },
  {
   "cell_type": "code",
   "execution_count": 292,
   "metadata": {},
   "outputs": [],
   "source": [
    "start = time.time()\n",
    "\n",
    "for i in range(len(temps)):\n",
    "    grid = copy.copy(init10)\n",
    "    T = temps[i]\n",
    "    met_boltz = {'1' : np.exp(-1/T), '2' : np.exp(-2/T), '3' : np.exp(-3/T), '4' : np.exp(-4/T)}\n",
    "    \n",
    "    for j in range(n_eq*100):\n",
    "        grid = metropolis_potts(grid, 3, met_boltz)[0]\n",
    "    \n",
    "    # initialize the totals that will be used to compute averages\n",
    "    e_total = 0\n",
    "    e2_total = 0\n",
    "    \n",
    "    # measurements to average\n",
    "    for k in range(1, n*100+1):\n",
    "        grid = metropolis_potts(grid, 3, met_boltz)[0]\n",
    "        \n",
    "        if (k % 100) == 0:\n",
    "            energy = potts_energy(grid)\n",
    "\n",
    "            e_total += energy\n",
    "            e2_total += energy*energy\n",
    "    \n",
    "    if (T % 0.1) == 0:\n",
    "        tick = time.time()\n",
    "        print(f'T = {T}; {tick - start} seconds')\n",
    "            \n",
    "    \n",
    "    # compute averages\n",
    "    eneps_list10[i] = n1*e_total\n",
    "    spec_heat10[i] = (n1*e2_total - n2*e_total*e_total)/(T*T)\n",
    " "
   ]
  },
  {
   "cell_type": "code",
   "execution_count": 293,
   "metadata": {},
   "outputs": [
    {
     "data": {
      "text/plain": [
       "Text(0,0.5,'Specific Heat per spin')"
      ]
     },
     "execution_count": 293,
     "metadata": {},
     "output_type": "execute_result"
    },
    {
     "data": {
      "image/png": "[encoded data removed]",
      "text/plain": [
       "<matplotlib.figure.Figure at 0x1f29bb66550>"
      ]
     },
     "metadata": {},
     "output_type": "display_data"
    }
   ],
   "source": [
    "fig = plt.figure(figsize=(18, 10)) # plot the calculated values    \n",
    "\n",
    "fig.add_subplot(2, 2, 1 )\n",
    "plt.plot(temps, eneps_list10, 'ro')\n",
    "plt.xlabel(\"Temperature\", fontsize=20)\n",
    "plt.ylabel(\"Energy per spin\", fontsize=20)\n",
    "\n",
    "fig.add_subplot(2, 2, 2 )\n",
    "plt.plot(temps, spec_heat10, 'ro')\n",
    "plt.xlabel(\"Temperature\", fontsize=20)\n",
    "plt.ylabel(\"Specific Heat per spin\", fontsize=20)"
   ]
  },
  {
   "cell_type": "code",
   "execution_count": 298,
   "metadata": {},
   "outputs": [],
   "source": [
    "np.save('Potts_eneps10.npy', eneps_list10)\n",
    "np.save('Potts_spec_heat10.npy', spec_heat10)"
   ]
  },
  {
   "cell_type": "code",
   "execution_count": null,
   "metadata": {},
   "outputs": [],
   "source": []
  },
  {
   "cell_type": "code",
   "execution_count": 313,
   "metadata": {},
   "outputs": [],
   "source": [
    "temps = [i for i in np.arange(0.6, 1.4, 0.01)]\n",
    "init8 = np.random.randint(1, 4, (8, 8))"
   ]
  },
  {
   "cell_type": "code",
   "execution_count": 314,
   "metadata": {},
   "outputs": [],
   "source": [
    "n_eq = 300\n",
    "n = 300\n",
    "n1 = 1/(n * 8**2)\n",
    "n2 = 1/(n**2 * 8**2)\n",
    "\n",
    "eneps_list8 = np.zeros(len(temps))\n",
    "spec_heat8 = np.zeros(len(temps))"
   ]
  },
  {
   "cell_type": "code",
   "execution_count": 315,
   "metadata": {},
   "outputs": [
    {
     "name": "stdout",
     "output_type": "stream",
     "text": [
      "T = 0.6; 0.4285440444946289 seconds\n",
      "T = 0.9000000000000002; 12.387596130371094 seconds\n",
      "T = 1.2000000000000006; 24.31887125968933 seconds\n"
     ]
    }
   ],
   "source": [
    "start = time.time()\n",
    "\n",
    "for i in range(len(temps)):\n",
    "    grid = copy.copy(init8)\n",
    "    T = temps[i]\n",
    "    met_boltz = {'1' : np.exp(-1/T), '2' : np.exp(-2/T), '3' : np.exp(-3/T), '4' : np.exp(-4/T)}\n",
    "    \n",
    "    for j in range(n_eq*64):\n",
    "        grid = metropolis_potts(grid, 3, met_boltz)[0]\n",
    "    \n",
    "    # initialize the totals that will be used to compute averages\n",
    "    e_total = 0\n",
    "    e2_total = 0\n",
    "    \n",
    "    # measurements to average\n",
    "    for k in range(1, n*64+1):\n",
    "        grid = metropolis_potts(grid, 3, met_boltz)[0]\n",
    "        \n",
    "        if (k % 64) == 0:\n",
    "            energy = potts_energy(grid)\n",
    "\n",
    "            e_total += energy\n",
    "            e2_total += energy*energy\n",
    "    \n",
    "    if (T  == 0.6) or (0.895 < T < 0.905) or (1.195 < T < 1.205) or (1.395 < T < 1.405):\n",
    "        tick = time.time()\n",
    "        print(f'T = {T}; {tick - start} seconds')\n",
    "            \n",
    "    \n",
    "    # compute averages\n",
    "    eneps_list8[i] = n1*e_total\n",
    "    spec_heat8[i] = (n1*e2_total - n2*e_total*e_total)/(T*T)\n",
    " "
   ]
  },
  {
   "cell_type": "code",
   "execution_count": 316,
   "metadata": {},
   "outputs": [
    {
     "data": {
      "text/plain": [
       "Text(0,0.5,'Specific Heat per spin')"
      ]
     },
     "execution_count": 316,
     "metadata": {},
     "output_type": "execute_result"
    },
    {
     "data": {
      "image/png": "[encoded data removed]",
      "text/plain": [
       "<matplotlib.figure.Figure at 0x1f29d6036d8>"
      ]
     },
     "metadata": {},
     "output_type": "display_data"
    }
   ],
   "source": [
    "fig = plt.figure(figsize=(18, 10)) # plot the calculated values    \n",
    "\n",
    "fig.add_subplot(2, 2, 1 )\n",
    "plt.plot(temps, eneps_list8, 'ro')\n",
    "plt.xlabel(\"Temperature\", fontsize=20)\n",
    "plt.ylabel(\"Energy per spin\", fontsize=20)\n",
    "\n",
    "fig.add_subplot(2, 2, 2 )\n",
    "plt.plot(temps, spec_heat8, 'ro')\n",
    "plt.xlabel(\"Temperature\", fontsize=20)\n",
    "plt.ylabel(\"Specific Heat per spin\", fontsize=20)"
   ]
  },
  {
   "cell_type": "code",
   "execution_count": 317,
   "metadata": {},
   "outputs": [],
   "source": [
    "np.save('Potts_eneps8.npy', eneps_list8)\n",
    "np.save('Potts_spec_heat8.npy', spec_heat8)"
   ]
  },
  {
   "cell_type": "code",
   "execution_count": null,
   "metadata": {},
   "outputs": [],
   "source": []
  },
  {
   "cell_type": "code",
   "execution_count": 329,
   "metadata": {},
   "outputs": [
    {
     "data": {
      "text/plain": [
       "Text(0,0.5,'Specific Heat per spin')"
      ]
     },
     "execution_count": 329,
     "metadata": {},
     "output_type": "execute_result"
    },
    {
     "data": {
      "image/png": "[encoded data removed]",
      "text/plain": [
       "<matplotlib.figure.Figure at 0x1f29e554588>"
      ]
     },
     "metadata": {},
     "output_type": "display_data"
    }
   ],
   "source": [
    "plt.plot(temps[:40], spec_heat20[:40], 'ro')\n",
    "plt.xlabel(\"Temperature\", fontsize=20)\n",
    "plt.ylabel(\"Specific Heat per spin\", fontsize=20)"
   ]
  },
  {
   "cell_type": "code",
   "execution_count": 340,
   "metadata": {},
   "outputs": [],
   "source": [
    "def power(x, a, b, c):\n",
    "    return a*((b-x)/b)**c"
   ]
  },
  {
   "cell_type": "code",
   "execution_count": 326,
   "metadata": {},
   "outputs": [],
   "source": [
    "def logpower(x, a, b):\n",
    "    return -a*(np.log((b-x)/b))"
   ]
  },
  {
   "cell_type": "code",
   "execution_count": 343,
   "metadata": {},
   "outputs": [
    {
     "name": "stderr",
     "output_type": "stream",
     "text": [
      "C:\\Users\\Newton\\Anaconda3\\lib\\site-packages\\ipykernel_launcher.py:2: RuntimeWarning: invalid value encountered in log\n",
      "  \n"
     ]
    },
    {
     "data": {
      "text/plain": [
       "(array([0.13297553, 0.99000001]), array([[1.72595435e-02, 3.85751344e-08],\n",
       "        [3.85751344e-08, 1.27776036e-13]]))"
      ]
     },
     "execution_count": 343,
     "metadata": {},
     "output_type": "execute_result"
    }
   ],
   "source": [
    "scipy.optimize.curve_fit(logpower, temps[:40], spec_heat20[:40], p0 = [0.1, 1], maxfev=10000)"
   ]
  },
  {
   "cell_type": "code",
   "execution_count": null,
   "metadata": {},
   "outputs": [],
   "source": []
  },
  {
   "cell_type": "code",
   "execution_count": 348,
   "metadata": {},
   "outputs": [
    {
     "data": {
      "text/plain": [
       "[14, 17, 29, 40]"
      ]
     },
     "execution_count": 348,
     "metadata": {},
     "output_type": "execute_result"
    }
   ],
   "source": [
    "bad_i"
   ]
  },
  {
   "cell_type": "code",
   "execution_count": 351,
   "metadata": {},
   "outputs": [
    {
     "data": {
      "text/plain": [
       "3.1691445551494075"
      ]
     },
     "execution_count": 351,
     "metadata": {},
     "output_type": "execute_result"
    }
   ],
   "source": [
    "new_spec = list(copy.copy(spec_heat25))\n",
    "new_spec.pop(14)\n",
    "new_spec.pop(16)\n",
    "new_spec.pop(27)"
   ]
  },
  {
   "cell_type": "code",
   "execution_count": 363,
   "metadata": {},
   "outputs": [
    {
     "data": {
      "text/plain": [
       "0.8900000000000002"
      ]
     },
     "execution_count": 363,
     "metadata": {},
     "output_type": "execute_result"
    }
   ],
   "source": [
    "new_temps = list(copy.copy(temps))\n",
    "new_temps.pop(14)\n",
    "new_temps.pop(16)\n",
    "new_temps.pop(27)"
   ]
  },
  {
   "cell_type": "code",
   "execution_count": 366,
   "metadata": {},
   "outputs": [
    {
     "data": {
      "text/plain": [
       "Text(0,0.5,'Specific Heat per spin')"
      ]
     },
     "execution_count": 366,
     "metadata": {},
     "output_type": "execute_result"
    },
    {
     "data": {
      "image/png": "[encoded data removed]",
      "text/plain": [
       "<matplotlib.figure.Figure at 0x1f29ea44438>"
      ]
     },
     "metadata": {},
     "output_type": "display_data"
    }
   ],
   "source": [
    "plt.plot(new_temps[:38], new_spec[:38], 'ro')\n",
    "plt.xlabel(\"Temperature\", fontsize=20)\n",
    "plt.ylabel(\"Specific Heat per spin\", fontsize=20)"
   ]
  },
  {
   "cell_type": "code",
   "execution_count": 373,
   "metadata": {},
   "outputs": [
    {
     "name": "stderr",
     "output_type": "stream",
     "text": [
      "C:\\Users\\Newton\\Anaconda3\\lib\\site-packages\\ipykernel_launcher.py:2: RuntimeWarning: invalid value encountered in log\n",
      "  \n"
     ]
    },
    {
     "data": {
      "text/plain": [
       "(array([0.48639434, 0.98283827]), array([[2.30834288e-03, 1.07841670e-04],\n",
       "        [1.07841670e-04, 1.30925925e-05]]))"
      ]
     },
     "execution_count": 373,
     "metadata": {},
     "output_type": "execute_result"
    }
   ],
   "source": [
    "scipy.optimize.curve_fit(logpower, new_temps[0:36], new_spec[0:36], p0 = [0.1, 1.1], maxfev=10000)"
   ]
  },
  {
   "cell_type": "code",
   "execution_count": null,
   "metadata": {},
   "outputs": [],
   "source": []
  },
  {
   "cell_type": "code",
   "execution_count": 393,
   "metadata": {},
   "outputs": [
    {
     "data": {
      "text/plain": [
       "Text(0,0.5,'Specific Heat per spin')"
      ]
     },
     "execution_count": 393,
     "metadata": {},
     "output_type": "execute_result"
    },
    {
     "data": {
      "image/png": "[encoded data removed]",
      "text/plain": [
       "<matplotlib.figure.Figure at 0x1f2a103cb70>"
      ]
     },
     "metadata": {},
     "output_type": "display_data"
    }
   ],
   "source": [
    "plt.plot(new_temp15[:37], newspec15[:37], 'ro')\n",
    "plt.xlabel(\"Temperature\", fontsize=20)\n",
    "plt.ylabel(\"Specific Heat per spin\", fontsize=20)"
   ]
  },
  {
   "cell_type": "code",
   "execution_count": 380,
   "metadata": {},
   "outputs": [
    {
     "data": {
      "text/plain": [
       "5.714657650287646"
      ]
     },
     "execution_count": 380,
     "metadata": {},
     "output_type": "execute_result"
    }
   ],
   "source": [
    "newspec15 = list(copy.copy(spec_heat15))\n",
    "\n",
    "newspec15.pop(21)"
   ]
  },
  {
   "cell_type": "code",
   "execution_count": 381,
   "metadata": {},
   "outputs": [
    {
     "data": {
      "text/plain": [
       "0.8100000000000002"
      ]
     },
     "execution_count": 381,
     "metadata": {},
     "output_type": "execute_result"
    }
   ],
   "source": [
    "new_temp15 = copy.copy(temps)\n",
    "new_temp15.pop(21)"
   ]
  },
  {
   "cell_type": "code",
   "execution_count": 398,
   "metadata": {},
   "outputs": [
    {
     "name": "stderr",
     "output_type": "stream",
     "text": [
      "C:\\Users\\Newton\\Anaconda3\\lib\\site-packages\\ipykernel_launcher.py:2: RuntimeWarning: invalid value encountered in log\n",
      "  \n"
     ]
    },
    {
     "data": {
      "text/plain": [
       "(array([0.47497587, 1.00623257]), array([[2.24257529e-03, 2.42130705e-04],\n",
       "        [2.42130705e-04, 5.33834048e-05]]))"
      ]
     },
     "execution_count": 398,
     "metadata": {},
     "output_type": "execute_result"
    }
   ],
   "source": [
    "scipy.optimize.curve_fit(logpower, new_temp15[0:40], newspec15[0:40], p0 = [0.1, 1.1], maxfev=10000)"
   ]
  },
  {
   "cell_type": "code",
   "execution_count": null,
   "metadata": {},
   "outputs": [],
   "source": []
  }
 ],
 "metadata": {
  "kernelspec": {
   "display_name": "Python 3",
   "language": "python",
   "name": "python3"
  },
  "language_info": {
   "codemirror_mode": {
    "name": "ipython",
    "version": 3
   },
   "file_extension": ".py",
   "mimetype": "text/x-python",
   "name": "python",
   "nbconvert_exporter": "python",
   "pygments_lexer": "ipython3",
   "version": "3.6.4"
  }
 },
 "nbformat": 4,
 "nbformat_minor": 2
}
