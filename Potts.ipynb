{
 "cells": [
  {
   "cell_type": "code",
   "execution_count": 62,
   "metadata": {},
   "outputs": [],
   "source": [
    "from matplotlib import pyplot as plt\n",
    "from IPython import display\n",
    "import numpy as np\n",
    "import random\n",
    "from matplotlib import colors\n",
    "import copy\n",
    "import time\n",
    "import scipy.optimize\n",
    "import datetime\n",
    "\n",
    "%matplotlib inline"
   ]
  },
  {
   "cell_type": "code",
   "execution_count": 2,
   "metadata": {},
   "outputs": [],
   "source": [
    "# assumes periodic BCs\n",
    "def metropolis_potts(init, q, boltz):\n",
    "    \"\"\"Returns a grid evolved one step in the q-state Potts model using the Metropolis algorithm\"\"\"\n",
    "    \n",
    "    grid = copy.copy(init)\n",
    "    \n",
    "    X = np.shape(grid)[1]\n",
    "    Y = np.shape(grid)[0]\n",
    "    \n",
    "    # randomly choose new state\n",
    "    new_state = random.randint(1,q)\n",
    "    \n",
    "    # select random spin from the input spin grid\n",
    "    x = random.choice(range(X))\n",
    "    y = random.choice(range(Y))\n",
    "    \n",
    "    # checking the energy cost\n",
    "    energy_i = potts_energy_spin(grid, [y,x])\n",
    "    energy_f = potts_energy_spin(grid, [y,x], new_state)\n",
    "    \n",
    "    d_energy = int(energy_f - energy_i)\n",
    "    \n",
    "    # applying the metropolis algorithm\n",
    "    if d_energy <= 0:\n",
    "        grid[y,x] = new_state\n",
    "        \n",
    "    elif random.uniform(0,1) < boltz[str(d_energy)]:\n",
    "        grid[y,x] = new_state\n",
    "        \n",
    "    else:\n",
    "        d_energy = 0\n",
    "        \n",
    "\n",
    "    return [grid, d_energy]"
   ]
  },
  {
   "cell_type": "code",
   "execution_count": 3,
   "metadata": {},
   "outputs": [],
   "source": [
    "def met_sweep(init, q, boltz):\n",
    "    grid = copy.copy(init)\n",
    "    \n",
    "    X = np.shape(grid)[1]\n",
    "    Y = np.shape(grid)[0]\n",
    "    \n",
    "    for j in range(X):\n",
    "        for i in range(Y):\n",
    "            # select random spin from the input spin grid\n",
    "            x = random.choice(range(X))\n",
    "            y = random.choice(range(Y))\n",
    "            \n",
    "            # randomly choose new state excluding current one\n",
    "            states = [i for i in range(1, q+1)]\n",
    "            states = np.delete(states, grid[y,x]-1)\n",
    "            new_state = np.random.choice(states)\n",
    "\n",
    "            # checking the energy cost\n",
    "            energy_i = potts_energy_spin(grid, [y,x])\n",
    "            energy_f = potts_energy_spin(grid, [y,x], new_state)\n",
    "\n",
    "            d_energy = int(energy_f - energy_i)\n",
    "\n",
    "            # applying the metropolis algorithm\n",
    "            if d_energy <= 0:\n",
    "                grid[y,x] = new_state\n",
    "\n",
    "            elif random.uniform(0,1) < boltz[str(d_energy)]:\n",
    "                grid[y,x] = new_state\n",
    "\n",
    "\n",
    "    return grid"
   ]
  },
  {
   "cell_type": "code",
   "execution_count": 4,
   "metadata": {},
   "outputs": [],
   "source": [
    "# assumes periodic boundary condition\n",
    "def heatbath_potts(init, q, boltz):\n",
    "    \"\"\"Returns a grid evolved one step in the q-state Potts model using the heat-bath algorithm\"\"\"\n",
    "    \n",
    "    grid = copy.copy(init)\n",
    "    \n",
    "    X = np.shape(grid)[1]\n",
    "    Y = np.shape(grid)[0]\n",
    "    \n",
    "    # select random spin from the input spin grid\n",
    "    x = random.choice(range(X))\n",
    "    y = random.choice(range(Y))\n",
    "    \n",
    "    \n",
    "    # compute the relevant energies for the heat-bath algorithm (only nearest neighbor interactions)\n",
    "    # we only want to compute the energies that are non-zero\n",
    "    check = []\n",
    "    check.append(grid[(y+1) % Y, x])\n",
    "    check.append(grid[(y-1) % Y, x])\n",
    "    check.append(grid[y % Y, (x+1) % X])\n",
    "    check.append(grid[y % Y, (x-1) % X])\n",
    "    check = list(set(check))\n",
    "    \n",
    "    \n",
    "    \n",
    "    # initialize the probabilities to 1 because the zero energies have boltzmann factor equal to 1\n",
    "    probs = np.ones(q)\n",
    "    \n",
    "    # replace the appropriate elements with the boltzman factors; note that order in probs is important!\n",
    "    for c in check:\n",
    "        e = potts_energy_spin(grid, [y,x], c)\n",
    "        probs[c-1] = boltz[str(e)]\n",
    "        \n",
    "    probs = np.array(probs)/np.sum(probs)   \n",
    "    \n",
    "    new_state = np.random.choice(range(1, q+1), p = probs)\n",
    "    \n",
    "    grid[y,x] = new_state\n",
    "    \n",
    "    return grid\n",
    "\n",
    "    "
   ]
  },
  {
   "cell_type": "code",
   "execution_count": 5,
   "metadata": {},
   "outputs": [],
   "source": [
    "def potts_energy_spin(init, spin, q = None):\n",
    "    \"\"\"Compute the energy of a spin on a Potts lattice\"\"\"\n",
    "    \n",
    "    grid = copy.copy(init)\n",
    "    \n",
    "    X = np.shape(grid)[1]\n",
    "    Y = np.shape(grid)[0]\n",
    "    \n",
    "    x = spin[1]\n",
    "    y = spin[0]\n",
    "    \n",
    "    # allows you to change the value of the spin in question\n",
    "    if q is not None:\n",
    "        grid[y,x] = q\n",
    "    \n",
    "    energy = 0\n",
    "    \n",
    "    if grid[y, (x + 1) % X] == grid[y,x]:\n",
    "        energy += -1\n",
    "\n",
    "    if grid[y, (x - 1) % X] == grid[y,x]:\n",
    "        energy += -1\n",
    "\n",
    "    if grid[(y + 1) % Y, x] == grid[y,x]:\n",
    "        energy += -1\n",
    "\n",
    "    if grid[(y - 1) % Y, x] == grid[y,x]:\n",
    "        energy += -1\n",
    "    \n",
    "    return energy\n",
    "    \n",
    "    \n",
    "    "
   ]
  },
  {
   "cell_type": "code",
   "execution_count": 6,
   "metadata": {},
   "outputs": [],
   "source": [
    "def potts_energy(init):\n",
    "    \"\"\"Computes the energy of a Potts grid\"\"\"\n",
    "    \n",
    "    grid = copy.copy(init)\n",
    "    \n",
    "    X = np.shape(grid)[1]\n",
    "    Y = np.shape(grid)[0]\n",
    "    \n",
    "    energy = 0\n",
    "    \n",
    "    for i in range(Y):\n",
    "        for j in range(X):\n",
    "            spin_energy = potts_energy_spin(init, [i,j])\n",
    "            energy += spin_energy\n",
    "            \n",
    "    return energy/2\n",
    "    \n",
    "    "
   ]
  },
  {
   "cell_type": "code",
   "execution_count": 58,
   "metadata": {},
   "outputs": [],
   "source": [
    "def potts_mag(init, roots):\n",
    "    \"\"\"Computes the magnetization of a Potts grid using a list of roots of unity\"\"\"\n",
    "    \n",
    "    grid = copy.copy(init)\n",
    "    \n",
    "    X = np.shape(grid)[1]\n",
    "    Y = np.shape(grid)[0]\n",
    "    \n",
    "    mag = 0\n",
    "    \n",
    "    for i in range(Y):\n",
    "        for j in range(X):\n",
    "            d_mag = roots[grid[i,j]-1]\n",
    "            mag += d_mag\n",
    "            \n",
    "    mag = abs(mag)\n",
    "            \n",
    "    return mag"
   ]
  },
  {
   "cell_type": "code",
   "execution_count": 7,
   "metadata": {},
   "outputs": [],
   "source": [
    "def plot_potts(grid, title = '', cmap = plt.cm.coolwarm):\n",
    "    \"\"\"Plot a Potts grid using a color map\"\"\"\n",
    "    \n",
    "    fig, ax = plt.subplots(figsize=(8,8))\n",
    "    plt.imshow(grid, cmap=cmap)\n",
    "    plt.colorbar()\n",
    "    \n",
    "    plt.title(title, fontsize=20)\n",
    "    ax.tick_params(axis='x', which='both', bottom=False, top=False, labelbottom=False)\n",
    "    ax.tick_params(axis='y', which='both', left=False, right=False, labelleft=False)"
   ]
  },
  {
   "cell_type": "code",
   "execution_count": 8,
   "metadata": {},
   "outputs": [],
   "source": [
    "random.seed(2)\n",
    "init = np.random.randint(1, 11, (20, 20))\n",
    "test = copy.copy(init)\n",
    "\n",
    "T = 0.5\n",
    "boltz = {'-1' : np.exp(1/T), '-2' : np.exp(2/T), '-3' : np.exp(3/T), '-4' : np.exp(4/T)}"
   ]
  },
  {
   "cell_type": "code",
   "execution_count": 34,
   "metadata": {},
   "outputs": [
    {
     "name": "stdout",
     "output_type": "stream",
     "text": [
      "Sweep 50.0; 21.649895668029785 seconds\n",
      "Sweep 100.0; 48.16802978515625 seconds\n",
      "Sweep 150.0; 76.37305998802185 seconds\n",
      "Sweep 200.0; 104.564697265625 seconds\n",
      "Sweep 250.0; 132.81783866882324 seconds\n",
      "Sweep 300.0; 163.28115582466125 seconds\n",
      "Sweep 350.0; 193.4354648590088 seconds\n",
      "Sweep 400.0; 224.01930975914001 seconds\n",
      "Sweep 450.0; 254.2023868560791 seconds\n",
      "Sweep 500.0; 285.28619956970215 seconds\n",
      "Sweep 550.0; 316.0580279827118 seconds\n",
      "Sweep 600.0; 347.2464964389801 seconds\n",
      "Sweep 650.0; 378.4478614330292 seconds\n",
      "Sweep 700.0; 408.7990822792053 seconds\n",
      "Sweep 750.0; 438.9583513736725 seconds\n",
      "Sweep 800.0; 469.66272377967834 seconds\n",
      "Sweep 850.0; 500.3239459991455 seconds\n",
      "Sweep 900.0; 531.1825737953186 seconds\n",
      "Sweep 950.0; 562.7519698143005 seconds\n",
      "Sweep 1000.0; 593.5327272415161 seconds\n"
     ]
    }
   ],
   "source": [
    "energy_list = []\n",
    "\n",
    "start = time.time()\n",
    "for i in range(400*1000):\n",
    "    output = heatbath_potts(test, 10, boltz)\n",
    "    energy_list.append(potts_energy(output))\n",
    "    test = output\n",
    "    if ((i+1) % 20000) == 0: \n",
    "        tick = time.time()\n",
    "        print(f'Sweep {(i+1)/400}; {tick-start} seconds')\n",
    "    \n",
    "energy_list = np.array(energy_list)/400\n",
    "\n",
    "#np.save('potts20_heatbath1000.npy', energy_list)"
   ]
  },
  {
   "cell_type": "code",
   "execution_count": 56,
   "metadata": {},
   "outputs": [
    {
     "name": "stdout",
     "output_type": "stream",
     "text": [
      "Sweep 50.0; 28.977301120758057 seconds\n",
      "Sweep 100.0; 57.517130851745605 seconds\n",
      "Sweep 150.0; 85.46622490882874 seconds\n",
      "Sweep 200.0; 113.76301431655884 seconds\n",
      "Sweep 250.0; 142.3137559890747 seconds\n",
      "Sweep 300.0; 170.98105716705322 seconds\n",
      "Sweep 350.0; 199.14095091819763 seconds\n",
      "Sweep 400.0; 227.5706684589386 seconds\n",
      "Sweep 450.0; 256.0445303916931 seconds\n",
      "Sweep 500.0; 284.6949677467346 seconds\n",
      "Sweep 550.0; 313.0641734600067 seconds\n",
      "Sweep 600.0; 341.5965631008148 seconds\n",
      "Sweep 650.0; 369.9920566082001 seconds\n",
      "Sweep 700.0; 398.62513422966003 seconds\n",
      "Sweep 750.0; 427.54341173171997 seconds\n",
      "Sweep 800.0; 455.74199318885803 seconds\n",
      "Sweep 850.0; 484.11566281318665 seconds\n",
      "Sweep 900.0; 512.5295088291168 seconds\n",
      "Sweep 950.0; 540.9116101264954 seconds\n",
      "Sweep 1000.0; 569.8750236034393 seconds\n"
     ]
    }
   ],
   "source": [
    "energy_list_met = []\n",
    "\n",
    "start = time.time()\n",
    "for i in range(400*1000):\n",
    "    output = metropolis_potts(test, 10, met_boltz)[0]\n",
    "    energy_list_met.append(potts_energy(output))\n",
    "    test = output\n",
    "    if ((i+1) % 20000) == 0: \n",
    "        tick = time.time()\n",
    "        print(f'Sweep {(i+1)/400}; {tick-start} seconds')\n",
    "        \n",
    "energy_list_met = np.array(energy_list_met)/400\n",
    "\n",
    "#np.save('potts20_met1000.npy', energy_list_met)"
   ]
  },
  {
   "cell_type": "code",
   "execution_count": 57,
   "metadata": {},
   "outputs": [
    {
     "data": {
      "image/png": "[encoded data removed]",
      "text/plain": [
       "<matplotlib.figure.Figure at 0x1f2991408d0>"
      ]
     },
     "metadata": {},
     "output_type": "display_data"
    }
   ],
   "source": [
    "plt.plot(x_values, energy_list)\n",
    "plt.plot(x_values,energy_list_met)\n",
    "plt.title('Energy per spin', fontsize = 20)\n",
    "plt.xlabel(\"t (sweeps)\", fontsize=20)\n",
    "plt.ylabel(\"Energy\", fontsize=20)\n",
    "plt.tight_layout()"
   ]
  },
  {
   "cell_type": "code",
   "execution_count": 335,
   "metadata": {},
   "outputs": [
    {
     "name": "stdout",
     "output_type": "stream",
     "text": [
      "Sweep 50.0; 21.67469596862793 seconds\n",
      "Sweep 100.0; 42.98979139328003 seconds\n",
      "Sweep 150.0; 64.0340723991394 seconds\n",
      "Sweep 200.0; 85.33528017997742 seconds\n",
      "Sweep 250.0; 106.42420077323914 seconds\n",
      "Sweep 300.0; 127.53544092178345 seconds\n",
      "Sweep 350.0; 148.63775300979614 seconds\n",
      "Sweep 400.0; 169.72816133499146 seconds\n",
      "Sweep 450.0; 191.00754570960999 seconds\n",
      "Sweep 500.0; 214.37508940696716 seconds\n",
      "Sweep 550.0; 238.94245600700378 seconds\n",
      "Sweep 600.0; 260.24366426467896 seconds\n",
      "Sweep 650.0; 281.44716024398804 seconds\n",
      "Sweep 700.0; 302.8059046268463 seconds\n"
     ]
    }
   ],
   "source": [
    "energy_list_q3 = []\n",
    "\n",
    "start = time.time()\n",
    "for i in range(400*700):\n",
    "    output3 = heatbath_potts(test3, 3, boltz)\n",
    "    energy_list_q3.append(potts_energy(output3))\n",
    "    test3 = output3\n",
    "    if ((i+1) % 20000) == 0: \n",
    "        tick = time.time()\n",
    "        print(f'Sweep {(i+1)/400}; {tick-start} seconds')\n",
    "    \n",
    "energy_list_q3 = np.array(energy_list_q3)/400\n",
    "\n",
    "# np.save('potts20_heatbath_q3.npy', energy_list_q3)"
   ]
  },
  {
   "cell_type": "code",
   "execution_count": 73,
   "metadata": {},
   "outputs": [],
   "source": [
    "x_values = np.array([i for i in range(1,625*1000+1)])/625"
   ]
  },
  {
   "cell_type": "code",
   "execution_count": 86,
   "metadata": {},
   "outputs": [],
   "source": [
    "x_values = np.arange(0, 625*2000, 100)/625"
   ]
  },
  {
   "cell_type": "code",
   "execution_count": 117,
   "metadata": {},
   "outputs": [
    {
     "name": "stdout",
     "output_type": "stream",
     "text": [
      "Sweep 200.0; 3.2324306964874268 seconds\n",
      "Sweep 400.0; 6.486189603805542 seconds\n",
      "Sweep 600.0; 9.755820274353027 seconds\n",
      "Sweep 800.0; 12.987755298614502 seconds\n",
      "Sweep 1000.0; 16.320874214172363 seconds\n",
      "Sweep 1200.0; 19.6574649810791 seconds\n",
      "Sweep 1400.0; 23.2003915309906 seconds\n",
      "Sweep 1600.0; 26.59699845314026 seconds\n",
      "Sweep 1800.0; 29.965829133987427 seconds\n",
      "Sweep 2000.0; 33.26274061203003 seconds\n"
     ]
    }
   ],
   "source": [
    "random.seed(1)\n",
    "init3 = np.random.randint(1, 4, (25, 25))\n",
    "test3 = copy.copy(init3)\n",
    "\n",
    "T = 0.8\n",
    "met_boltz = {'1' : np.exp(-1/T), '2' : np.exp(-2/T), '3' : np.exp(-3/T), '4' : np.exp(-4/T)}\n",
    "\n",
    "energy_list_metq3 = []\n",
    "\n",
    "start = time.time()\n",
    "for i in range(625*2000):\n",
    "    output3 = metropolis_potts(test3, 3, met_boltz)[0]\n",
    "    \n",
    "    if ((i + 1) % 100) == 0:\n",
    "        energy_list_metq3.append(potts_energy(output3))\n",
    "        \n",
    "    test3 = output3\n",
    "    \n",
    "    if ((i+1) % 125000) == 0: \n",
    "        tick = time.time()\n",
    "        print(f'Sweep {(i+1)/625}; {tick-start} seconds')\n",
    "        \n",
    "energy_list_metq3 = np.array(energy_list_metq3)/400\n",
    "\n",
    "# np.save('potts20_met_q3.npy', energy_list_metq3)"
   ]
  },
  {
   "cell_type": "code",
   "execution_count": 118,
   "metadata": {},
   "outputs": [
    {
     "data": {
      "image/png": "[encoded data removed]",
      "text/plain": [
       "<matplotlib.figure.Figure at 0x21f94461dd8>"
      ]
     },
     "metadata": {},
     "output_type": "display_data"
    }
   ],
   "source": [
    "plt.plot(x_values, energy_list_metq3)\n",
    "plt.title('Energy per spin', fontsize = 20)\n",
    "plt.xlabel(\"t (sweeps)\", fontsize=20)\n",
    "plt.ylabel(\"Energy\", fontsize=20)\n",
    "plt.tight_layout()"
   ]
  },
  {
   "cell_type": "code",
   "execution_count": 341,
   "metadata": {},
   "outputs": [
    {
     "data": {
      "image/png": "[encoded data removed]",
      "text/plain": [
       "<matplotlib.figure.Figure at 0x1567e090240>"
      ]
     },
     "metadata": {},
     "output_type": "display_data"
    }
   ],
   "source": [
    "plt.plot(x_values, energy_list_q3)\n",
    "plt.plot(x_values, energy_list_metq3)\n",
    "plt.title('Energy per spin', fontsize = 20)\n",
    "plt.xlabel(\"t (sweeps)\", fontsize=20)\n",
    "plt.ylabel(\"Energy\", fontsize=20)\n",
    "plt.tight_layout()"
   ]
  },
  {
   "cell_type": "code",
   "execution_count": 53,
   "metadata": {},
   "outputs": [],
   "source": [
    "def round_to_3(x):\n",
    "    if x != 0:\n",
    "        return round(x, -int(np.floor(np.log10(abs(x)))) + 2)\n",
    "    else:\n",
    "        return 0"
   ]
  },
  {
   "cell_type": "code",
   "execution_count": null,
   "metadata": {},
   "outputs": [
    {
     "name": "stdout",
     "output_type": "stream",
     "text": [
      "22:11:40.206354\n",
      "T = 0.6; 18.02810549736023 seconds\n",
      "T = 0.8; 369.7792727947235 seconds\n",
      "T = 1.0; 725.5093507766724 seconds\n"
     ]
    }
   ],
   "source": [
    "# initialize to T = infinity\n",
    "random.seed(1)\n",
    "init20 = np.random.randint(1, 4, (25, 25))\n",
    "temps = [i for i in np.arange(0.6, 1.41, 0.01)]\n",
    "\n",
    "for i in range(len(temps)):\n",
    "    temps[i] = round_to_3(temps[i])\n",
    "    \n",
    "t_points = len(temps)\n",
    "\n",
    "\n",
    "# initialize dictionaries to store values\n",
    "energy_dict20 = {}\n",
    "mag_dict20 = {}\n",
    "\n",
    "\n",
    "# initialize lists to plot\n",
    "eneps_list20 = np.zeros(t_points)\n",
    "magps_list20 = np.zeros(t_points)\n",
    "spec_heat20 = np.zeros(t_points)\n",
    "mag_sus20 = np.zeros(t_points)\n",
    "\n",
    "# rough estimate for equilibration time; 100*N many sweeps\n",
    "n_eq = 1000\n",
    "\n",
    "# number of sweeps to average over\n",
    "n = 300\n",
    "\n",
    "# set up keys and entries for dictionary\n",
    "for T in temps:\n",
    "    energy_dict20[str(T)] = []\n",
    "    mag_dict20[str(T)] = []\n",
    "\n",
    "# factors for averaging\n",
    "n1 = 1/(n * 20**2)\n",
    "n2 = 1/(n**2 * 20**2)\n",
    "\n",
    "\n",
    "# roots of unity\n",
    "rou = [np.exp(2*np.pi*1j*n/3) for n in range(3)]\n",
    "\n",
    "# running the program!\n",
    "print(datetime.datetime.now().time())\n",
    "start = time.time()\n",
    "\n",
    "grid = copy.copy(init20)\n",
    "\n",
    "for i in range(t_points):\n",
    "    T = temps[i]\n",
    "    met_boltz = {'1' : np.exp(-1/T), '2' : np.exp(-2/T), '3' : np.exp(-3/T), '4' : np.exp(-4/T)}\n",
    "    \n",
    "    for j in range(n_eq):\n",
    "        grid = met_sweep(grid, 3, met_boltz)           # starts from the final config of the last temperature\n",
    "    \n",
    "    # initialize the totals that will be used to compute averages\n",
    "    e_total = 0\n",
    "    e2_total = 0\n",
    "    mag_total = 0\n",
    "    mag2_total = 0\n",
    "    \n",
    "    # dummy lists to hold the measurements\n",
    "    e_all = np.zeros(n)\n",
    "    m_all = np.zeros(n)\n",
    "    \n",
    "    # measurements to average\n",
    "    for k in range(n):\n",
    "        grid = met_sweep(grid, 3, met_boltz)\n",
    "        energy = potts_energy(grid)             # only taking measurements every other sweep\n",
    "        mag = potts_mag(grid, rou)\n",
    "        \n",
    "        e_total += energy\n",
    "        e2_total += energy*energy\n",
    "        mag_total += mag\n",
    "        mag2_total += mag*mag\n",
    "        \n",
    "        e_all[k] = energy\n",
    "        m_all[k] = mag\n",
    "    \n",
    "    # storing all measurements for error purposes \n",
    "    energy_dict20[str(T)] = e_all\n",
    "    mag_dict20[str(T)] = m_all\n",
    "    \n",
    "    # compute averages\n",
    "    eneps_list20[i] = n1*e_total\n",
    "    magps_list20[i] = n1*mag_total\n",
    "    spec_heat20[i] = (n1*e2_total - n2*e_total*e_total)/(T*T)\n",
    "    mag_sus20[i] = (n1*mag2_total - n2*mag_total*mag_total)/T\n",
    "    \n",
    "    if (0.599 < T < 0.601) or (0.799 < T < 0.801) or (0.999 < T < 1.001) or (1.199 < T < 1.201):\n",
    "        tick = time.time()\n",
    "        print(f'T = {T}; {tick - start} seconds')\n",
    "        \n",
    "        \n",
    "end = time.time()\n",
    "print(f'Total time: {end - start}')   "
   ]
  },
  {
   "cell_type": "code",
   "execution_count": null,
   "metadata": {},
   "outputs": [],
   "source": [
    "np.save('Potts_eneps25v3.npy', eneps_list20)\n",
    "np.save('Potts_spec_heat25v3.npy', spec_heat20)\n",
    "np.save('Potts_magps25v3.npy', magps_list20)\n",
    "np.save('Potts_magsus25v3.npy', mag_sus20)\n",
    "np.save('Potts_ene_dict25v3.npy', energy_dict20)\n",
    "np.save('Potts_mag_dict25v3.npy', mag_dict20)"
   ]
  },
  {
   "cell_type": "code",
   "execution_count": null,
   "metadata": {},
   "outputs": [],
   "source": [
    "fig = plt.figure(figsize=(18, 10)) # plot the calculated values    \n",
    "\n",
    "fig.add_subplot(2, 2, 1 )\n",
    "plt.plot(temps, eneps_list20, 'ro')\n",
    "plt.xlabel(\"Temperature\", fontsize=20)\n",
    "plt.ylabel(\"Energy per spin\", fontsize=20)\n",
    "\n",
    "fig.add_subplot(2, 2, 2 )\n",
    "plt.plot(temps, spec_heat20, 'ro')\n",
    "plt.xlabel(\"Temperature\", fontsize=20)\n",
    "plt.ylabel(\"Specific Heat per spin\", fontsize=20)\n",
    "\n",
    "fig.add_subplot(2, 2, 3 )\n",
    "plt.plot(temps, magps_list20, 'bo')\n",
    "plt.xlabel(\"Temperature\", fontsize=20)\n",
    "plt.ylabel(\"Magnetization per spin\", fontsize=20)\n",
    "\n",
    "fig.add_subplot(2, 2, 4 )\n",
    "plt.plot(temps, mag_sus20, 'bo')\n",
    "plt.xlabel(\"Temperature\", fontsize=20)\n",
    "plt.ylabel(\"Magnetic Susceptibility\", fontsize=20)"
   ]
  },
  {
   "cell_type": "code",
   "execution_count": null,
   "metadata": {},
   "outputs": [],
   "source": []
  }
 ],
 "metadata": {
  "kernelspec": {
   "display_name": "Python 3",
   "language": "python",
   "name": "python3"
  },
  "language_info": {
   "codemirror_mode": {
    "name": "ipython",
    "version": 3
   },
   "file_extension": ".py",
   "mimetype": "text/x-python",
   "name": "python",
   "nbconvert_exporter": "python",
   "pygments_lexer": "ipython3",
   "version": "3.6.4"
  }
 },
 "nbformat": 4,
 "nbformat_minor": 2
}
