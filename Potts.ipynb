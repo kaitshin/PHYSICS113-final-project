{
 "cells": [
  {
   "cell_type": "code",
   "execution_count": 2,
   "metadata": {},
   "outputs": [],
   "source": [
    "from matplotlib import pyplot as plt\n",
    "from IPython import display\n",
    "import numpy as np\n",
    "import random\n",
    "from matplotlib import colors\n",
    "import copy\n",
    "import time\n",
    "import scipy.optimize\n",
    "\n",
    "%matplotlib inline"
   ]
  },
  {
   "cell_type": "code",
   "execution_count": 285,
   "metadata": {},
   "outputs": [],
   "source": [
    "# assumes periodic BCs\n",
    "def metropolis_potts(init, q, boltz):\n",
    "    \"\"\"Returns a grid evolved one step in the q-state Potts model using the Metropolis algorithm\"\"\"\n",
    "    \n",
    "    grid = copy.copy(init)\n",
    "    \n",
    "    X = np.shape(grid)[1]\n",
    "    Y = np.shape(grid)[0]\n",
    "    \n",
    "    # randomly choose new state\n",
    "    new_state = random.randint(1,q)\n",
    "    \n",
    "    # select random spin from the input spin grid\n",
    "    x = random.choice(range(X))\n",
    "    y = random.choice(range(Y))\n",
    "    \n",
    "    # checking the energy cost\n",
    "    energy_i = potts_energy_spin(grid, [y,x])\n",
    "    energy_f = potts_energy_spin(grid, [y,x], new_state)\n",
    "    \n",
    "    d_energy = int(energy_f - energy_i)\n",
    "    \n",
    "    # applying the metropolis algorithm\n",
    "    if d_energy <= 0:\n",
    "        grid[y,x] = new_state\n",
    "        \n",
    "    elif random.uniform(0,1) < boltz[str(d_energy)]:\n",
    "        grid[y,x] = new_state\n",
    "        \n",
    "    else:\n",
    "        d_energy = 0\n",
    "        \n",
    "\n",
    "    return [grid, d_energy]"
   ]
  },
  {
   "cell_type": "code",
   "execution_count": 222,
   "metadata": {},
   "outputs": [],
   "source": [
    "# assumes periodic boundary condition\n",
    "def heatbath_potts(init, q, boltz):\n",
    "    \"\"\"Returns a grid evolved one step in the q-state Potts model using the heat-bath algorithm\"\"\"\n",
    "    \n",
    "    grid = copy.copy(init)\n",
    "    \n",
    "    X = np.shape(grid)[1]\n",
    "    Y = np.shape(grid)[0]\n",
    "    \n",
    "    # select random spin from the input spin grid\n",
    "    x = random.choice(range(X))\n",
    "    y = random.choice(range(Y))\n",
    "    \n",
    "    \n",
    "    # compute the relevant energies for the heat-bath algorithm (only nearest neighbor interactions)\n",
    "    # we only want to compute the energies that are non-zero\n",
    "    check = []\n",
    "    check.append(grid[(y+1) % Y, x])\n",
    "    check.append(grid[(y-1) % Y, x])\n",
    "    check.append(grid[y % Y, (x+1) % X])\n",
    "    check.append(grid[y % Y, (x-1) % X])\n",
    "    check = list(set(check))\n",
    "    \n",
    "    \n",
    "    \n",
    "    # initialize the probabilities to 1 because the zero energies have boltzmann factor equal to 1\n",
    "    probs = np.ones(q)\n",
    "    \n",
    "    # replace the appropriate elements with the boltzman factors; note that order in probs is important!\n",
    "    for c in check:\n",
    "        e = potts_energy_spin(grid, [y,x], c)\n",
    "        probs[c-1] = boltz[str(e)]\n",
    "        \n",
    "    probs = np.array(probs)/np.sum(probs)   \n",
    "    \n",
    "    new_state = np.random.choice(range(1, q+1), p = probs)\n",
    "    \n",
    "    grid[y,x] = new_state\n",
    "    \n",
    "    return grid\n",
    "\n",
    "    "
   ]
  },
  {
   "cell_type": "code",
   "execution_count": 195,
   "metadata": {},
   "outputs": [
    {
     "name": "stdout",
     "output_type": "stream",
     "text": [
      "(0, 2)\n",
      "[1, 2, 3]\n",
      "[0.57611688 0.21194156 0.21194156]\n"
     ]
    },
    {
     "data": {
      "text/plain": [
       "array([[1, 2, 2],\n",
       "       [1, 2, 1],\n",
       "       [1, 2, 3]])"
      ]
     },
     "execution_count": 195,
     "metadata": {},
     "output_type": "execute_result"
    }
   ],
   "source": [
    "T = 1\n",
    "boltz = {'-1' : np.exp(1/T), '-2' : np.exp(2/T), '-3' : np.exp(3/T), '-4' : np.exp(4/T)}\n",
    "\n",
    "a = np.array([[1, 2, 1], [1, 2, 1], [1, 2, 3]])\n",
    "\n",
    "heatbath_potts(a, 3, boltz)"
   ]
  },
  {
   "cell_type": "code",
   "execution_count": 230,
   "metadata": {},
   "outputs": [
    {
     "name": "stdout",
     "output_type": "stream",
     "text": [
      "(2, 2) 1\n",
      "-3\n"
     ]
    },
    {
     "data": {
      "text/plain": [
       "array([[1, 2, 1],\n",
       "       [1, 2, 1],\n",
       "       [1, 2, 1]])"
      ]
     },
     "execution_count": 230,
     "metadata": {},
     "output_type": "execute_result"
    }
   ],
   "source": [
    "met_boltz = {'1' : np.exp(-1/T), '2' : np.exp(-2/T), '3' : np.exp(-3/T), '4' : np.exp(-4/T)}\n",
    "\n",
    "metropolis_potts(a, 3, met_boltz)[0]"
   ]
  },
  {
   "cell_type": "code",
   "execution_count": 46,
   "metadata": {},
   "outputs": [],
   "source": [
    "def potts_energy_spin(init, spin, q = None):\n",
    "    \"\"\"Compute the energy of a spin on a Potts lattice\"\"\"\n",
    "    \n",
    "    grid = copy.copy(init)\n",
    "    \n",
    "    X = np.shape(grid)[1]\n",
    "    Y = np.shape(grid)[0]\n",
    "    \n",
    "    x = spin[1]\n",
    "    y = spin[0]\n",
    "    \n",
    "    # allows you to change the value of the spin in question\n",
    "    if q is not None:\n",
    "        grid[y,x] = q\n",
    "    \n",
    "    energy = 0\n",
    "    \n",
    "    if grid[y, (x + 1) % X] == grid[y,x]:\n",
    "        energy += -1\n",
    "\n",
    "    if grid[y, (x - 1) % X] == grid[y,x]:\n",
    "        energy += -1\n",
    "\n",
    "    if grid[(y + 1) % Y, x] == grid[y,x]:\n",
    "        energy += -1\n",
    "\n",
    "    if grid[(y - 1) % Y, x] == grid[y,x]:\n",
    "        energy += -1\n",
    "    \n",
    "    return energy\n",
    "    \n",
    "    \n",
    "    "
   ]
  },
  {
   "cell_type": "code",
   "execution_count": 292,
   "metadata": {},
   "outputs": [],
   "source": [
    "def potts_energy(init):\n",
    "    \"\"\"Computes the energy of a Potts grid\"\"\"\n",
    "    \n",
    "    grid = copy.copy(init)\n",
    "    \n",
    "    X = np.shape(grid)[1]\n",
    "    Y = np.shape(grid)[0]\n",
    "    \n",
    "    energy = 0\n",
    "    \n",
    "    for i in range(Y):\n",
    "        for j in range(X):\n",
    "            spin_energy = potts_energy_spin(init, [i,j])\n",
    "            energy += spin_energy\n",
    "            \n",
    "    return energy/2\n",
    "    \n",
    "    "
   ]
  },
  {
   "cell_type": "code",
   "execution_count": 260,
   "metadata": {},
   "outputs": [],
   "source": [
    "def plot_potts(grid, title = '', cmap = plt.cm.coolwarm):\n",
    "    \"\"\"Plot a Potts grid using a color map\"\"\"\n",
    "    \n",
    "    fig, ax = plt.subplots(figsize=(8,8))\n",
    "    plt.imshow(grid, cmap=cmap)\n",
    "    plt.colorbar()\n",
    "    \n",
    "    plt.title(title, fontsize=20)\n",
    "    ax.tick_params(axis='x', which='both', bottom=False, top=False, labelbottom=False)\n",
    "    ax.tick_params(axis='y', which='both', left=False, right=False, labelleft=False)"
   ]
  },
  {
   "cell_type": "code",
   "execution_count": 315,
   "metadata": {},
   "outputs": [],
   "source": [
    "random.seed(1)\n",
    "init = np.random.randint(1, 11, (20, 20))\n",
    "test = copy.copy(init)\n",
    "\n",
    "T = 0.5\n",
    "boltz = {'-1' : np.exp(1/T), '-2' : np.exp(2/T), '-3' : np.exp(3/T), '-4' : np.exp(4/T)}"
   ]
  },
  {
   "cell_type": "code",
   "execution_count": 311,
   "metadata": {},
   "outputs": [
    {
     "name": "stdout",
     "output_type": "stream",
     "text": [
      "Sweep 50.0; 21.43562364578247 seconds\n",
      "Sweep 100.0; 43.12073588371277 seconds\n",
      "Sweep 150.0; 64.63274383544922 seconds\n",
      "Sweep 200.0; 86.3376955986023 seconds\n",
      "Sweep 250.0; 108.86699938774109 seconds\n",
      "Sweep 300.0; 130.2624475955963 seconds\n",
      "Sweep 350.0; 151.79826402664185 seconds\n",
      "Sweep 400.0; 173.8032956123352 seconds\n",
      "Sweep 450.0; 195.3445680141449 seconds\n",
      "Sweep 500.0; 216.99297666549683 seconds\n",
      "Sweep 550.0; 238.74306392669678 seconds\n",
      "Sweep 600.0; 260.4544644355774 seconds\n",
      "Sweep 650.0; 281.83701634407043 seconds\n",
      "Sweep 700.0; 303.24486470222473 seconds\n"
     ]
    }
   ],
   "source": [
    "energy_list = []\n",
    "\n",
    "start = time.time()\n",
    "for i in range(400*700):\n",
    "    output = heatbath_potts(test, 10, boltz)\n",
    "    energy_list.append(potts_energy(output))\n",
    "    test = output\n",
    "    if ((i+1) % 20000) == 0: \n",
    "        tick = time.time()\n",
    "        print(f'Sweep {(i+1)/400}; {tick-start} seconds')\n",
    "    \n",
    "energy_list = np.array(energy_list)/400\n",
    "\n",
    "np.save('potts20_heatbath.npy', energy_list)"
   ]
  },
  {
   "cell_type": "code",
   "execution_count": 316,
   "metadata": {},
   "outputs": [],
   "source": [
    "met_boltz = {'1' : np.exp(-1/T), '2' : np.exp(-2/T), '3' : np.exp(-3/T), '4' : np.exp(-4/T)}"
   ]
  },
  {
   "cell_type": "code",
   "execution_count": 317,
   "metadata": {},
   "outputs": [
    {
     "name": "stdout",
     "output_type": "stream",
     "text": [
      "Sweep 50.0; 20.141063928604126 seconds\n",
      "Sweep 100.0; 40.81433629989624 seconds\n",
      "Sweep 150.0; 61.22522497177124 seconds\n",
      "Sweep 200.0; 81.60883355140686 seconds\n",
      "Sweep 250.0; 101.85405802726746 seconds\n",
      "Sweep 300.0; 122.25552272796631 seconds\n",
      "Sweep 350.0; 142.6594672203064 seconds\n",
      "Sweep 400.0; 162.85905981063843 seconds\n",
      "Sweep 450.0; 183.1717405319214 seconds\n",
      "Sweep 500.0; 203.57022881507874 seconds\n",
      "Sweep 550.0; 223.9419333934784 seconds\n",
      "Sweep 600.0; 244.26850175857544 seconds\n",
      "Sweep 650.0; 264.7890064716339 seconds\n",
      "Sweep 700.0; 285.0218312740326 seconds\n"
     ]
    }
   ],
   "source": [
    "energy_list_met = []\n",
    "\n",
    "start = time.time()\n",
    "for i in range(400*700):\n",
    "    output = metropolis_potts(test, 10, met_boltz)[0]\n",
    "    energy_list_met.append(potts_energy(output))\n",
    "    test = output\n",
    "    if ((i+1) % 20000) == 0: \n",
    "        tick = time.time()\n",
    "        print(f'Sweep {(i+1)/400}; {tick-start} seconds')\n",
    "        \n",
    "energy_list_met = np.array(energy_list_met)/400\n",
    "\n",
    "np.save('potts20_met.npy', energy_list_met)"
   ]
  },
  {
   "cell_type": "code",
   "execution_count": 313,
   "metadata": {},
   "outputs": [],
   "source": [
    "x_values = np.array([i for i in range(1,400*700+1)])/400"
   ]
  },
  {
   "cell_type": "code",
   "execution_count": 320,
   "metadata": {},
   "outputs": [
    {
     "data": {
      "image/png": "[encoded data removed]",
      "text/plain": [
       "<matplotlib.figure.Figure at 0x1567f7a6b70>"
      ]
     },
     "metadata": {},
     "output_type": "display_data"
    }
   ],
   "source": [
    "plt.plot(x_values,energy_list)\n",
    "plt.plot(x_values,energy_list_met)\n",
    "plt.title('Energy per spin', fontsize = 20)\n",
    "plt.xlabel(\"t (sweeps)\", fontsize=20)\n",
    "plt.ylabel(\"Energy\", fontsize=20)\n",
    "plt.tight_layout()"
   ]
  },
  {
   "cell_type": "code",
   "execution_count": 339,
   "metadata": {},
   "outputs": [],
   "source": [
    "random.seed(1)\n",
    "init3 = np.random.randint(1, 4, (20, 20))\n",
    "test3 = copy.copy(init3)\n",
    "\n",
    "T = 0.5\n",
    "boltz = {'-1' : np.exp(1/T), '-2' : np.exp(2/T), '-3' : np.exp(3/T), '-4' : np.exp(4/T)}"
   ]
  },
  {
   "cell_type": "code",
   "execution_count": 335,
   "metadata": {},
   "outputs": [
    {
     "name": "stdout",
     "output_type": "stream",
     "text": [
      "Sweep 50.0; 21.67469596862793 seconds\n",
      "Sweep 100.0; 42.98979139328003 seconds\n",
      "Sweep 150.0; 64.0340723991394 seconds\n",
      "Sweep 200.0; 85.33528017997742 seconds\n",
      "Sweep 250.0; 106.42420077323914 seconds\n",
      "Sweep 300.0; 127.53544092178345 seconds\n",
      "Sweep 350.0; 148.63775300979614 seconds\n",
      "Sweep 400.0; 169.72816133499146 seconds\n",
      "Sweep 450.0; 191.00754570960999 seconds\n",
      "Sweep 500.0; 214.37508940696716 seconds\n",
      "Sweep 550.0; 238.94245600700378 seconds\n",
      "Sweep 600.0; 260.24366426467896 seconds\n",
      "Sweep 650.0; 281.44716024398804 seconds\n",
      "Sweep 700.0; 302.8059046268463 seconds\n"
     ]
    }
   ],
   "source": [
    "energy_list_q3 = []\n",
    "\n",
    "start = time.time()\n",
    "for i in range(400*700):\n",
    "    output3 = heatbath_potts(test3, 3, boltz)\n",
    "    energy_list_q3.append(potts_energy(output3))\n",
    "    test3 = output3\n",
    "    if ((i+1) % 20000) == 0: \n",
    "        tick = time.time()\n",
    "        print(f'Sweep {(i+1)/400}; {tick-start} seconds')\n",
    "    \n",
    "energy_list_q3 = np.array(energy_list_q3)/400\n",
    "\n",
    "np.save('potts20_heatbath_q3.npy', energy_list_q3)"
   ]
  },
  {
   "cell_type": "code",
   "execution_count": 340,
   "metadata": {},
   "outputs": [
    {
     "name": "stdout",
     "output_type": "stream",
     "text": [
      "Sweep 50.0; 19.850408792495728 seconds\n",
      "Sweep 100.0; 39.7290894985199 seconds\n",
      "Sweep 150.0; 59.59090614318848 seconds\n",
      "Sweep 200.0; 79.5876350402832 seconds\n",
      "Sweep 250.0; 99.84228348731995 seconds\n",
      "Sweep 300.0; 122.00801920890808 seconds\n",
      "Sweep 350.0; 142.90945172309875 seconds\n",
      "Sweep 400.0; 163.29603624343872 seconds\n",
      "Sweep 450.0; 184.0690050125122 seconds\n",
      "Sweep 500.0; 204.2209813594818 seconds\n",
      "Sweep 550.0; 224.29161405563354 seconds\n",
      "Sweep 600.0; 244.63008666038513 seconds\n",
      "Sweep 650.0; 265.48737502098083 seconds\n",
      "Sweep 700.0; 286.0921995639801 seconds\n"
     ]
    }
   ],
   "source": [
    "energy_list_metq3 = []\n",
    "\n",
    "start = time.time()\n",
    "for i in range(400*700):\n",
    "    output3 = metropolis_potts(test3, 3, met_boltz)[0]\n",
    "    energy_list_metq3.append(potts_energy(output3))\n",
    "    test3 = output3\n",
    "    if ((i+1) % 20000) == 0: \n",
    "        tick = time.time()\n",
    "        print(f'Sweep {(i+1)/400}; {tick-start} seconds')\n",
    "        \n",
    "energy_list_metq3 = np.array(energy_list_metq3)/400\n",
    "\n",
    "np.save('potts20_met_q3.npy', energy_list_metq3)"
   ]
  },
  {
   "cell_type": "code",
   "execution_count": 341,
   "metadata": {},
   "outputs": [
    {
     "data": {
      "image/png": "[encoded data removed]",
      "text/plain": [
       "<matplotlib.figure.Figure at 0x1567e090240>"
      ]
     },
     "metadata": {},
     "output_type": "display_data"
    }
   ],
   "source": [
    "plt.plot(x_values, energy_list_q3)\n",
    "plt.plot(x_values, energy_list_metq3)\n",
    "plt.title('Energy per spin', fontsize = 20)\n",
    "plt.xlabel(\"t (sweeps)\", fontsize=20)\n",
    "plt.ylabel(\"Energy\", fontsize=20)\n",
    "plt.tight_layout()"
   ]
  },
  {
   "cell_type": "code",
   "execution_count": null,
   "metadata": {},
   "outputs": [],
   "source": []
  }
 ],
 "metadata": {
  "kernelspec": {
   "display_name": "Python 3",
   "language": "python",
   "name": "python3"
  },
  "language_info": {
   "codemirror_mode": {
    "name": "ipython",
    "version": 3
   },
   "file_extension": ".py",
   "mimetype": "text/x-python",
   "name": "python",
   "nbconvert_exporter": "python",
   "pygments_lexer": "ipython3",
   "version": "3.6.4"
  }
 },
 "nbformat": 4,
 "nbformat_minor": 2
}
