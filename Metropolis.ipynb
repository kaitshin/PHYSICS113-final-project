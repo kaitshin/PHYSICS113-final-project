{
 "cells": [
  {
   "cell_type": "code",
   "execution_count": 1,
   "metadata": {},
   "outputs": [],
   "source": [
    "from matplotlib import pyplot as plt\n",
    "from IPython import display\n",
    "import numpy as np\n",
    "import random\n",
    "from matplotlib import colors\n",
    "import copy\n",
    "\n",
    "%matplotlib inline"
   ]
  },
  {
   "cell_type": "code",
   "execution_count": 294,
   "metadata": {},
   "outputs": [],
   "source": [
    "def metropolis(mesh, boltz, J, spin):\n",
    "    \"\"\"Returns a boolean of the acceptance result of a new state using the Metropolis algorithm and the energy change\"\"\"\n",
    "    # check energy cost of flipping spin\n",
    "    spin_sum = mesh[spin[0]+1,spin[1]] + mesh[spin[0],spin[1]+1] + mesh[spin[0]-1,spin[1]] + mesh[spin[0],spin[1]-1]\n",
    "    d_energy = 2*J*mesh[spin[0],spin[1]] * spin_sum\n",
    "    \n",
    "    if d_energy > 0:\n",
    "        accept_prob = boltz[str(abs(spin_sum))]\n",
    "\n",
    "        sample = random.uniform(0,1)\n",
    "        \n",
    "        if sample > accept_prob:\n",
    "            return False, 0\n",
    "        \n",
    "        else:\n",
    "            return True, d_energy\n",
    "    \n",
    "    else:\n",
    "        return True, d_energy"
   ]
  },
  {
   "cell_type": "code",
   "execution_count": 295,
   "metadata": {},
   "outputs": [],
   "source": [
    "# input grid init should have 2 extra columns and 2 extra rows for BCs, -1 for down spins, and 1 for up spins\n",
    "def metropolis_ising(init, boltz, J):\n",
    "    \"\"\"Returns a mesh evolved by one step of applying the Metropolis algorithm, the energy change, and the magnetization change\"\"\"\n",
    "    \n",
    "    mesh = copy.copy(init)\n",
    "    \n",
    "    X = np.shape(mesh)[1]\n",
    "    Y = np.shape(mesh)[0]\n",
    "    \n",
    "    # select random spin from the input spin mesh, ignoring the edges\n",
    "    spin = [random.choice(range(1,Y-1)),random.choice(range(1,X-1))]\n",
    "    \n",
    "    # applying the metropolis algorithm\n",
    "    accept, d_energy = metropolis(mesh, boltz, J, spin)\n",
    "    \n",
    "    if accept == True:\n",
    "        mesh[spin[0],spin[1]] = -1*mesh[spin[0],spin[1]]\n",
    "\n",
    "    return [mesh, d_energy]"
   ]
  },
  {
   "cell_type": "code",
   "execution_count": 285,
   "metadata": {},
   "outputs": [],
   "source": [
    "# input grid init should have 2 extra columns and 2 extra rows for BCs, -1 for down spins, and 1 for up spins\n",
    "def metropolis_ising_v2(init, boltz, J):\n",
    "    \"\"\"Returns a mesh evolved by one step of applying the Metropolis algorithm, the energy change, \n",
    "    and the magnetization change\"\"\"\n",
    "    \n",
    "    mesh = copy.copy(init)\n",
    "    \n",
    "    X = np.shape(mesh)[1]\n",
    "    Y = np.shape(mesh)[0]\n",
    "    \n",
    "    # select random spin from the input spin mesh, ignoring the edges\n",
    "    spin = [random.choice(range(1,Y-1)),random.choice(range(1,X-1))]\n",
    "    \n",
    "    # applying the metropolis algorithm\n",
    "    spin_sum = mesh[spin[0]+1,spin[1]] + mesh[spin[0],spin[1]+1] + mesh[spin[0]-1,spin[1]] + mesh[spin[0],spin[1]-1]\n",
    "    d_energy = 2*J*mesh[spin[0],spin[1]] * spin_sum\n",
    "    \n",
    "    if d_energy > 0:\n",
    "        accept_prob = boltz[str(abs(spin_sum))]\n",
    "\n",
    "        sample = random.uniform(0,1)\n",
    "        \n",
    "        if sample <= accept_prob:\n",
    "            mesh[spin[0],spin[1]] = -1*mesh[spin[0],spin[1]]\n",
    "            d_mag = 2*mesh[spin[0],spin[1]]\n",
    "        \n",
    "        else:\n",
    "            d_energy = 0\n",
    "            d_mag = 0\n",
    "            \n",
    "    else:\n",
    "        d_energy = 0\n",
    "        d_mag = 0\n",
    "\n",
    "    return [mesh, d_energy, d_mag]"
   ]
  },
  {
   "cell_type": "code",
   "execution_count": 195,
   "metadata": {},
   "outputs": [],
   "source": [
    "# the input grid uses 2 extra columns and 2 extra rows for BCs\n",
    "def ising_energy(init, J):\n",
    "    \"\"\"Computes the energy of a 2D square lattice in the Ising model\"\"\"\n",
    "    \n",
    "    X = np.shape(init)[1]\n",
    "    Y = np.shape(init)[0]\n",
    "    \n",
    "    energy = 0\n",
    "    \n",
    "    for i in range(1, Y-1):\n",
    "        for j in range(1, X-1):\n",
    "            energy += -J * init[i,j] * (init[i+1,j] + init[i-1,j] + init[i,j+1] + init[i,j-1])\n",
    "            \n",
    "    energy = energy/2\n",
    "    \n",
    "    return energy"
   ]
  },
  {
   "cell_type": "code",
   "execution_count": 230,
   "metadata": {},
   "outputs": [],
   "source": [
    "def ising_mag(init):\n",
    "    \"\"\"Computes the magnetization of a lattice in the Ising model\"\"\"\n",
    "    \n",
    "    mag = np.sum(init)\n",
    "    \n",
    "    return mag"
   ]
  },
  {
   "cell_type": "code",
   "execution_count": 297,
   "metadata": {},
   "outputs": [],
   "source": [
    "def plot_met_ising(init, boltz, J, n, final_only = True):\n",
    "    \"\"\"Plots n-step evolution of an Ising model using Metropolis and returns the final grid\"\"\"\n",
    "\n",
    "    X = np.shape(init)[1]\n",
    "    Y = np.shape(init)[0]\n",
    "    \n",
    "    # set up the extra elements for periodic boundaries (might be faster to roll)\n",
    "    grid = init[:,:]\n",
    "    grid = np.insert(grid, 0, np.zeros(Y), axis = 1)\n",
    "    grid = np.insert(grid, Y + 1, np.zeros(Y), axis = 1)\n",
    "    grid = np.insert(grid, 0, np.zeros(X+2), axis = 0)\n",
    "    grid = np.insert(grid, X + 1, np.zeros(X+2), axis = 0)\n",
    "    \n",
    "    # implement periodic boundary conditions\n",
    "    grid[:,0] = grid[:,-2]\n",
    "    grid[:,-1] = grid[:,1]\n",
    "    grid[0,:] = grid[-2,:]\n",
    "    grid[-1,:] = grid[1,:]\n",
    "    \n",
    "    # measureables\n",
    "    energy = ising_energy(grid, J)\n",
    "    mag = ising_mag(grid)\n",
    "\n",
    "    for i in range(n):    \n",
    "        # evolve using metropolis\n",
    "#        evo, d_energy, d_mag = metropolis_ising(grid, test_boltz, J)\n",
    "        evo, d_energy = metropolis_ising(grid, test_boltz, J)\n",
    "        \n",
    "        # increment energy and magnetization\n",
    "        energy += d_energy\n",
    "#        mag += d_mag\n",
    "        \n",
    "        # plotting\n",
    "        if final_only == False:    \n",
    "            # create discrete colormap, red for up (1) and blue for down (-1)\n",
    "            cmap = colors.ListedColormap(['blue', 'red'])\n",
    "            bounds = [1,1,1]\n",
    "            norm = colors.BoundaryNorm(bounds, cmap.N)\n",
    "\n",
    "            fig, ax = plt.subplots(figsize=(6,6))\n",
    "            plt.imshow(evo[1:-1,1:-1], cmap=cmap, norm=norm)\n",
    "            plt.title(f'2D Ising Model; n = {i+1}', fontsize=20)\n",
    "\n",
    "\n",
    "            # draw gridlines\n",
    "            ax.grid(which='major', axis='both', linestyle='-', color='k', linewidth=2)\n",
    "            ax.set_xticks(np.arange(-0.5, X))\n",
    "            ax.set_yticks(np.arange(-0.5, Y))\n",
    "            ax.tick_params(axis='x', which='both', bottom=False, top=False, labelbottom=False)\n",
    "            ax.tick_params(axis='y', which='both', left=False, right=False, labelleft=False)\n",
    "\n",
    "            display.clear_output(wait = True)\n",
    "\n",
    "            plt.show()\n",
    "        \n",
    "        \n",
    "        else:\n",
    "            if i == n-1:    \n",
    "                # create discrete colormap, red for up (1) and blue for down (-1)\n",
    "                cmap = colors.ListedColormap(['blue', 'red'])\n",
    "                bounds = [1,1,1]\n",
    "                norm = colors.BoundaryNorm(bounds, cmap.N)\n",
    "\n",
    "                fig, ax = plt.subplots(figsize=(6,6))\n",
    "                \n",
    "                # only plot the grid, without the BCs\n",
    "                plt.imshow(evo[1:-1,1:-1], cmap=cmap, norm=norm)\n",
    "                plt.title(f'2D Ising Model; n = {n}', fontsize=20)\n",
    "\n",
    "\n",
    "                # draw gridlines\n",
    "                ax.grid(which='major', axis='both', linestyle='-', color='k', linewidth=2)\n",
    "                ax.set_xticks(np.arange(-0.5, X))\n",
    "                ax.set_yticks(np.arange(-0.5, Y))\n",
    "                ax.tick_params(axis='x', which='both', bottom=False, top=False, labelbottom=False)\n",
    "                ax.tick_params(axis='y', which='both', left=False, right=False, labelleft=False)\n",
    "\n",
    "                plt.show()\n",
    "        \n",
    "        \n",
    "        # reset iteration variable\n",
    "        grid = evo[:,:]\n",
    "        \n",
    "        # implement periodic BCs\n",
    "        grid[:,0] = grid[:,-2]\n",
    "        grid[:,-1] = grid[:,1]\n",
    "        grid[0,:] = grid[-2,:]\n",
    "        grid[-1,:] = grid[1,:]\n",
    "    \n",
    "    # only want to return the grid without the BCs\n",
    "    return {'grid' : grid[1:-1, 1:-1], 'energy' : energy, 'bcgrid' : grid}"
   ]
  },
  {
   "cell_type": "code",
   "execution_count": 298,
   "metadata": {},
   "outputs": [],
   "source": [
    "test = 1*np.ones((30,30))\n",
    "\n",
    "T = 1000\n",
    "\n",
    "test_boltz = {\"4.0\" : np.exp(-8/T), \"2.0\" : np.exp(-4/T)}"
   ]
  },
  {
   "cell_type": "code",
   "execution_count": 304,
   "metadata": {},
   "outputs": [
    {
     "data": {
      "image/png": "[encoded data removed]",
      "text/plain": [
       "<matplotlib.figure.Figure at 0x1808cfe3e10>"
      ]
     },
     "metadata": {},
     "output_type": "display_data"
    }
   ],
   "source": [
    "init = test[:,:]\n",
    "\n",
    "random.seed()\n",
    "solution = plot_met_ising(init, test_boltz, 1, 10000)"
   ]
  },
  {
   "cell_type": "code",
   "execution_count": 273,
   "metadata": {},
   "outputs": [
    {
     "data": {
      "text/plain": [
       "-0.02666666666666667"
      ]
     },
     "execution_count": 273,
     "metadata": {},
     "output_type": "execute_result"
    }
   ],
   "source": [
    "ising_mag(solution['grid'])/900"
   ]
  },
  {
   "cell_type": "code",
   "execution_count": null,
   "metadata": {},
   "outputs": [],
   "source": []
  }
 ],
 "metadata": {
  "kernelspec": {
   "display_name": "Python 3",
   "language": "python",
   "name": "python3"
  },
  "language_info": {
   "codemirror_mode": {
    "name": "ipython",
    "version": 3
   },
   "file_extension": ".py",
   "mimetype": "text/x-python",
   "name": "python",
   "nbconvert_exporter": "python",
   "pygments_lexer": "ipython3",
   "version": "3.6.4"
  }
 },
 "nbformat": 4,
 "nbformat_minor": 2
}
