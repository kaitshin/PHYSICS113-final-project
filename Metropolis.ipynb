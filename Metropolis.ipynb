{
 "cells": [
  {
   "cell_type": "code",
   "execution_count": 1,
   "metadata": {},
   "outputs": [],
   "source": [
    "from matplotlib import pyplot as plt\n",
    "from IPython import display\n",
    "import numpy as np\n",
    "import random\n",
    "from matplotlib import colors\n",
    "import copy\n",
    "\n",
    "%matplotlib inline"
   ]
  },
  {
   "cell_type": "code",
   "execution_count": 202,
   "metadata": {},
   "outputs": [],
   "source": [
    "# input grid init should have 2 extra columns and 2 extra rows for BCs, -1 for down spins, and 1 for up spins\n",
    "# assumes periodic BCs\n",
    "def metropolis_ising(init, boltz):\n",
    "    \"\"\"Returns a mesh evolved by one step of applying the Metropolis algorithm, the energy change, \n",
    "    and the magnetization change\"\"\"\n",
    "    \n",
    "    mesh = copy.copy(init)\n",
    "    \n",
    "    X = np.shape(mesh)[1]\n",
    "    Y = np.shape(mesh)[0]\n",
    "    \n",
    "    # select random spin from the input spin mesh, ignoring the edges\n",
    "    spin = [random.choice(range(Y)),random.choice(range(X))]\n",
    "    \n",
    "    # applying the metropolis algorithm\n",
    "    spin_sum = (mesh[(spin[0]+1) % Y,spin[1] ] + mesh[spin[0] ,(spin[1]+1)  % X] \n",
    "                + mesh[(spin[0]-1)  % Y,spin[1] ] + mesh[spin[0] ,(spin[1]-1)  % X])\n",
    "    d_energy = 2*mesh[spin[0],spin[1]] * spin_sum\n",
    "    \n",
    "    if d_energy > 0:\n",
    "        accept_prob = boltz[str(abs(spin_sum))]\n",
    "\n",
    "        sample = random.uniform(0,1)\n",
    "        \n",
    "        if sample > accept_prob:\n",
    "            d_energy = 0\n",
    "            d_mag = 0\n",
    "        \n",
    "        else:\n",
    "            mesh[spin[0],spin[1]] = -1*mesh[spin[0],spin[1]]\n",
    "            d_mag = 2*mesh[spin[0],spin[1]]\n",
    "            \n",
    "    else:\n",
    "        mesh[spin[0],spin[1]] = -1*mesh[spin[0],spin[1]]\n",
    "        d_mag = 2*mesh[spin[0],spin[1]]\n",
    "    \n",
    "\n",
    "    return [mesh, d_energy, d_mag]"
   ]
  },
  {
   "cell_type": "code",
   "execution_count": 203,
   "metadata": {},
   "outputs": [],
   "source": [
    "# the input grid uses 2 extra columns and 2 extra rows for BCs\n",
    "# assumes periodic BCs\n",
    "def ising_energy(init):\n",
    "    \"\"\"Computes the energy of a 2D square lattice in the Ising model\"\"\"\n",
    "    \n",
    "    X = np.shape(init)[1]\n",
    "    Y = np.shape(init)[0]\n",
    "    \n",
    "    energy = 0\n",
    "    \n",
    "    for i in range(Y):\n",
    "        for j in range(X):\n",
    "            energy += -1 * init[i,j] * (init[(i+1) % Y ,j] + init[(i-1) % Y,j] + init[i,(j+1) % X] + init[i,(j-1) % X])\n",
    "            \n",
    "    energy = energy/2\n",
    "    \n",
    "    return energy"
   ]
  },
  {
   "cell_type": "code",
   "execution_count": 212,
   "metadata": {},
   "outputs": [
    {
     "data": {
      "text/plain": [
       "20.0"
      ]
     },
     "execution_count": 212,
     "metadata": {},
     "output_type": "execute_result"
    }
   ],
   "source": [
    "ising_energy(solution)"
   ]
  },
  {
   "cell_type": "code",
   "execution_count": 205,
   "metadata": {},
   "outputs": [],
   "source": [
    "def plot_ising_grid(init, title):\n",
    "    \"\"\"Creates a discrete colormap for an input Ising grid, red for up (1) and blue for down (-1)\"\"\"\n",
    "    X = np.shape(init)[1]\n",
    "    Y = np.shape(init)[0]\n",
    "    \n",
    "    cmap = colors.ListedColormap(['blue', 'red'])\n",
    "    bounds = [0,1,1]\n",
    "    norm = colors.BoundaryNorm(bounds, cmap.N)\n",
    "    \n",
    "    fig, ax = plt.subplots(figsize=(6,6))\n",
    "    plt.imshow(init, cmap=cmap, norm=norm)\n",
    "    plt.title(title, fontsize=20)\n",
    "\n",
    "\n",
    "    # draw gridlines\n",
    "    ax.grid(which='major', axis='both', linestyle='-', color='k', linewidth=2)\n",
    "    ax.set_xticks(np.arange(-0.5, X))\n",
    "    ax.set_yticks(np.arange(-0.45,Y))\n",
    "    ax.tick_params(axis='x', which='both', bottom=False, top=False, labelbottom=False)\n",
    "    ax.tick_params(axis='y', which='both', left=False, right=False, labelleft=False)\n",
    "\n",
    "    display.clear_output(wait = True)\n",
    "\n",
    "    plt.show()"
   ]
  },
  {
   "cell_type": "code",
   "execution_count": 206,
   "metadata": {},
   "outputs": [],
   "source": [
    "def met_ising(init, boltz, n, final_only = True):\n",
    "    \"\"\"Plots n-step evolution of an Ising model using Metropolis and returns the final grid\"\"\"\n",
    "    \n",
    "    grid = init[:,:]\n",
    "    \n",
    "    for i in range(n):    \n",
    "        # evolve using metropolis\n",
    "        evo = metropolis_ising(grid, boltz)[0]\n",
    "        \n",
    "        # plotting\n",
    "        if final_only == False:    \n",
    "            plot_ising_grid(evo, f'2D Ising Model; n = {i+1}')\n",
    "        \n",
    "        \n",
    "        else:\n",
    "            if i == n-1:\n",
    "                plot_ising_grid(evo, f'2D Ising Model; n = {i+1}')\n",
    "        \n",
    "        # reset iteration variable\n",
    "        grid = evo[:,:]\n",
    "        \n",
    "    return evo"
   ]
  },
  {
   "cell_type": "code",
   "execution_count": 207,
   "metadata": {},
   "outputs": [],
   "source": [
    "test = 1*np.ones((30,30))\n",
    "\n",
    "T = 1000\n",
    "\n",
    "test_boltz = {\"4.0\" : np.exp(-8/T), \"2.0\" : np.exp(-4/T)}"
   ]
  },
  {
   "cell_type": "code",
   "execution_count": 211,
   "metadata": {},
   "outputs": [
    {
     "data": {
      "image/png": "[encoded data removed]",
      "text/plain": [
       "<matplotlib.figure.Figure at 0x1af8b3bcc18>"
      ]
     },
     "metadata": {},
     "output_type": "display_data"
    }
   ],
   "source": [
    "init = test[:,:]\n",
    "\n",
    "random.seed(1)\n",
    "solution = met_ising(init, test_boltz, 10000)"
   ]
  },
  {
   "cell_type": "code",
   "execution_count": 243,
   "metadata": {},
   "outputs": [],
   "source": [
    "def energy_evo(init, boltz, n, plot = True):\n",
    "    \"\"\"Returns a list of energies for a 2D Ising grid from every timestep and plots the list\"\"\"\n",
    "\n",
    "    X = np.shape(init)[1]\n",
    "    Y = np.shape(init)[0]\n",
    "    total = X*Y\n",
    "    \n",
    "    grid = init[:,:]\n",
    "    \n",
    "    # energy\n",
    "    energy = ising_energy(grid)\n",
    "    energy_list = [energy]\n",
    "    \n",
    "    # evolution\n",
    "    for i in range(n):\n",
    "        evo, d_energy, d_mag = metropolis_ising(grid, boltz)\n",
    "        \n",
    "        # increment energy\n",
    "        energy += d_energy\n",
    "        energy_list.append(energy)\n",
    "    \n",
    "        # reset iteration variable\n",
    "        grid = evo[:,:]\n",
    "    \n",
    "    if plot == True:\n",
    "        # plotting\n",
    "        x_axis = [i/total for i in range(n+1)]\n",
    "\n",
    "        plt.figure(figsize=(6,6))\n",
    "        plt.plot(x_axis,energy_list)\n",
    "        plt.tick_params(axis='both', which='major', labelsize=12)\n",
    "        plt.xlabel('Sweeps', fontsize=20)\n",
    "        plt.ylabel('Energy', fontsize=20)\n",
    "        plt.title(f'Energy of Ising Grid', fontsize=20)\n",
    "\n",
    "    return energy_list\n"
   ]
  },
  {
   "cell_type": "code",
   "execution_count": 244,
   "metadata": {},
   "outputs": [
    {
     "data": {
      "image/png": "[encoded data removed]",
      "text/plain": [
       "<matplotlib.figure.Figure at 0x1af8d013278>"
      ]
     },
     "metadata": {},
     "output_type": "display_data"
    }
   ],
   "source": [
    "init = test[:,:]\n",
    "\n",
    "\n",
    "random.seed(1)\n",
    "e_list = energy_evo(init, test_boltz, 10000)"
   ]
  },
  {
   "cell_type": "code",
   "execution_count": 252,
   "metadata": {},
   "outputs": [],
   "source": [
    "def magps(init, boltz, n, plot = True):\n",
    "    \"\"\"Returns a list of mag. per spin for a 2D Ising grid from every timestep and plots the list\"\"\"\n",
    "\n",
    "    X = np.shape(init)[1]\n",
    "    Y = np.shape(init)[0]\n",
    "    total = X*Y\n",
    "    \n",
    "    grid = init[:,:]\n",
    "    \n",
    "    # magnetization\n",
    "    mag = np.sum(grid)\n",
    "    mag_list = [mag/total]\n",
    "    \n",
    "    # evolution\n",
    "    for i in range(n):\n",
    "        evo, d_energy, d_mag = metropolis_ising(grid, boltz)\n",
    "        \n",
    "        # increment magnetization\n",
    "        mag += d_mag\n",
    "        mag_list.append(mag)\n",
    "    \n",
    "        # reset iteration variable\n",
    "        grid = evo[:,:]\n",
    "\n",
    "    if plot == True:\n",
    "        # plotting\n",
    "        x_axis = [i/total for i in range(n+1)]\n",
    "\n",
    "        plt.figure(figsize=(6,6))\n",
    "        plt.plot(x_axis,mag_list)\n",
    "        plt.tick_params(axis='both', which='major', labelsize=12)\n",
    "        plt.xlabel('Sweeps', fontsize=20)\n",
    "        plt.ylabel('Magnetization per Spin', fontsize=20)\n",
    "        plt.title(f'Magnetization per Spin of Ising Grid', fontsize=20)\n",
    "    \n",
    "    \n",
    "    return mag_list"
   ]
  },
  {
   "cell_type": "code",
   "execution_count": 253,
   "metadata": {},
   "outputs": [
    {
     "data": {
      "image/png": "[encoded data removed]",
      "text/plain": [
       "<matplotlib.figure.Figure at 0x1af8cb380f0>"
      ]
     },
     "metadata": {},
     "output_type": "display_data"
    }
   ],
   "source": [
    "random.seed(1)\n",
    "m_list = magps(init, test_boltz,10000)"
   ]
  },
  {
   "cell_type": "code",
   "execution_count": 254,
   "metadata": {},
   "outputs": [],
   "source": [
    "def spec_heat_ps(energy_list, T, N):\n",
    "    \"\"\"Compute the specific heat per spin for an input list of energy values at temperature T and lattice sites N\"\"\"\n",
    "    \n",
    "    moment_1 = np.sum(energy_list)/len(energy_list)\n",
    "    moment_2 = np.sum([i**2 for i in energy_list])/len(energy_list)\n",
    "    \n",
    "    c = (1/(T**2 * N)) * (moment_2 - moment_1**2)\n",
    "    \n",
    "    return c"
   ]
  },
  {
   "cell_type": "code",
   "execution_count": 255,
   "metadata": {},
   "outputs": [],
   "source": [
    "def sus(mag_list, T, N):\n",
    "    \"\"\"Compute susceptibility for an input list of mag per spin values at temperature T and lattice sites N\"\"\"\n",
    "    \n",
    "    moment_1 = np.sum(mag_list)/len(mag_list)\n",
    "    moment_2 = np.sum([i**2 for i in mag_list])/len(mag_list)\n",
    "    \n",
    "    chi = (N/T) * (moment_2 - moment_1**2)\n",
    "    \n",
    "    return chi"
   ]
  },
  {
   "cell_type": "code",
   "execution_count": 256,
   "metadata": {},
   "outputs": [],
   "source": [
    "# c_list is a list of specific heats per spin computed at the evenly-spaced, ascending order temperatures on temp_list\n",
    "#s_0 is the entropy per spin at the the minimum of temp_list \n",
    "def ent_ps(temp_list, c_list, s_0):\n",
    "    \"\"\"Compute the entropy of an Ising lattice using the trapezoidal rule for a given set of temperatures and c\"\"\"\n",
    "    \n",
    "    dT = temp_list[1] - temp_list[0]\n",
    "    n = len(temp_list)\n",
    "    \n",
    "    # compute the boundary terms\n",
    "    t_min = t[0]\n",
    "    t_max = t[-1]\n",
    "    \n",
    "    c_1 = c_list[0]\n",
    "    c_2 = c_list[-1]\n",
    "    \n",
    "    boundary = (c_2/t_max + c_1/t_min)\n",
    "    \n",
    "    \n",
    "    # initialize the integral sum\n",
    "    integral = boundary\n",
    "    \n",
    "    for i in range(1,n-1):\n",
    "        integral += c_list[i]/temp_list[i]\n",
    "        \n",
    "    integral = integral*dT\n",
    "    \n",
    "    # include the integration constant\n",
    "    s = s_0 + integral\n",
    "    \n",
    "    return s\n",
    "    "
   ]
  },
  {
   "cell_type": "code",
   "execution_count": 231,
   "metadata": {},
   "outputs": [],
   "source": [
    "temps = []\n",
    "\n",
    "for i in range(100,205, 5):\n",
    "    temps.append(i)"
   ]
  },
  {
   "cell_type": "code",
   "execution_count": null,
   "metadata": {},
   "outputs": [],
   "source": []
  }
 ],
 "metadata": {
  "kernelspec": {
   "display_name": "Python 3",
   "language": "python",
   "name": "python3"
  },
  "language_info": {
   "codemirror_mode": {
    "name": "ipython",
    "version": 3
   },
   "file_extension": ".py",
   "mimetype": "text/x-python",
   "name": "python",
   "nbconvert_exporter": "python",
   "pygments_lexer": "ipython3",
   "version": "3.6.4"
  }
 },
 "nbformat": 4,
 "nbformat_minor": 2
}
