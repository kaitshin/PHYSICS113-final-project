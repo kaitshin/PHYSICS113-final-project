{
 "cells": [
  {
   "cell_type": "code",
   "execution_count": 1,
   "metadata": {},
   "outputs": [],
   "source": [
    "from matplotlib import pyplot as plt\n",
    "from IPython import display\n",
    "import numpy as np\n",
    "import random\n",
    "from matplotlib import colors\n",
    "import copy\n",
    "import time\n",
    "import scipy.optimize\n",
    "import datetime\n",
    "\n",
    "%matplotlib inline"
   ]
  },
  {
   "cell_type": "markdown",
   "metadata": {},
   "source": [
    "The functions below form the core of the simulation. Note that we haven't bothered to write a function for computing magnetization, because the magnetization is just the sum of the spins on the lattice."
   ]
  },
  {
   "cell_type": "code",
   "execution_count": 2,
   "metadata": {},
   "outputs": [],
   "source": [
    "# assumes periodic BCs\n",
    "def metropolis_ising(init, boltz):\n",
    "    \"\"\"Returns a mesh evolved by one step of applying the Metropolis algorithm, the energy change, \n",
    "    and the magnetization change\"\"\"\n",
    "    \n",
    "    mesh = copy.copy(init)\n",
    "    \n",
    "    X = np.shape(mesh)[1]\n",
    "    Y = np.shape(mesh)[0]\n",
    "    \n",
    "    # select random spin from the input spin mesh\n",
    "    x = random.choice(range(X))\n",
    "    y = random.choice(range(Y))\n",
    "    \n",
    "    # applying the metropolis algorithm\n",
    "    spin_sum = (mesh[(y+1) % Y,x ] + mesh[y ,(x+1) % X] + mesh[(y-1) % Y,x ] + mesh[y ,(x-1) % X])\n",
    "    d_energy = 2*mesh[y,x] * spin_sum\n",
    "    \n",
    "    if d_energy <= 0:\n",
    "        mesh[y,x] = -1*mesh[y,x]\n",
    "        d_mag = 2*mesh[y,x]\n",
    "        \n",
    "    elif random.uniform(0,1) < boltz[str(abs(spin_sum))]:\n",
    "        mesh[y,x] = -1*mesh[y,x]\n",
    "        d_mag = 2*mesh[y,x]\n",
    "        \n",
    "    else:\n",
    "        d_energy = 0\n",
    "        d_mag = 0\n",
    "        \n",
    "\n",
    "    return [mesh, d_energy, d_mag]"
   ]
  },
  {
   "cell_type": "code",
   "execution_count": 3,
   "metadata": {},
   "outputs": [],
   "source": [
    "def plot_ising_grid(init, title):\n",
    "    \"\"\"Creates a discrete colormap for an input Ising grid, red for up (1) and blue for down (-1)\"\"\"\n",
    "    X = np.shape(init)[1]\n",
    "    Y = np.shape(init)[0]\n",
    "    \n",
    "    cmap = colors.ListedColormap(['blue', 'red'])\n",
    "    bounds = [0,1,1]\n",
    "    norm = colors.BoundaryNorm(bounds, cmap.N)\n",
    "    \n",
    "    fig, ax = plt.subplots(figsize=(6,6))\n",
    "    plt.imshow(init, cmap=cmap, norm=norm)\n",
    "    plt.title(title, fontsize=20)\n",
    "    ax.tick_params(axis='x', which='both', bottom=False, top=False, labelbottom=False)\n",
    "    ax.tick_params(axis='y', which='both', left=False, right=False, labelleft=False)\n",
    "\n",
    "    display.clear_output(wait = True)\n",
    "\n",
    "    plt.show()"
   ]
  },
  {
   "cell_type": "code",
   "execution_count": 4,
   "metadata": {},
   "outputs": [],
   "source": [
    "def mc_step(init, boltz, n, plot = False, final_only = False):\n",
    "    \"\"\"Plots n-step evolution of an Ising model using Metropolis and returns the final grid\"\"\"\n",
    "    \n",
    "    grid = copy.copy(init)\n",
    "    \n",
    "    for i in range(n):    \n",
    "        # evolve using metropolis\n",
    "        grid = metropolis_ising(grid, boltz)[0]\n",
    "        \n",
    "        if plot == True:\n",
    "            # plotting\n",
    "            if final_only == False:    \n",
    "                plot_ising_grid(grid, f'2D Ising Model; n = {i+1}')\n",
    "\n",
    "\n",
    "            else:\n",
    "                if i == n-1:\n",
    "                    plot_ising_grid(grid, f'2D Ising Model; n = {i+1}')\n",
    "        \n",
    "    return grid"
   ]
  },
  {
   "cell_type": "code",
   "execution_count": 5,
   "metadata": {},
   "outputs": [],
   "source": [
    "# variant of the above that only returns the grid after 1 sweep\n",
    "# faster than the single-step program when simulating for very long times\n",
    "def mc_sweep(init, boltz):\n",
    "    \n",
    "    grid = copy.copy(init)\n",
    "    \n",
    "    X = np.shape(grid)[1]\n",
    "    Y = np.shape(grid)[0]\n",
    "    \n",
    "    for j in range(X):\n",
    "        for i in range(Y):\n",
    "            x = np.random.randint(X)\n",
    "            y = np.random.randint(Y)\n",
    "            spin = grid[y,x]\n",
    "            \n",
    "            spin_sum = grid[(y+1) % Y,x ] + grid[y ,(x+1) % X] + grid[(y-1) % Y,x ] + grid[y ,(x-1) % X]\n",
    "            d_energy = 2 * spin * spin_sum\n",
    "\n",
    "            if d_energy <= 0:\n",
    "                grid[y,x] = -1*grid[y,x]\n",
    "              #  d_mag = 2*grid[y,x]\n",
    "\n",
    "            elif random.uniform(0,1) < boltz[str(abs(spin_sum))]:\n",
    "                grid[y,x] = -1*grid[y,x]\n",
    "            #    d_mag = 2*grid[y,x]\n",
    "\n",
    "           # else:\n",
    "           #     d_energy = 0\n",
    "           #     d_mag = 0\n",
    "        \n",
    "    return grid\n",
    "                \n",
    "    "
   ]
  },
  {
   "cell_type": "code",
   "execution_count": 6,
   "metadata": {},
   "outputs": [],
   "source": [
    "def ising_energy(init):\n",
    "    \"\"\"Computes the energy of a 2D square lattice in the Ising model\"\"\"\n",
    "    \n",
    "    X = np.shape(init)[1]\n",
    "    Y = np.shape(init)[0]\n",
    "    \n",
    "    energy = 0\n",
    "    \n",
    "    for i in range(Y):\n",
    "        for j in range(X):\n",
    "            energy += -1 * init[i,j] * (init[(i+1) % Y ,j] + init[(i-1) % Y,j] + init[i,(j+1) % X] + init[i,(j-1) % X])\n",
    "            \n",
    "    energy = energy/2\n",
    "    \n",
    "    return energy"
   ]
  },
  {
   "cell_type": "markdown",
   "metadata": {},
   "source": [
    "The following functions are auxiliary; they are used to check various properties of the simulation, like equilibration time or thermodynamic properties."
   ]
  },
  {
   "cell_type": "code",
   "execution_count": 7,
   "metadata": {},
   "outputs": [],
   "source": [
    "def energy_evo(init, boltz, n, plot = True):\n",
    "    \"\"\"Returns a list of energies for a 2D Ising grid from every timestep and plots the list\"\"\"\n",
    "\n",
    "    X = np.shape(init)[1]\n",
    "    Y = np.shape(init)[0]\n",
    "    total = X*Y\n",
    "    \n",
    "    grid = copy.copy(init)\n",
    "    \n",
    "    # energy\n",
    "    energy = ising_energy(grid)\n",
    "    energy_list = [energy]\n",
    "    \n",
    "    # evolution\n",
    "    for i in range(n):\n",
    "        grid, d_energy, d_mag = metropolis_ising(grid, boltz)\n",
    "        \n",
    "        # increment energy\n",
    "        energy += d_energy\n",
    "        energy_list.append(energy)\n",
    "\n",
    "    \n",
    "    if plot == True:\n",
    "        # plotting\n",
    "        x_axis = [i/total for i in range(n+1)]\n",
    "\n",
    "        plt.figure(figsize=(6,6))\n",
    "        plt.plot(x_axis,energy_list)\n",
    "        plt.tick_params(axis='both', which='major', labelsize=12)\n",
    "        plt.xlabel('Sweeps', fontsize=20)\n",
    "        plt.ylabel('Energy', fontsize=20)\n",
    "        plt.title(f'Energy of Ising Grid', fontsize=20)\n",
    "\n",
    "    return energy_list\n"
   ]
  },
  {
   "cell_type": "code",
   "execution_count": 8,
   "metadata": {},
   "outputs": [],
   "source": [
    "def magps(init, boltz, n, plot = True):\n",
    "    \"\"\"Returns a list of mag. per spin for a 2D Ising grid from every timestep and plots the list\"\"\"\n",
    "\n",
    "    X = np.shape(init)[1]\n",
    "    Y = np.shape(init)[0]\n",
    "    total = X*Y\n",
    "    \n",
    "    grid = copy.copy(init)\n",
    "    \n",
    "    # magnetization\n",
    "    mag = np.sum(grid)\n",
    "    mag_list = [mag/total]\n",
    "    \n",
    "    # evolution\n",
    "    for i in range(n):\n",
    "        grid, d_energy, d_mag = metropolis_ising(grid, boltz)\n",
    "        \n",
    "        # increment magnetization\n",
    "        mag += d_mag\n",
    "        mag_list.append(mag/total)\n",
    "\n",
    "    if plot == True:\n",
    "        # plotting\n",
    "        x_axis = [i/total for i in range(n+1)]\n",
    "\n",
    "        plt.figure(figsize=(6,6))\n",
    "        plt.plot(x_axis,mag_list)\n",
    "        plt.tick_params(axis='both', which='major', labelsize=12)\n",
    "        plt.xlabel('Sweeps', fontsize=20)\n",
    "        plt.ylabel('Magnetization per Spin', fontsize=20)\n",
    "        plt.title(f'Magnetization per Spin of Ising Grid', fontsize=20)\n",
    "    \n",
    "    \n",
    "    return mag_list"
   ]
  },
  {
   "cell_type": "markdown",
   "metadata": {},
   "source": [
    "The following function are measurements that involve means. To get accurate means, one should probably sample with a frequency no greater than once per sweep, i.e. once per N number of MC steps, where N is the number of spins on the lattice."
   ]
  },
  {
   "cell_type": "code",
   "execution_count": 9,
   "metadata": {},
   "outputs": [],
   "source": [
    "# keep in mind sampling frequency for the energies in energy_list\n",
    "def spec_heat_ps(energy_list, T, N):\n",
    "    \"\"\"Compute the specific heat per spin for an input list of energy values at temperature T and lattice sites N\"\"\"\n",
    "    \n",
    "    if type(energy_list) is list:\n",
    "        energy_list = np.array(energy_list)\n",
    "    \n",
    "    c = (1/(T**2 * N)) * np.var(energy_list)\n",
    "    \n",
    "    return c"
   ]
  },
  {
   "cell_type": "code",
   "execution_count": 10,
   "metadata": {},
   "outputs": [],
   "source": [
    "def sus(mag_list, T, N):\n",
    "    \"\"\"Compute susceptibility for an input list of magnetization values at temperature T and lattice sites N\"\"\"\n",
    "    \n",
    "    if type(mag_list) is list:\n",
    "        mag_list = np.array(mag_list)\n",
    "    \n",
    "    chi = (1/(T*N)) * np.var(mag_list)\n",
    "    \n",
    "    return chi"
   ]
  },
  {
   "cell_type": "code",
   "execution_count": 11,
   "metadata": {},
   "outputs": [],
   "source": [
    "def ss_cor(init, boltz, n_sweep, n_equil, s1, s2):\n",
    "    \"\"\"Compute the mean correlation between spins s1 and s2\"\"\"\n",
    "    \n",
    "    grid = copy.copy(init)\n",
    "    \n",
    "    cor = 0\n",
    "    \n",
    "    # evolve to equilibrium\n",
    "    for i in range(n_equil):\n",
    "        grid = sweep(grid, boltz)\n",
    "        \n",
    "    # set the equilibrium value after which measurements will be made\n",
    "    for j in range(n_sweep):\n",
    "        grid = mc_sweep(grid, boltz)\n",
    "        cor += grid[s1[0],s1[1]] * grid[s2[0],s2[1]]\n",
    "    \n",
    "        \n",
    "    cor = cor/(n_sweep)\n",
    "    \n",
    "    return cor"
   ]
  },
  {
   "cell_type": "code",
   "execution_count": 12,
   "metadata": {},
   "outputs": [],
   "source": [
    "# c_list is a list of specific heats per spin computed at the evenly-spaced, \n",
    "# ascending-ordered temperatures on temp_list\n",
    "# s_0 is the entropy per spin at the the minimum of temp_list \n",
    "def ent_ps(temp_list, c_list, s_0):\n",
    "    \"\"\"Compute the entropy of an Ising lattice using the trapezoidal rule for a given set of temperatures and c\"\"\"\n",
    "    \n",
    "    dT = temp_list[1] - temp_list[0]\n",
    "    n = len(temp_list)\n",
    "    \n",
    "    # compute the boundary terms\n",
    "    t_min = temp_list[0]\n",
    "    t_max = temp_list[-1]\n",
    "    \n",
    "    c_1 = c_list[0]\n",
    "    c_2 = c_list[-1]\n",
    "    \n",
    "    boundary = (c_2/t_max + c_1/t_min)\n",
    "    \n",
    "    \n",
    "    # initialize the integral sum\n",
    "    integral = boundary\n",
    "    \n",
    "    for i in range(1,n-1):\n",
    "        integral += c_list[i]/temp_list[i]\n",
    "        \n",
    "    integral = integral*dT\n",
    "    \n",
    "    # include the integration constant\n",
    "    s = s_0 + integral\n",
    "    \n",
    "    return s\n",
    "    "
   ]
  },
  {
   "cell_type": "markdown",
   "metadata": {},
   "source": [
    "Below is the bootstrap code to compute an error"
   ]
  },
  {
   "cell_type": "code",
   "execution_count": 13,
   "metadata": {},
   "outputs": [],
   "source": [
    "def bootstrap_mean(values_list, n):\n",
    "    \"\"\"Uses the bootstrap method to compute the error in the mean of a given list of values\"\"\"\n",
    "    \n",
    "    values = copy.copy(values_list)\n",
    "    ns = len(values)\n",
    "    \n",
    "    means = []\n",
    "    \n",
    "    for i in range(n):\n",
    "        samples = np.random.choice(values, ns)\n",
    "        print(samples)\n",
    "        means.append(np.mean(samples))\n",
    "    \n",
    "    error = np.std(means)\n",
    "    \n",
    "    return error\n",
    "    \n",
    "    \n",
    "    "
   ]
  },
  {
   "cell_type": "code",
   "execution_count": 14,
   "metadata": {},
   "outputs": [],
   "source": [
    "def bootstrap_c(energies, T, N, n):\n",
    "    \"\"\"Uses bootstrap to compute the error in the specific heat for an input set of energies\"\"\"\n",
    "    \n",
    "    e_list = copy.copy(energies)\n",
    "    ns = len(e_list)\n",
    "    \n",
    "    values = []\n",
    "    \n",
    "    for i in range(n):\n",
    "        samples = np.random.choice(e_list, ns)\n",
    "        values.append(spec_heat_ps(samples, T, N))\n",
    "        \n",
    "    error = np.std(values)\n",
    "    \n",
    "    return error\n",
    "        "
   ]
  },
  {
   "cell_type": "code",
   "execution_count": 15,
   "metadata": {},
   "outputs": [],
   "source": [
    "def bootstrap_s(magps, T, N, n):\n",
    "    \"\"\"Uses bootstrap to compute the error in the susceptibility for an input set of magnetization\"\"\"\n",
    "    \n",
    "    mps_list = [i for i in magps]\n",
    "    ns = len(mps_list)\n",
    "    \n",
    "    values = []\n",
    "    \n",
    "    for i in range(n):\n",
    "        samples = np.random.choice(mps_list, ns)\n",
    "        values.append(sus(mps_list, T, N))\n",
    "    \n",
    "    error = np.std(values)\n",
    "    \n",
    "    return error\n",
    "        "
   ]
  },
  {
   "cell_type": "markdown",
   "metadata": {},
   "source": [
    "Below is some code used to explore the temperature range around the critical temperature, as well as a rudimentary attempt to obtain a value for the critical temperature and critcal exponents. Because the efforts are rudimentary and the computations take a lot of time, there has been no attempt to modularize the code."
   ]
  },
  {
   "cell_type": "code",
   "execution_count": 16,
   "metadata": {},
   "outputs": [],
   "source": [
    "def round_to_3(x):\n",
    "    if x != 0:\n",
    "        return round(x, -int(np.floor(np.log10(abs(x)))) + 2)\n",
    "    else:\n",
    "        return 0"
   ]
  },
  {
   "cell_type": "code",
   "execution_count": 23,
   "metadata": {},
   "outputs": [],
   "source": [
    "# initialize to T = 0\n",
    "ones8 = 1*np.ones((8,8)) \n",
    "\n",
    "temps = [t for t in np.arange(1.6, 2.91, .01)]\n",
    "for i in range(len(temps)):\n",
    "    temps[i] = round_to_3(temps[i])\n",
    "    \n",
    "t_points = len(temps)\n",
    "\n",
    "\n",
    "# initialize dictionaries to store values\n",
    "energy_dict = {}\n",
    "mag_dict = {}\n",
    "\n",
    "# set up keys and entries for dictionary\n",
    "for T in temps:\n",
    "    energy_dict20[str(T)] = []\n",
    "    mag_dict20[str(T)] = []\n",
    "\n",
    "# initialize lists to plot\n",
    "eneps_list = np.zeros(t_points)\n",
    "magps_list = np.zeros(t_points)\n",
    "spec_heat = np.zeros(t_points)\n",
    "mag_sus = np.zeros(t_points)\n",
    "\n",
    "# rough estimate for equilibration time; 100*N many sweeps\n",
    "n_eq = 100*8\n",
    "\n",
    "# number of sweeps to average over\n",
    "n = 50*8\n",
    "\n",
    "# factors for averaging\n",
    "n1 = 1/(n * 8**2)\n",
    "n2 = 1/(n**2 * 8**2)"
   ]
  },
  {
   "cell_type": "code",
   "execution_count": 24,
   "metadata": {},
   "outputs": [
    {
     "name": "stdout",
     "output_type": "stream",
     "text": [
      "T = 1.6; 76.16176414489746 seconds\n",
      "T = 1.9; 2343.601623058319 seconds\n",
      "T = 2.2; 4791.037336349487 seconds\n",
      "T = 2.5; 7591.67600774765 seconds\n",
      "Total time: 11537.145748853683\n"
     ]
    }
   ],
   "source": [
    "print(datetime.datetime.now().time())\n",
    "start = time.time()\n",
    "\n",
    "\n",
    "grid = copy.copy(ones8)\n",
    "\n",
    "for i in range(t_points):\n",
    "    T = temps[i]\n",
    "    boltz = {\"4.0\" : np.exp(-8/T), \"2.0\" : np.exp(-4/T)}\n",
    "    \n",
    "    for j in range(n_eq):\n",
    "        grid = mc_sweep(grid, boltz)           # starts from the final config of the last temperature\n",
    "    \n",
    "    # initialize the totals that will be used to compute averages\n",
    "    e_total = 0\n",
    "    e2_total = 0\n",
    "    mag_total = 0\n",
    "    mag2_total= 0\n",
    "    \n",
    "    # dummy lists to hold the measurements\n",
    "    e_all = np.zeros(n)\n",
    "    m_all = np.zeros(n)\n",
    "    \n",
    "    # measurements to average\n",
    "    for k in range(n):\n",
    "        grid = mc_sweep(grid, boltz)            \n",
    "        energy = ising_energy(grid)             # only taking measurements every sweep\n",
    "        mag = np.sum(grid)\n",
    "        \n",
    "        e_total += energy\n",
    "        e2_total += energy*energy\n",
    "        mag_total += abs(mag)\n",
    "        mag2_total += mag*mag\n",
    "        \n",
    "        e_all[k] = energy\n",
    "        m_all[k] = mag\n",
    "        \n",
    "    # storing all measurements for error purposes    \n",
    "    energy_dict[str(T)] = e_all\n",
    "    mag_dict[str(T)] = m_all\n",
    "    \n",
    "    # compute averages\n",
    "    eneps_list[i] = n1*e_total\n",
    "    magps_list[i] = n1*mag_total\n",
    "    spec_heat[i] = (n1*e2_total - n2*e_total*e_total)/(T*T)\n",
    "    mag_sus[i] = (n1*mag2_total - n2*mag_total*mag_total)/T\n",
    "    \n",
    "    if (1.599 < T < 1.601) or (1.899 < T < 1.901) or (2.199 < T < 2.201) or (2.499 < T < 2.501):\n",
    "        tick = time.time()\n",
    "        print(f'T = {T}; {tick - start} seconds')\n",
    "        \n",
    "        \n",
    "end = time.time()\n",
    "print(f'Total time: {end - start}')   "
   ]
  },
  {
   "cell_type": "code",
   "execution_count": 25,
   "metadata": {},
   "outputs": [
    {
     "data": {
      "text/plain": [
       "Text(0,0.5,'Susceptibility')"
      ]
     },
     "execution_count": 25,
     "metadata": {},
     "output_type": "execute_result"
    },
    {
     "data": {
      "image/png": "[encoded data removed]",
      "text/plain": [
       "<matplotlib.figure.Figure at 0x2ad42415358>"
      ]
     },
     "metadata": {},
     "output_type": "display_data"
    }
   ],
   "source": [
    "fig = plt.figure(figsize=(18, 10)) # plot the calculated values    \n",
    "\n",
    "fig.add_subplot(2, 2, 1 )\n",
    "plt.plot(temps, eneps_list, 'ro')\n",
    "plt.xlabel(\"Temperature\", fontsize=20)\n",
    "plt.ylabel(\"Energy per spin\", fontsize=20)\n",
    "\n",
    "fig.add_subplot(2, 2, 2 )\n",
    "plt.plot(temps, spec_heat, 'ro')\n",
    "plt.xlabel(\"Temperature\", fontsize=20)\n",
    "plt.ylabel(\"Specific Heat per spin\", fontsize=20)\n",
    "\n",
    "fig.add_subplot(2, 2, 3 )\n",
    "plt.plot(temps, abs(magps_list), 'bo')\n",
    "plt.xlabel(\"Temperature\", fontsize=20)\n",
    "plt.ylabel(\"Magnetization per spin\", fontsize=20)\n",
    "\n",
    "fig.add_subplot(2, 2, 4 )\n",
    "plt.plot(temps, mag_sus, 'bo')\n",
    "plt.xlabel(\"Temperature\", fontsize=20)\n",
    "plt.ylabel(\"Susceptibility\", fontsize=20)"
   ]
  },
  {
   "cell_type": "code",
   "execution_count": null,
   "metadata": {},
   "outputs": [],
   "source": [
    "np.save('eneps_list50v4', eneps_list50)\n",
    "np.save('spec_heat50v4', spec_heat50)\n",
    "np.save('magps_list50v4', magps_list50)\n",
    "np.save('mag_sus50v4', mag_sus50)\n",
    "np.save('ene_dict50v4', energy_dict50)\n",
    "np.save('mag_dict50v4', mag_dict50)"
   ]
  },
  {
   "cell_type": "code",
   "execution_count": null,
   "metadata": {},
   "outputs": [],
   "source": []
  },
  {
   "cell_type": "markdown",
   "metadata": {},
   "source": [
    "The magnetization per spin predicts $T_c = 2.269$ - $2.301$ and $\\alpha' = .109$ - $.131$. (highly variable depending on which points you keep for the refression)"
   ]
  },
  {
   "cell_type": "markdown",
   "metadata": {},
   "source": [
    "The magnetization per spin predicts $T_c = 2.367$ and $\\gamma' = 1.600$ - $1.811$."
   ]
  },
  {
   "cell_type": "markdown",
   "metadata": {},
   "source": [
    "The simulation is entirely unable to determine the critical exponent for the specific heat -- this is likely because the discontinuous drop of the specific heat cannot be modeled by our finite size lattice, coupled with the instability and lack of temperature resolution."
   ]
  }
 ],
 "metadata": {
  "kernelspec": {
   "display_name": "Python 3",
   "language": "python",
   "name": "python3"
  },
  "language_info": {
   "codemirror_mode": {
    "name": "ipython",
    "version": 3
   },
   "file_extension": ".py",
   "mimetype": "text/x-python",
   "name": "python",
   "nbconvert_exporter": "python",
   "pygments_lexer": "ipython3",
   "version": "3.6.4"
  }
 },
 "nbformat": 4,
 "nbformat_minor": 2
}
