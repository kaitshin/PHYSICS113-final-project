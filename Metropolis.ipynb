{
 "cells": [
  {
   "cell_type": "code",
   "execution_count": 118,
   "metadata": {},
   "outputs": [],
   "source": [
    "from matplotlib import pyplot as plt\n",
    "from IPython import display\n",
    "import numpy as np\n",
    "import random\n",
    "from matplotlib import colors\n",
    "import copy\n",
    "import time\n",
    "import scipy.optimize\n",
    "\n",
    "%matplotlib inline"
   ]
  },
  {
   "cell_type": "markdown",
   "metadata": {},
   "source": [
    "The functions below form the core of the simulation. Note that we haven't bothered to write a function for computing magnetization, because the magnetization is just the sum of the spins on the lattice."
   ]
  },
  {
   "cell_type": "code",
   "execution_count": 21,
   "metadata": {},
   "outputs": [],
   "source": [
    "# assumes periodic BCs\n",
    "def metropolis_ising(init, boltz):\n",
    "    \"\"\"Returns a mesh evolved by one step of applying the Metropolis algorithm, the energy change, \n",
    "    and the magnetization change\"\"\"\n",
    "    \n",
    "    mesh = copy.copy(init)\n",
    "    \n",
    "    X = np.shape(mesh)[1]\n",
    "    Y = np.shape(mesh)[0]\n",
    "    \n",
    "    # select random spin from the input spin mesh\n",
    "    x = random.choice(range(X))\n",
    "    y = random.choice(range(Y))\n",
    "    \n",
    "    # applying the metropolis algorithm\n",
    "    spin_sum = (mesh[(y+1) % Y,x ] + mesh[y ,(x+1) % X] + mesh[(y-1) % Y,x ] + mesh[y ,(x-1) % X])\n",
    "    d_energy = 2*mesh[y,x] * spin_sum\n",
    "    \n",
    "    if d_energy <= 0:\n",
    "        mesh[y,x] = -1*mesh[y,x]\n",
    "        d_mag = 2*mesh[y,x]\n",
    "        \n",
    "    elif random.uniform(0,1) < boltz[str(abs(spin_sum))]:\n",
    "        mesh[y,x] = -1*mesh[y,x]\n",
    "        d_mag = 2*mesh[y,x]\n",
    "        \n",
    "    else:\n",
    "        d_energy = 0\n",
    "        d_mag = 0\n",
    "        \n",
    "\n",
    "    return [mesh, d_energy, d_mag]"
   ]
  },
  {
   "cell_type": "code",
   "execution_count": 4,
   "metadata": {},
   "outputs": [],
   "source": [
    "def plot_ising_grid(init, title):\n",
    "    \"\"\"Creates a discrete colormap for an input Ising grid, red for up (1) and blue for down (-1)\"\"\"\n",
    "    X = np.shape(init)[1]\n",
    "    Y = np.shape(init)[0]\n",
    "    \n",
    "    cmap = colors.ListedColormap(['blue', 'red'])\n",
    "    bounds = [0,1,1]\n",
    "    norm = colors.BoundaryNorm(bounds, cmap.N)\n",
    "    \n",
    "    fig, ax = plt.subplots(figsize=(6,6))\n",
    "    plt.imshow(init, cmap=cmap, norm=norm)\n",
    "    plt.title(title, fontsize=20)\n",
    "    ax.tick_params(axis='x', which='both', bottom=False, top=False, labelbottom=False)\n",
    "    ax.tick_params(axis='y', which='both', left=False, right=False, labelleft=False)\n",
    "\n",
    "    display.clear_output(wait = True)\n",
    "\n",
    "    plt.show()"
   ]
  },
  {
   "cell_type": "code",
   "execution_count": 23,
   "metadata": {},
   "outputs": [],
   "source": [
    "def mc_step(init, boltz, n, plot = False, final_only = False):\n",
    "    \"\"\"Plots n-step evolution of an Ising model using Metropolis and returns the final grid\"\"\"\n",
    "    \n",
    "    grid = init[:,:]\n",
    "    \n",
    "    for i in range(n):    \n",
    "        # evolve using metropolis\n",
    "        evo = metropolis_ising(grid, boltz)[0]\n",
    "        \n",
    "        if plot == True:\n",
    "            # plotting\n",
    "            if final_only == False:    \n",
    "                plot_ising_grid(evo, f'2D Ising Model; n = {i+1}')\n",
    "\n",
    "\n",
    "            else:\n",
    "                if i == n-1:\n",
    "                    plot_ising_grid(evo, f'2D Ising Model; n = {i+1}')\n",
    "        \n",
    "        # reset iteration variable\n",
    "        grid = evo[:,:]\n",
    "        \n",
    "    return grid"
   ]
  },
  {
   "cell_type": "code",
   "execution_count": 3,
   "metadata": {},
   "outputs": [],
   "source": [
    "# variant of the above that only returns the grid after 1 sweep\n",
    "# faster than the single-step program when simulating for very long times\n",
    "def mc_sweep(init, boltz):\n",
    "    \n",
    "    grid = init[:,:]\n",
    "    \n",
    "    X = np.shape(grid)[1]\n",
    "    Y = np.shape(grid)[0]\n",
    "    \n",
    "    for j in range(X):\n",
    "        for i in range(Y):\n",
    "            x = np.random.randint(X)\n",
    "            y = np.random.randint(Y)\n",
    "            spin = grid[y,x]\n",
    "            \n",
    "            spin_sum = grid[(y+1) % Y,x ] + grid[y ,(x+1) % X] + grid[(y-1) % Y,x ] + grid[y ,(x-1) % X]\n",
    "            d_energy = 2 * spin * spin_sum\n",
    "\n",
    "            if d_energy <= 0:\n",
    "                grid[y,x] = -1*grid[y,x]\n",
    "              #  d_mag = 2*grid[y,x]\n",
    "\n",
    "            elif random.uniform(0,1) < boltz[str(abs(spin_sum))]:\n",
    "                grid[y,x] = -1*grid[y,x]\n",
    "            #    d_mag = 2*grid[y,x]\n",
    "\n",
    "           # else:\n",
    "           #     d_energy = 0\n",
    "           #     d_mag = 0\n",
    "        \n",
    "    return grid\n",
    "                \n",
    "    "
   ]
  },
  {
   "cell_type": "code",
   "execution_count": 6,
   "metadata": {},
   "outputs": [],
   "source": [
    "def ising_energy(init):\n",
    "    \"\"\"Computes the energy of a 2D square lattice in the Ising model\"\"\"\n",
    "    \n",
    "    X = np.shape(init)[1]\n",
    "    Y = np.shape(init)[0]\n",
    "    \n",
    "    energy = 0\n",
    "    \n",
    "    for i in range(Y):\n",
    "        for j in range(X):\n",
    "            energy += -1 * init[i,j] * (init[(i+1) % Y ,j] + init[(i-1) % Y,j] + init[i,(j+1) % X] + init[i,(j-1) % X])\n",
    "            \n",
    "    energy = energy/2\n",
    "    \n",
    "    return energy"
   ]
  },
  {
   "cell_type": "markdown",
   "metadata": {},
   "source": [
    "The following functions are auxiliary; they are used to check various properties of the simulation, like equilibration time or thermodynamic properties."
   ]
  },
  {
   "cell_type": "code",
   "execution_count": 7,
   "metadata": {},
   "outputs": [],
   "source": [
    "def energy_evo(init, boltz, n, plot = True):\n",
    "    \"\"\"Returns a list of energies for a 2D Ising grid from every timestep and plots the list\"\"\"\n",
    "\n",
    "    X = np.shape(init)[1]\n",
    "    Y = np.shape(init)[0]\n",
    "    total = X*Y\n",
    "    \n",
    "    grid = init[:,:]\n",
    "    \n",
    "    # energy\n",
    "    energy = ising_energy(grid)\n",
    "    energy_list = [energy]\n",
    "    \n",
    "    # evolution\n",
    "    for i in range(n):\n",
    "        evo, d_energy, d_mag = metropolis_ising(grid, boltz)\n",
    "        \n",
    "        # increment energy\n",
    "        energy += d_energy\n",
    "        energy_list.append(energy)\n",
    "    \n",
    "        # reset iteration variable\n",
    "        grid = evo[:,:]\n",
    "    \n",
    "    if plot == True:\n",
    "        # plotting\n",
    "        x_axis = [i/total for i in range(n+1)]\n",
    "\n",
    "        plt.figure(figsize=(6,6))\n",
    "        plt.plot(x_axis,energy_list)\n",
    "        plt.tick_params(axis='both', which='major', labelsize=12)\n",
    "        plt.xlabel('Sweeps', fontsize=20)\n",
    "        plt.ylabel('Energy', fontsize=20)\n",
    "        plt.title(f'Energy of Ising Grid', fontsize=20)\n",
    "\n",
    "    return energy_list\n"
   ]
  },
  {
   "cell_type": "code",
   "execution_count": 8,
   "metadata": {},
   "outputs": [],
   "source": [
    "def magps(init, boltz, n, plot = True):\n",
    "    \"\"\"Returns a list of mag. per spin for a 2D Ising grid from every timestep and plots the list\"\"\"\n",
    "\n",
    "    X = np.shape(init)[1]\n",
    "    Y = np.shape(init)[0]\n",
    "    total = X*Y\n",
    "    \n",
    "    grid = init[:,:]\n",
    "    \n",
    "    # magnetization\n",
    "    mag = np.sum(grid)\n",
    "    mag_list = [mag/total]\n",
    "    \n",
    "    # evolution\n",
    "    for i in range(n):\n",
    "        evo, d_energy, d_mag = metropolis_ising(grid, boltz)\n",
    "        \n",
    "        # increment magnetization\n",
    "        mag += d_mag\n",
    "        mag_list.append(mag/total)\n",
    "    \n",
    "        # reset iteration variable\n",
    "        grid = evo[:,:]\n",
    "\n",
    "    if plot == True:\n",
    "        # plotting\n",
    "        x_axis = [i/total for i in range(n+1)]\n",
    "\n",
    "        plt.figure(figsize=(6,6))\n",
    "        plt.plot(x_axis,mag_list)\n",
    "        plt.tick_params(axis='both', which='major', labelsize=12)\n",
    "        plt.xlabel('Sweeps', fontsize=20)\n",
    "        plt.ylabel('Magnetization per Spin', fontsize=20)\n",
    "        plt.title(f'Magnetization per Spin of Ising Grid', fontsize=20)\n",
    "    \n",
    "    \n",
    "    return mag_list"
   ]
  },
  {
   "cell_type": "code",
   "execution_count": 13,
   "metadata": {},
   "outputs": [],
   "source": [
    "def auto_cor_m(init, boltz, n):\n",
    "    \"\"\"Compute the time auto-correlation value using the magnetization per spin\"\"\"\n",
    "    \n",
    "    X = np.shape(init)[1]\n",
    "    Y = np.shape(init)[0]\n",
    "    total = X*Y\n",
    "    \n",
    "    mag_list = magps(init, boltz, n, plot = False)\n",
    "    \n",
    "    mag_mean = np.mean(mag_list)\n",
    "    m_mean2 = mag_mean**2\n",
    "    \n",
    "    auto_cor = []\n",
    "    \n",
    "    for i in range(len(mag_list)-1):\n",
    "        \n",
    "        auto_cor.append(mag_list[i]*mag_list[i+1] - m_mean2)\n",
    "        \n",
    "    # plotting\n",
    "    x_axis = [i/total for i in range(len(auto_cor))]\n",
    "\n",
    "    plt.figure(figsize=(6,6))\n",
    "    plt.plot(x_axis,auto_cor)\n",
    "    plt.tick_params(axis='both', which='major', labelsize=12)\n",
    "    plt.xlabel('Sweeps', fontsize=20)\n",
    "    plt.title(f'Magnetization Autocorrelation', fontsize=20)\n",
    "    \n",
    "    \n",
    "    \n",
    "    "
   ]
  },
  {
   "cell_type": "markdown",
   "metadata": {},
   "source": [
    "The following function are measurements that involve means. To get accurate means, one should probably sample with a frequency no greater than once per sweep, i.e. once per N number of MC steps, where N is the number of spins on the lattice."
   ]
  },
  {
   "cell_type": "code",
   "execution_count": 9,
   "metadata": {},
   "outputs": [],
   "source": [
    "# keep in mind sampling frequency for the energies in energy_list\n",
    "def spec_heat_ps(energy_list, T, N):\n",
    "    \"\"\"Compute the specific heat per spin for an input list of energy values at temperature T and lattice sites N\"\"\"\n",
    "    \n",
    "    if type(energy_list) is list:\n",
    "        energy_list = np.array(energy_list)\n",
    "    \n",
    "    moment_1 = np.mean(energy_list)\n",
    "    moment_2 = np.mean(np.square(energy_list))\n",
    "    \n",
    "    c = (1/(T**2 * N)) * (moment_2 - moment_1**2)\n",
    "    \n",
    "    return c"
   ]
  },
  {
   "cell_type": "code",
   "execution_count": 10,
   "metadata": {},
   "outputs": [],
   "source": [
    "def sus(mag_list, T, N):\n",
    "    \"\"\"Compute susceptibility for an input list of mag per spin values at temperature T and lattice sites N\"\"\"\n",
    "    \n",
    "    if type(mag_list) is list:\n",
    "        mag_list = np.array(mag_list)\n",
    "    \n",
    "    moment_1 = np.mean(mag_list)\n",
    "    \n",
    "    moment_2 = np.mean(np.square(mag_list))\n",
    "    \n",
    "    chi = (N/T) * (moment_2 - moment_1**2)\n",
    "    \n",
    "    return chi"
   ]
  },
  {
   "cell_type": "code",
   "execution_count": 78,
   "metadata": {},
   "outputs": [],
   "source": [
    "def ss_cor(init, boltz, n_sweep, n_equil, s1, s2):\n",
    "    \"\"\"Compute the mean correlation between spins s1 and s2\"\"\"\n",
    "    \n",
    "    grid = init[:,:]\n",
    "    \n",
    "    cor = 0\n",
    "    \n",
    "    # evolve to equilibrium\n",
    "    for i in range(n_equil):\n",
    "        mc_sweep(grid, boltz)\n",
    "        \n",
    "    # set the equilibrium value after which measurements will be made\n",
    "    for j in range(n_sweep):\n",
    "        mc_sweep(grid, boltz)\n",
    "        cor += grid[s1[0],s1[1]] * grid[s2[0],s2[1]]\n",
    "    \n",
    "        \n",
    "    cor = cor/(n_sweep)\n",
    "    \n",
    "    return cor"
   ]
  },
  {
   "cell_type": "code",
   "execution_count": 11,
   "metadata": {},
   "outputs": [],
   "source": [
    "# c_list is a list of specific heats per spin computed at the evenly-spaced, \n",
    "# ascending-ordered temperatures on temp_list\n",
    "# s_0 is the entropy per spin at the the minimum of temp_list \n",
    "def ent_ps(temp_list, c_list, s_0):\n",
    "    \"\"\"Compute the entropy of an Ising lattice using the trapezoidal rule for a given set of temperatures and c\"\"\"\n",
    "    \n",
    "    dT = temp_list[1] - temp_list[0]\n",
    "    n = len(temp_list)\n",
    "    \n",
    "    # compute the boundary terms\n",
    "    t_min = temp_list[0]\n",
    "    t_max = temp_list[-1]\n",
    "    \n",
    "    c_1 = c_list[0]\n",
    "    c_2 = c_list[-1]\n",
    "    \n",
    "    boundary = (c_2/t_max + c_1/t_min)\n",
    "    \n",
    "    \n",
    "    # initialize the integral sum\n",
    "    integral = boundary\n",
    "    \n",
    "    for i in range(1,n-1):\n",
    "        integral += c_list[i]/temp_list[i]\n",
    "        \n",
    "    integral = integral*dT\n",
    "    \n",
    "    # include the integration constant\n",
    "    s = s_0 + integral\n",
    "    \n",
    "    return s\n",
    "    "
   ]
  },
  {
   "cell_type": "markdown",
   "metadata": {},
   "source": [
    "Below is some code used to explore the temperature range around the critical temperature, as well as a rudimentary attempt to obtain a value for the critical temperature and critcal exponents."
   ]
  },
  {
   "cell_type": "code",
   "execution_count": 80,
   "metadata": {},
   "outputs": [],
   "source": [
    "# exploring the temperature range around the critical temp\n",
    "\n",
    "t_crit = 2.269\n",
    "temps = np.random.normal(t_crit, 0.68, 250)      # want finer temperature resolution around the critical temperature\n",
    "temps = [t for t in temps if (t > 1.0) & (t<3.5)]      # take out fringes\n",
    "t_points = len(temps)\n",
    "\n",
    "# initialize lists\n",
    "eneps = np.zeros(t_points)\n",
    "magps = np.zeros(t_points)\n",
    "spec_heat = np.zeros(t_points)\n",
    "mag_sus = np.zeros(t_points)"
   ]
  },
  {
   "cell_type": "code",
   "execution_count": 81,
   "metadata": {},
   "outputs": [],
   "source": [
    "# initialize to T = 0\n",
    "test = 1*np.ones((15,15))      # large lattices and equilibration times strongly correlate to total runtime\n",
    "init = test[:,:]\n",
    "\n",
    "# rough estimate for equilibration time; 5*N many sweeps\n",
    "n_eq = 5*15**2\n",
    "\n",
    "# number of sweeps to average over\n",
    "n = 1000\n",
    "\n",
    "# factors for averaging\n",
    "n1 = 1/(n * 15**2)\n",
    "n2 = 1/(n**2 * 15**2)"
   ]
  },
  {
   "cell_type": "code",
   "execution_count": 82,
   "metadata": {},
   "outputs": [
    {
     "name": "stdout",
     "output_type": "stream",
     "text": [
      "466.6361334323883\n"
     ]
    }
   ],
   "source": [
    "start = time.time()\n",
    "\n",
    "grid = copy.copy(init)\n",
    "\n",
    "for i in range(t_points):\n",
    "    T = temps[i]\n",
    "    boltz = {\"4.0\" : np.exp(-8/T), \"2.0\" : np.exp(-4/T)}\n",
    "    \n",
    "    for j in range(n_eq):\n",
    "        mc_sweep(grid, boltz)         # fewer function calls than stepping n_eq * N times, so faster\n",
    "    \n",
    "    # initialize the totals that will be used to compute averages\n",
    "    e_total = 0\n",
    "    e2_total = 0\n",
    "    mag_total = 0\n",
    "    mag2_total= 0\n",
    "    \n",
    "    # measurements to average\n",
    "    for k in range(n):\n",
    "        mc_sweep(grid, boltz)\n",
    "        energy = ising_energy(grid)             # only taking measurements every sweep\n",
    "        mag = np.sum(grid)\n",
    "        \n",
    "        e_total += energy\n",
    "        e2_total += energy*energy               # faster than squaring using **2 I think?\n",
    "        mag_total += mag\n",
    "        mag2_total += mag*mag\n",
    "    \n",
    "    # compute averages\n",
    "    eneps[i] = n1*e_total\n",
    "    magps[i] = n1*mag_total\n",
    "    spec_heat[i] = (n1*e2_total - n2*e_total*e_total)/(T*T)\n",
    "    mag_sus[i] = (n1*mag2_total - n2*mag_total*mag_total)/T\n",
    "        \n",
    "        \n",
    "end = time.time()\n",
    "print(end - start)    "
   ]
  },
  {
   "cell_type": "code",
   "execution_count": 211,
   "metadata": {},
   "outputs": [
    {
     "data": {
      "text/plain": [
       "Text(0,0.5,'Susceptibility')"
      ]
     },
     "execution_count": 211,
     "metadata": {},
     "output_type": "execute_result"
    },
    {
     "data": {
      "image/png": "[encoded data removed]",
      "text/plain": [
       "<matplotlib.figure.Figure at 0x1a2059e0d30>"
      ]
     },
     "metadata": {},
     "output_type": "display_data"
    }
   ],
   "source": [
    "fig = plt.figure(figsize=(18, 10)) # plot the calculated values    \n",
    "\n",
    "fig.add_subplot(2, 2, 1 )\n",
    "plt.plot(temps, eneps, 'ro')\n",
    "plt.xlabel(\"Temperature\", fontsize=20)\n",
    "plt.ylabel(\"Energy per spin\", fontsize=20)\n",
    "\n",
    "fig.add_subplot(2, 2, 2 )\n",
    "plt.plot(temps, spec_heat, 'ro')\n",
    "plt.xlabel(\"Temperature\", fontsize=20)\n",
    "plt.ylabel(\"Specific Heat per spin\", fontsize=20)\n",
    "\n",
    "fig.add_subplot(2, 2, 3 )\n",
    "plt.plot(temps, abs(magps), 'bo')\n",
    "plt.xlabel(\"Temperature\", fontsize=20)\n",
    "plt.ylabel(\"Magnetization per spin\", fontsize=20)\n",
    "\n",
    "fig.add_subplot(2, 2, 4 )\n",
    "plt.plot(temps, mag_sus, 'bo')\n",
    "plt.xlabel(\"Temperature\", fontsize=20)\n",
    "plt.ylabel(\"Susceptibility\", fontsize=20)"
   ]
  },
  {
   "cell_type": "code",
   "execution_count": 94,
   "metadata": {},
   "outputs": [],
   "source": [
    "eneps15 = open(\"eneps15.npy\", \"w+\")\n",
    "np.save(\"eneps15.npy\", eneps)"
   ]
  },
  {
   "cell_type": "code",
   "execution_count": 98,
   "metadata": {},
   "outputs": [],
   "source": [
    "magps15 = open(\"magps15.npy\", \"w+\")\n",
    "spec_heat15 = open(\"spec_heat15.npy\", \"w+\")\n",
    "mag_sus15 = open(\"mag_sus15.npy\", \"w+\")"
   ]
  },
  {
   "cell_type": "code",
   "execution_count": 99,
   "metadata": {},
   "outputs": [],
   "source": [
    "np.save(\"magps15.npy\", magps)\n",
    "np.save(\"spec_heat15.npy\", spec_heat)\n",
    "np.save(\"mag_sus15.npy\", mag_sus)"
   ]
  },
  {
   "cell_type": "markdown",
   "metadata": {},
   "source": [
    "Although our grid is relatively small (15 $\\times$ 15), we are still able to extract some good information because each average is computed from 1000 values."
   ]
  },
  {
   "cell_type": "code",
   "execution_count": 110,
   "metadata": {
    "scrolled": true
   },
   "outputs": [
    {
     "data": {
      "text/plain": [
       "2.288354027642459"
      ]
     },
     "execution_count": 110,
     "metadata": {},
     "output_type": "execute_result"
    }
   ],
   "source": [
    "# roughly approximating the critical temperature by just looking at the peaks of specific heat and susceptibility\n",
    "ci_max = np.argmax(spec_heat)\n",
    "si_max = np.argmax(mag_sus)\n",
    "\n",
    "(temps[ci_max] + temps[si_max])/2"
   ]
  },
  {
   "cell_type": "markdown",
   "metadata": {},
   "source": [
    "The downside of so many temperature points is that it is hard to fit a curve to the data using standard techniques. We repeat the process for fewer temperature points, but increasing the size of the lattice to compensate."
   ]
  },
  {
   "cell_type": "code",
   "execution_count": 114,
   "metadata": {},
   "outputs": [
    {
     "name": "stdout",
     "output_type": "stream",
     "text": [
      "485.99698972702026\n"
     ]
    }
   ],
   "source": [
    "# exploring the temperature range around the critical temp\n",
    "\n",
    "t_crit = 2.269\n",
    "temps30 = [i for i in np.arange(1, 3.5, 0.1)]\n",
    "t_points30 = len(temps30)\n",
    "\n",
    "# initialize lists\n",
    "eneps30 = np.zeros(t_points30)\n",
    "magps30 = np.zeros(t_points30)\n",
    "spec_heat30 = np.zeros(t_points30)\n",
    "mag_sus30 = np.zeros(t_points30)\n",
    "\n",
    "# initialize to T = 0\n",
    "test = 1*np.ones((30,30))      \n",
    "init = test[:,:]\n",
    "\n",
    "# rough estimate for equilibration time; 5*N many sweeps\n",
    "n_eq = 5*30**2\n",
    "\n",
    "# number of sweeps to average over\n",
    "n = 1000\n",
    "\n",
    "# factors for averaging\n",
    "n1 = 1/(n * 30**2)\n",
    "n2 = 1/(n**2 * 30**2)\n",
    "\n",
    "start = time.time()\n",
    "\n",
    "grid = copy.copy(init)\n",
    "\n",
    "for i in range(t_points30):\n",
    "    T = temps30[i]\n",
    "    boltz = {\"4.0\" : np.exp(-8/T), \"2.0\" : np.exp(-4/T)}\n",
    "    \n",
    "    for j in range(n_eq):\n",
    "        mc_sweep(grid, boltz)         # fewer function calls than stepping n_eq * N times, so faster\n",
    "    \n",
    "    # initialize the totals that will be used to compute averages\n",
    "    e_total = 0\n",
    "    e2_total = 0\n",
    "    mag_total = 0\n",
    "    mag2_total= 0\n",
    "    \n",
    "    # measurements to average\n",
    "    for k in range(n):\n",
    "        mc_sweep(grid, boltz)\n",
    "        energy = ising_energy(grid)             # only taking measurements every sweep\n",
    "        mag = np.sum(grid)\n",
    "        \n",
    "        e_total += energy\n",
    "        e2_total += energy*energy\n",
    "        mag_total += mag\n",
    "        mag2_total += mag*mag\n",
    "    \n",
    "    # compute averages\n",
    "    eneps30[i] = n1*e_total\n",
    "    magps30[i] = n1*mag_total\n",
    "    spec_heat30[i] = (n1*e2_total - n2*e_total*e_total)/(T*T)\n",
    "    mag_sus30[i] = (n1*mag2_total - n2*mag_total*mag_total)/T\n",
    "        \n",
    "        \n",
    "end = time.time()\n",
    "print(end - start)"
   ]
  },
  {
   "cell_type": "code",
   "execution_count": 212,
   "metadata": {},
   "outputs": [
    {
     "data": {
      "text/plain": [
       "Text(0,0.5,'Susceptibility')"
      ]
     },
     "execution_count": 212,
     "metadata": {},
     "output_type": "execute_result"
    },
    {
     "data": {
      "image/png": "[encoded data removed]",
      "text/plain": [
       "<matplotlib.figure.Figure at 0x1a201503eb8>"
      ]
     },
     "metadata": {},
     "output_type": "display_data"
    }
   ],
   "source": [
    "fig = plt.figure(figsize=(18, 10)) # plot the calculated values    \n",
    "\n",
    "fig.add_subplot(2, 2, 1 )\n",
    "plt.plot(temps30, eneps30, 'ro')\n",
    "plt.xlabel(\"Temperature\", fontsize=20)\n",
    "plt.ylabel(\"Energy per spin\", fontsize=20)\n",
    "\n",
    "fig.add_subplot(2, 2, 2 )\n",
    "plt.plot(temps30, spec_heat30, 'ro')\n",
    "plt.xlabel(\"Temperature\", fontsize=20)\n",
    "plt.ylabel(\"Specific Heat per spin\", fontsize=20)\n",
    "\n",
    "fig.add_subplot(2, 2, 3 )\n",
    "plt.plot(temps30, abs(magps30), 'bo')\n",
    "plt.xlabel(\"Temperature\", fontsize=20)\n",
    "plt.ylabel(\"Magnetization per spin\", fontsize=20)\n",
    "\n",
    "fig.add_subplot(2, 2, 4 )\n",
    "plt.plot(temps30, mag_sus30, 'bo')\n",
    "plt.xlabel(\"Temperature\", fontsize=20)\n",
    "plt.ylabel(\"Susceptibility\", fontsize=20)"
   ]
  },
  {
   "cell_type": "code",
   "execution_count": 173,
   "metadata": {},
   "outputs": [
    {
     "data": {
      "text/plain": [
       "[0.5592772146319965,\n",
       " 0.5152049360951961,\n",
       " 0.47113265755839573,\n",
       " 0.4270603790215953,\n",
       " 0.3829881004847949,\n",
       " 0.3389158219479946,\n",
       " 0.2948435434111942,\n",
       " 0.2507712648743938,\n",
       " 0.2066989863375934,\n",
       " 0.162626707800793,\n",
       " 0.11855442926399261,\n",
       " 0.07448215072719222,\n",
       " 0.03040987219039183]"
      ]
     },
     "execution_count": 173,
     "metadata": {},
     "output_type": "execute_result"
    }
   ],
   "source": [
    "red_temp = [(t_crit-t)/t_crit for t in temps30]\n",
    "\n",
    "red_temp[0:13]"
   ]
  },
  {
   "cell_type": "code",
   "execution_count": 206,
   "metadata": {
    "scrolled": true
   },
   "outputs": [],
   "source": [
    "log_mag = np.log(np.array(abs(magps30)[10:13]))"
   ]
  },
  {
   "cell_type": "code",
   "execution_count": 208,
   "metadata": {},
   "outputs": [
    {
     "data": {
      "text/plain": [
       "array([-0.09467949, -0.13250081, -0.2550557 ])"
      ]
     },
     "execution_count": 208,
     "metadata": {},
     "output_type": "execute_result"
    }
   ],
   "source": [
    "log_mag"
   ]
  },
  {
   "cell_type": "code",
   "execution_count": 168,
   "metadata": {},
   "outputs": [],
   "source": [
    "def f(x, a, b):\n",
    "    return a*x + b"
   ]
  },
  {
   "cell_type": "code",
   "execution_count": 194,
   "metadata": {},
   "outputs": [],
   "source": [
    "def c(x, a, b, c):\n",
    "    return a*(x**b)+c"
   ]
  },
  {
   "cell_type": "code",
   "execution_count": 209,
   "metadata": {
    "scrolled": true
   },
   "outputs": [
    {
     "ename": "RuntimeError",
     "evalue": "Optimal parameters not found: Number of calls to function has reached maxfev = 800.",
     "output_type": "error",
     "traceback": [
      "\u001b[1;31m---------------------------------------------------------------------------\u001b[0m",
      "\u001b[1;31mRuntimeError\u001b[0m                              Traceback (most recent call last)",
      "\u001b[1;32m<ipython-input-209-a87a65fc9ee1>\u001b[0m in \u001b[0;36m<module>\u001b[1;34m()\u001b[0m\n\u001b[1;32m----> 1\u001b[1;33m \u001b[0mscipy\u001b[0m\u001b[1;33m.\u001b[0m\u001b[0moptimize\u001b[0m\u001b[1;33m.\u001b[0m\u001b[0mcurve_fit\u001b[0m\u001b[1;33m(\u001b[0m\u001b[0mc\u001b[0m\u001b[1;33m,\u001b[0m \u001b[0mred_temp\u001b[0m\u001b[1;33m[\u001b[0m\u001b[1;36m10\u001b[0m\u001b[1;33m:\u001b[0m\u001b[1;36m13\u001b[0m\u001b[1;33m]\u001b[0m\u001b[1;33m,\u001b[0m \u001b[0mlog_mag\u001b[0m\u001b[1;33m)\u001b[0m\u001b[1;33m\u001b[0m\u001b[0m\n\u001b[0m",
      "\u001b[1;32m~\\Anaconda3\\lib\\site-packages\\scipy\\optimize\\minpack.py\u001b[0m in \u001b[0;36mcurve_fit\u001b[1;34m(f, xdata, ydata, p0, sigma, absolute_sigma, check_finite, bounds, method, jac, **kwargs)\u001b[0m\n\u001b[0;32m    744\u001b[0m         \u001b[0mcost\u001b[0m \u001b[1;33m=\u001b[0m \u001b[0mnp\u001b[0m\u001b[1;33m.\u001b[0m\u001b[0msum\u001b[0m\u001b[1;33m(\u001b[0m\u001b[0minfodict\u001b[0m\u001b[1;33m[\u001b[0m\u001b[1;34m'fvec'\u001b[0m\u001b[1;33m]\u001b[0m \u001b[1;33m**\u001b[0m \u001b[1;36m2\u001b[0m\u001b[1;33m)\u001b[0m\u001b[1;33m\u001b[0m\u001b[0m\n\u001b[0;32m    745\u001b[0m         \u001b[1;32mif\u001b[0m \u001b[0mier\u001b[0m \u001b[1;32mnot\u001b[0m \u001b[1;32min\u001b[0m \u001b[1;33m[\u001b[0m\u001b[1;36m1\u001b[0m\u001b[1;33m,\u001b[0m \u001b[1;36m2\u001b[0m\u001b[1;33m,\u001b[0m \u001b[1;36m3\u001b[0m\u001b[1;33m,\u001b[0m \u001b[1;36m4\u001b[0m\u001b[1;33m]\u001b[0m\u001b[1;33m:\u001b[0m\u001b[1;33m\u001b[0m\u001b[0m\n\u001b[1;32m--> 746\u001b[1;33m             \u001b[1;32mraise\u001b[0m \u001b[0mRuntimeError\u001b[0m\u001b[1;33m(\u001b[0m\u001b[1;34m\"Optimal parameters not found: \"\u001b[0m \u001b[1;33m+\u001b[0m \u001b[0merrmsg\u001b[0m\u001b[1;33m)\u001b[0m\u001b[1;33m\u001b[0m\u001b[0m\n\u001b[0m\u001b[0;32m    747\u001b[0m     \u001b[1;32melse\u001b[0m\u001b[1;33m:\u001b[0m\u001b[1;33m\u001b[0m\u001b[0m\n\u001b[0;32m    748\u001b[0m         \u001b[1;31m# Rename maxfev (leastsq) to max_nfev (least_squares), if specified.\u001b[0m\u001b[1;33m\u001b[0m\u001b[1;33m\u001b[0m\u001b[0m\n",
      "\u001b[1;31mRuntimeError\u001b[0m: Optimal parameters not found: Number of calls to function has reached maxfev = 800."
     ]
    }
   ],
   "source": [
    "scipy.optimize.curve_fit(c, red_temp[10:13], log_mag)"
   ]
  },
  {
   "cell_type": "code",
   "execution_count": null,
   "metadata": {},
   "outputs": [],
   "source": []
  }
 ],
 "metadata": {
  "kernelspec": {
   "display_name": "Python 3",
   "language": "python",
   "name": "python3"
  },
  "language_info": {
   "codemirror_mode": {
    "name": "ipython",
    "version": 3
   },
   "file_extension": ".py",
   "mimetype": "text/x-python",
   "name": "python",
   "nbconvert_exporter": "python",
   "pygments_lexer": "ipython3",
   "version": "3.6.4"
  }
 },
 "nbformat": 4,
 "nbformat_minor": 2
}
