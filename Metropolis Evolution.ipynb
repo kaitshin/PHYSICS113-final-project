{
 "cells": [
  {
   "cell_type": "code",
   "execution_count": 1,
   "metadata": {},
   "outputs": [],
   "source": [
    "from matplotlib import pyplot as plt\n",
    "from IPython import display\n",
    "import numpy as np\n",
    "import random\n",
    "from matplotlib import colors\n",
    "import copy\n",
    "import time\n",
    "import scipy.optimize\n",
    "\n",
    "%matplotlib inline"
   ]
  },
  {
   "cell_type": "code",
   "execution_count": 147,
   "metadata": {},
   "outputs": [],
   "source": [
    "# assumes periodic BCs\n",
    "def metropolis_ising(init, boltz):\n",
    "    \"\"\"Returns a mesh evolved by one step of applying the Metropolis algorithm, the energy change, \n",
    "    and the magnetization change\"\"\"\n",
    "    \n",
    "    mesh = copy.copy(init)\n",
    "    \n",
    "    X = np.shape(mesh)[1]\n",
    "    Y = np.shape(mesh)[0]\n",
    "    \n",
    "    # select random spin from the input spin mesh\n",
    "    x = random.choice(range(X))\n",
    "    y = random.choice(range(Y))\n",
    "    \n",
    "    # applying the metropolis algorithm\n",
    "    spin_sum = int(mesh[(y+1) % Y,x ] + mesh[y ,(x+1) % X] + mesh[(y-1) % Y,x ] + mesh[y ,(x-1) % X])\n",
    "    d_energy = 2*mesh[y,x] * spin_sum\n",
    "    \n",
    "    if d_energy <= 0:\n",
    "        mesh[y,x] = -1*mesh[y,x]\n",
    "        d_mag = 2*mesh[y,x]\n",
    "        \n",
    "    elif random.uniform(0,1) < boltz[str(abs(spin_sum))]:\n",
    "        mesh[y,x] = -1*mesh[y,x]\n",
    "        d_mag = 2*mesh[y,x]\n",
    "        \n",
    "    else:\n",
    "        d_energy = 0\n",
    "        d_mag = 0\n",
    "        \n",
    "\n",
    "    return [mesh, d_energy, d_mag]"
   ]
  },
  {
   "cell_type": "code",
   "execution_count": 32,
   "metadata": {},
   "outputs": [],
   "source": [
    "def plot_ising_grid(init, title):\n",
    "    \"\"\"Creates a discrete colormap for an input Ising grid, red for up (1) and blue for down (-1)\"\"\"\n",
    "    X = np.shape(init)[1]\n",
    "    Y = np.shape(init)[0]\n",
    "    \n",
    "    cmap = colors.ListedColormap(['blue', 'red'])\n",
    "    bounds = [0,1,1]\n",
    "    norm = colors.BoundaryNorm(bounds, cmap.N)\n",
    "    \n",
    "    fig, ax = plt.subplots(figsize=(8,8))\n",
    "    plt.imshow(init, cmap=cmap, norm=norm)\n",
    "    plt.title(title, fontsize=20)\n",
    "    ax.tick_params(axis='x', which='both', bottom=False, top=False, labelbottom=False)\n",
    "    ax.tick_params(axis='y', which='both', left=False, right=False, labelleft=False)\n",
    "\n",
    "    display.clear_output(wait = True)\n",
    "\n",
    "    plt.show()"
   ]
  },
  {
   "cell_type": "code",
   "execution_count": 4,
   "metadata": {},
   "outputs": [],
   "source": [
    "def mc_step(init, boltz, n, plot = False, final_only = False):\n",
    "    \"\"\"Plots n-step evolution of an Ising model using Metropolis and returns the final grid\"\"\"\n",
    "    \n",
    "    grid = init[:,:]\n",
    "    \n",
    "    for i in range(n):    \n",
    "        # evolve using metropolis\n",
    "        evo = metropolis_ising(grid, boltz)[0]\n",
    "        \n",
    "        if plot == True:\n",
    "            # plotting\n",
    "            if final_only == False:    \n",
    "                plot_ising_grid(evo, f'2D Ising Model; n = {i+1}')\n",
    "\n",
    "\n",
    "            else:\n",
    "                if i == n-1:\n",
    "                    plot_ising_grid(evo, f'2D Ising Model; n = {i+1}')\n",
    "        \n",
    "        # reset iteration variable\n",
    "        grid = evo[:,:]\n",
    "        \n",
    "    return grid"
   ]
  },
  {
   "cell_type": "code",
   "execution_count": 139,
   "metadata": {},
   "outputs": [],
   "source": [
    "# variant of the above that only returns the grid after 1 sweep\n",
    "# faster than the single-step program when simulating for very long times\n",
    "def mc_sweep_af(init, boltz):\n",
    "    \n",
    "    grid = init[:,:]\n",
    "    \n",
    "    X = np.shape(grid)[1]\n",
    "    Y = np.shape(grid)[0]\n",
    "    \n",
    "    for j in range(X):\n",
    "        for i in range(Y):\n",
    "            x = np.random.randint(X)\n",
    "            y = np.random.randint(Y)\n",
    "            spin = grid[y,x]\n",
    "            \n",
    "            spin_sum = grid[(y+1) % Y,x ] + grid[y ,(x+1) % X] + grid[(y-1) % Y,x ] + grid[y ,(x-1) % X]\n",
    "            d_energy = -2 * spin * spin_sum\n",
    "\n",
    "            if d_energy <= 0:\n",
    "                grid[y,x] = -1*grid[y,x]\n",
    "              #  d_mag = 2*grid[y,x]\n",
    "\n",
    "            elif random.uniform(0,1) < boltz[str(abs(spin_sum))]:\n",
    "                grid[y,x] = -1*grid[y,x]\n",
    "            #    d_mag = 2*grid[y,x]\n",
    "\n",
    "           # else:\n",
    "           #     d_energy = 0\n",
    "           #     d_mag = 0\n",
    "        \n",
    "    return grid\n",
    "                \n",
    "    "
   ]
  },
  {
   "cell_type": "code",
   "execution_count": 20,
   "metadata": {},
   "outputs": [],
   "source": [
    "# variant of the above that only returns the grid after 1 sweep\n",
    "# faster than the single-step program when simulating for very long times\n",
    "def mc_sweep(init, boltz):\n",
    "    \n",
    "    grid = init[:,:]\n",
    "    \n",
    "    X = np.shape(grid)[1]\n",
    "    Y = np.shape(grid)[0]\n",
    "    \n",
    "    for j in range(X):\n",
    "        for i in range(Y):\n",
    "            x = np.random.randint(X)\n",
    "            y = np.random.randint(Y)\n",
    "            spin = grid[y,x]\n",
    "            \n",
    "            spin_sum = grid[(y+1) % Y,x ] + grid[y ,(x+1) % X] + grid[(y-1) % Y,x ] + grid[y ,(x-1) % X]\n",
    "            d_energy = 2 * spin * spin_sum\n",
    "\n",
    "            if d_energy <= 0:\n",
    "                grid[y,x] = -1*grid[y,x]\n",
    "              #  d_mag = 2*grid[y,x]\n",
    "\n",
    "            elif random.uniform(0,1) < boltz[str(abs(spin_sum))]:\n",
    "                grid[y,x] = -1*grid[y,x]\n",
    "            #    d_mag = 2*grid[y,x]\n",
    "\n",
    "           # else:\n",
    "           #     d_energy = 0\n",
    "           #     d_mag = 0\n",
    "        \n",
    "    return grid\n",
    "                \n",
    "    "
   ]
  },
  {
   "cell_type": "code",
   "execution_count": 72,
   "metadata": {},
   "outputs": [],
   "source": [
    "def mult_sweeps(init, boltz, N, plot = False, title = None):\n",
    "    \"\"\"Similar to mc_sweep, but plotting per sweep\"\"\"\n",
    "    \n",
    "    grid = copy.copy(init)\n",
    "    \n",
    "    for n in range(N):\n",
    "        mc_sweep(grid, boltz)\n",
    "    \n",
    "    if plot == True:\n",
    "        plot_ising_grid(grid, title)\n",
    "        \n",
    "    return grid"
   ]
  },
  {
   "cell_type": "code",
   "execution_count": 141,
   "metadata": {},
   "outputs": [],
   "source": [
    "def mult_sweeps_af(init, boltz, N, plot = False, title = None):\n",
    "    \"\"\"Similar to mc_sweep, but plotting per sweep\"\"\"\n",
    "    \n",
    "    grid = copy.copy(init)\n",
    "    \n",
    "    for n in range(N):\n",
    "        mc_sweep_af(grid, boltz)\n",
    "    \n",
    "    if plot == True:\n",
    "        plot_ising_grid(grid, title)\n",
    "        \n",
    "    return grid"
   ]
  },
  {
   "cell_type": "code",
   "execution_count": 6,
   "metadata": {},
   "outputs": [],
   "source": [
    "def ising_energy(init):\n",
    "    \"\"\"Computes the energy of a 2D square lattice in the Ising model\"\"\"\n",
    "    \n",
    "    X = np.shape(init)[1]\n",
    "    Y = np.shape(init)[0]\n",
    "    \n",
    "    energy = 0\n",
    "    \n",
    "    for i in range(Y):\n",
    "        for j in range(X):\n",
    "            energy += -1 * init[i,j] * (init[(i+1) % Y ,j] + init[(i-1) % Y,j] + init[i,(j+1) % X] + init[i,(j-1) % X])\n",
    "            \n",
    "    energy = energy/2\n",
    "    \n",
    "    return energy"
   ]
  },
  {
   "cell_type": "code",
   "execution_count": null,
   "metadata": {},
   "outputs": [],
   "source": [
    "def energy_evo(init, boltz, n, plot = True):\n",
    "    \"\"\"Returns a list of energies for a 2D Ising grid from every timestep and plots the list\"\"\"\n",
    "\n",
    "    X = np.shape(init)[1]\n",
    "    Y = np.shape(init)[0]\n",
    "    total = X*Y\n",
    "    \n",
    "    grid = init[:,:]\n",
    "    \n",
    "    # energy\n",
    "    energy = ising_energy(grid)\n",
    "    energy_list = [energy]\n",
    "    \n",
    "    # evolution\n",
    "    for i in range(n):\n",
    "        evo, d_energy, d_mag = metropolis_ising(grid, boltz)\n",
    "        \n",
    "        # increment energy\n",
    "        energy += d_energy\n",
    "        energy_list.append(energy)\n",
    "    \n",
    "        # reset iteration variable\n",
    "        grid = evo[:,:]\n",
    "    \n",
    "    if plot == True:\n",
    "        # plotting\n",
    "        x_axis = [i/total for i in range(n+1)]\n",
    "\n",
    "        plt.figure(figsize=(6,6))\n",
    "        plt.plot(x_axis,energy_list)\n",
    "        plt.tick_params(axis='both', which='major', labelsize=12)\n",
    "        plt.xlabel('Sweeps', fontsize=20)\n",
    "        plt.ylabel('Energy', fontsize=20)\n",
    "        plt.title(f'Energy of Ising Grid', fontsize=20)\n",
    "\n",
    "    return energy_list"
   ]
  },
  {
   "cell_type": "code",
   "execution_count": 102,
   "metadata": {},
   "outputs": [],
   "source": [
    "def energy_evo_sweep(init, boltz, N, plot = True):\n",
    "    \"\"\"Same as energy_evo, but built on sweeps\"\"\"\n",
    "\n",
    "    grid = copy.copy(init)\n",
    "    \n",
    "    # energy\n",
    "    energy = ising_energy(grid)\n",
    "    energy_list = [energy]\n",
    "    \n",
    "    # evolution\n",
    "    for i in range(N):\n",
    "        mc_sweep(grid, boltz)\n",
    "        energy_list.append(ising_energy(grid))\n",
    "    \n",
    "    if plot == True:\n",
    "        # plotting\n",
    "        x_axis = [i for i in range(N+1)]\n",
    "\n",
    "        plt.figure(figsize=(6,6))\n",
    "        plt.plot(x_axis,energy_list)\n",
    "        plt.tick_params(axis='both', which='major', labelsize=12)\n",
    "        plt.xlabel('Sweeps', fontsize=20)\n",
    "        plt.ylabel('Energy', fontsize=20)\n",
    "        plt.title(f'Energy of Ising Grid', fontsize=20)\n",
    "\n",
    "    return energy_list\n"
   ]
  },
  {
   "cell_type": "code",
   "execution_count": 8,
   "metadata": {},
   "outputs": [],
   "source": [
    "def magps(init, boltz, n, plot = True):\n",
    "    \"\"\"Returns a list of mag. per spin for a 2D Ising grid from every timestep and plots the list\"\"\"\n",
    "\n",
    "    X = np.shape(init)[1]\n",
    "    Y = np.shape(init)[0]\n",
    "    total = X*Y\n",
    "    \n",
    "    grid = init[:,:]\n",
    "    \n",
    "    # magnetization\n",
    "    mag = np.sum(grid)\n",
    "    mag_list = [mag/total]\n",
    "    \n",
    "    # evolution\n",
    "    for i in range(n):\n",
    "        evo, d_energy, d_mag = metropolis_ising(grid, boltz)\n",
    "        \n",
    "        # increment magnetization\n",
    "        mag += d_mag\n",
    "        mag_list.append(mag/total)\n",
    "    \n",
    "        # reset iteration variable\n",
    "        grid = evo[:,:]\n",
    "\n",
    "    if plot == True:\n",
    "        # plotting\n",
    "        x_axis = [i/total for i in range(n+1)]\n",
    "\n",
    "        plt.figure(figsize=(6,6))\n",
    "        plt.plot(x_axis,mag_list)\n",
    "        plt.tick_params(axis='both', which='major', labelsize=12)\n",
    "        plt.xlabel('Sweeps', fontsize=20)\n",
    "        plt.ylabel('Magnetization per Spin', fontsize=20)\n",
    "        plt.title(f'Magnetization per Spin of Ising Grid', fontsize=20)\n",
    "    \n",
    "    \n",
    "    return mag_list"
   ]
  },
  {
   "cell_type": "code",
   "execution_count": 92,
   "metadata": {},
   "outputs": [],
   "source": [
    "random.seed(1)\n",
    "test = np.random.randint(2, size=(70, 70))\n",
    "\n",
    "for i in range(70):\n",
    "    for j in range(70):\n",
    "        if test[i,j] == 0:\n",
    "            test[i,j] = -1"
   ]
  },
  {
   "cell_type": "code",
   "execution_count": 93,
   "metadata": {},
   "outputs": [],
   "source": [
    "init = test[:,:]\n",
    "\n",
    "T = 0.01\n",
    "test_boltz = {\"4\" : np.exp(-8/T), \"2\" : np.exp(-4/T)}"
   ]
  },
  {
   "cell_type": "code",
   "execution_count": 140,
   "metadata": {},
   "outputs": [
    {
     "data": {
      "image/png": "[encoded data removed]",
      "text/plain": [
       "<matplotlib.figure.Figure at 0x245d3605668>"
      ]
     },
     "metadata": {},
     "output_type": "display_data"
    },
    {
     "data": {
      "text/plain": [
       "array([[-1, -1,  1, ..., -1, -1, -1],\n",
       "       [-1, -1,  1, ..., -1, -1, -1],\n",
       "       [ 1, -1,  1, ..., -1,  1,  1],\n",
       "       ...,\n",
       "       [ 1, -1, -1, ..., -1, -1, -1],\n",
       "       [ 1,  1, -1, ...,  1, -1, -1],\n",
       "       [-1, -1, -1, ..., -1,  1, -1]])"
      ]
     },
     "execution_count": 140,
     "metadata": {},
     "output_type": "execute_result"
    }
   ],
   "source": [
    "mult_sweeps(init, test_boltz, 1, plot = True, title = 'Ising Grid T = 0.1; N = 1',)"
   ]
  },
  {
   "cell_type": "code",
   "execution_count": 152,
   "metadata": {},
   "outputs": [
    {
     "data": {
      "image/png": "[encoded data removed]",
      "text/plain": [
       "<matplotlib.figure.Figure at 0x245d3a3eba8>"
      ]
     },
     "metadata": {},
     "output_type": "display_data"
    },
    {
     "data": {
      "text/plain": [
       "array([[ 1., -1.,  1., ...,  1., -1., -1.],\n",
       "       [-1.,  1., -1., ..., -1.,  1.,  1.],\n",
       "       [ 1., -1.,  1., ..., -1.,  1., -1.],\n",
       "       ...,\n",
       "       [ 1., -1.,  1., ..., -1.,  1., -1.],\n",
       "       [-1.,  1.,  1., ...,  1., -1.,  1.],\n",
       "       [-1.,  1., -1., ..., -1.,  1.,  1.]])"
      ]
     },
     "execution_count": 152,
     "metadata": {},
     "output_type": "execute_result"
    }
   ],
   "source": [
    "random.seed(1)\n",
    "mult_sweeps_af(ones, test_boltz, 20, plot = True, title = 'Ising Grid T = 0.1; N = 20',)"
   ]
  },
  {
   "cell_type": "code",
   "execution_count": null,
   "metadata": {},
   "outputs": [],
   "source": []
  }
 ],
 "metadata": {
  "kernelspec": {
   "display_name": "Python 3",
   "language": "python",
   "name": "python3"
  },
  "language_info": {
   "codemirror_mode": {
    "name": "ipython",
    "version": 3
   },
   "file_extension": ".py",
   "mimetype": "text/x-python",
   "name": "python",
   "nbconvert_exporter": "python",
   "pygments_lexer": "ipython3",
   "version": "3.6.4"
  }
 },
 "nbformat": 4,
 "nbformat_minor": 2
}
